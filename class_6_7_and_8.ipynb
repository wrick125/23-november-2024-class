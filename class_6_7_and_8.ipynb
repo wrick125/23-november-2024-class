{
  "nbformat": 4,
  "nbformat_minor": 0,
  "metadata": {
    "colab": {
      "provenance": [],
      "toc_visible": true,
      "include_colab_link": true
    },
    "kernelspec": {
      "name": "python3",
      "display_name": "Python 3"
    },
    "language_info": {
      "name": "python"
    }
  },
  "cells": [
    {
      "cell_type": "markdown",
      "metadata": {
        "id": "view-in-github",
        "colab_type": "text"
      },
      "source": [
        "<a href=\"https://colab.research.google.com/github/wrick125/23-november-2024-class/blob/main/class_6_7_and_8.ipynb\" target=\"_parent\"><img src=\"https://colab.research.google.com/assets/colab-badge.svg\" alt=\"Open In Colab\"/></a>"
      ]
    },
    {
      "cell_type": "markdown",
      "source": [
        "## **Class 6,7 and 8**\n",
        "\n",
        "---\n",
        "\n",
        "### **Introduction to Functions**\n",
        "\n",
        "Functions are reusable blocks of code that perform a specific task. They help you organize your code, avoid repetition, and make it more modular and readable."
      ],
      "metadata": {
        "id": "ymi__3fB9cLD"
      }
    },
    {
      "cell_type": "markdown",
      "source": [
        "###**Exploring Built-in Functions**\n",
        "\n",
        "Python comes with a rich set of built-in functions that provide common functionality and simplify many programming tasks. These functions are always available and do not require you to import any modules. They can perform various operations, from basic arithmetic to advanced data manipulation.\n",
        "\n",
        "\n"
      ],
      "metadata": {
        "id": "Qn2gXwDp-UDf"
      }
    },
    {
      "cell_type": "markdown",
      "source": [
        "### **Basic Built-in Functions**\n",
        "\n"
      ],
      "metadata": {
        "id": "Ep2eE56S-d-6"
      }
    },
    {
      "cell_type": "markdown",
      "source": [
        "#### **`print()`: Output to the Console**\n",
        "\n",
        "The `print()` function displays information to the console. You can print strings, numbers, or any other data types.\n",
        "\n",
        "```python\n",
        "# Using the print() function\n",
        "print(\"Hello, World!\")         # Output: Hello, World!\n",
        "print(42)                      # Output: 42\n",
        "print(\"The sum is:\", 7 + 5)   # Output: The sum is: 12\n",
        "```\n",
        "\n",
        "- **Explanation**: `print()` outputs the given arguments to the console, with optional separators and end characters.\n",
        "\n"
      ],
      "metadata": {
        "id": "d-i_uE8w-uFA"
      }
    },
    {
      "cell_type": "code",
      "source": [
        "# Using the print() function\n",
        "print(\"Hello, World!\")         # Output: Hello, World!\n",
        "print(42)                      # Output: 42\n",
        "print(\"The sum is:\", 7 + 5)   # Output: The sum is: 12\n",
        "\n",
        "a = input(\"Type something\")\n",
        "print(\"Typed content : \",a)\n",
        "print(type(a))"
      ],
      "metadata": {
        "colab": {
          "base_uri": "https://localhost:8080/"
        },
        "id": "pPu3eCgCDrC1",
        "outputId": "bd56b0e9-024d-43cc-b6c4-4c4ba99b884b"
      },
      "execution_count": null,
      "outputs": [
        {
          "output_type": "stream",
          "name": "stdout",
          "text": [
            "Hello, World!\n",
            "42\n",
            "The sum is: 12\n",
            "Type something45\n",
            "Typed content :  45\n",
            "<class 'str'>\n"
          ]
        }
      ]
    },
    {
      "cell_type": "markdown",
      "source": [
        "#### **`len()`: Get the Length of an Object**\n",
        "\n",
        "The `len()` function returns the number of items in an object such as a string, list, or dictionary.\n",
        "\n",
        "```python\n",
        "# Using the len() function\n",
        "print(len(\"Hello\"))           # Output: 5\n",
        "print(len([1, 2, 3, 4]))     # Output: 4\n",
        "print(len({\"a\": 1, \"b\": 2})) # Output: 2\n",
        "```\n",
        "\n",
        "- **Explanation**: `len()` provides the number of elements in a sequence or collection.\n",
        "\n"
      ],
      "metadata": {
        "id": "8mAmDTtF-kZ0"
      }
    },
    {
      "cell_type": "code",
      "source": [
        "# Using the len() function\n",
        "print(len(\"Hello\"))           # Output: 5\n",
        "print(len([1, 2, 3, 4]))     # Output: 4\n",
        "print(len({\"a\": 1, \"b\": 2})) # Output: 2\n",
        "\n",
        "\n",
        "#def len(object):\n",
        "  ## count the number of characters in the object"
      ],
      "metadata": {
        "colab": {
          "base_uri": "https://localhost:8080/"
        },
        "id": "H9VFmsdhDyrb",
        "outputId": "5aa6474c-4fc1-4a9e-b5ee-d5e9c3b982c2"
      },
      "execution_count": null,
      "outputs": [
        {
          "output_type": "stream",
          "name": "stdout",
          "text": [
            "5\n",
            "4\n",
            "2\n"
          ]
        }
      ]
    },
    {
      "cell_type": "markdown",
      "source": [
        "#### **`type()`: Get the Type of an Object**\n",
        "\n",
        "The `type()` function returns the type of an object.\n",
        "\n",
        "```python\n",
        "# Using the type() function\n",
        "print(type(\"Hello\"))          # Output: <class 'str'>\n",
        "print(type(42))               # Output: <class 'int'>\n",
        "print(type([1, 2, 3]))       # Output: <class 'list'>\n",
        "```\n",
        "\n",
        "- **Explanation**: `type()` helps determine the data type of an object.\n",
        "\n",
        "---\n",
        "\n"
      ],
      "metadata": {
        "id": "u_GH2gJD-pY7"
      }
    },
    {
      "cell_type": "code",
      "source": [
        "# Using the type() function\n",
        "print(type(\"Hello\"))          # Output: <class 'str'>\n",
        "print(type(42))               # Output: <class 'int'>\n",
        "print(type([1, 2, 3]))       # Output: <class 'list'>"
      ],
      "metadata": {
        "colab": {
          "base_uri": "https://localhost:8080/"
        },
        "id": "8FONO7icD1p6",
        "outputId": "597fca0c-77c3-4628-e46f-c6ca0a055fc5"
      },
      "execution_count": null,
      "outputs": [
        {
          "output_type": "stream",
          "name": "stdout",
          "text": [
            "<class 'str'>\n",
            "<class 'int'>\n",
            "<class 'list'>\n"
          ]
        }
      ]
    },
    {
      "cell_type": "markdown",
      "source": [
        "### **Numeric Built-in Functions**\n",
        "\n"
      ],
      "metadata": {
        "id": "VOTAocBD-2fK"
      }
    },
    {
      "cell_type": "markdown",
      "source": [
        "#### **`abs()`: Absolute Value**\n",
        "\n",
        "The `abs()` function returns the absolute value of a number.\n",
        "\n",
        "```python\n",
        "# Using the abs() function\n",
        "print(abs(-10))    # Output: 10\n",
        "print(abs(3.14))   # Output: 3.14\n",
        "```\n",
        "\n",
        "- **Explanation**: `abs()` returns the non-negative value of its argument.\n",
        "\n"
      ],
      "metadata": {
        "id": "Lq_CVwDS-9u5"
      }
    },
    {
      "cell_type": "code",
      "source": [
        "# Using the abs() function\n",
        "print(abs(-10))    # Output: 10\n",
        "print(abs(3.14))   # Output: 3.14"
      ],
      "metadata": {
        "colab": {
          "base_uri": "https://localhost:8080/"
        },
        "id": "dtrbUTgJD46x",
        "outputId": "96dfe6d3-7086-4da9-856d-7f951e7d147f"
      },
      "execution_count": null,
      "outputs": [
        {
          "output_type": "stream",
          "name": "stdout",
          "text": [
            "10\n",
            "3.14\n"
          ]
        }
      ]
    },
    {
      "cell_type": "markdown",
      "source": [
        "#### **`round()`: Round a Number**\n",
        "\n",
        "The `round()` function rounds a floating-point number to a specified number of decimal places.\n",
        "\n",
        "```python\n",
        "# Using the round() function\n",
        "print(round(3.14159, 2))  # Output: 3.14\n",
        "print(round(2.71828))    # Output: 3\n",
        "```\n",
        "\n",
        "- **Explanation**: `round()` can round to the nearest integer or to a specified number of decimal places.\n",
        "\n",
        "---\n",
        "\n"
      ],
      "metadata": {
        "id": "fWixav8I_Flg"
      }
    },
    {
      "cell_type": "code",
      "source": [
        "# Using the round() function\n",
        "print(round(3.14759, 2))  # Output: 3.14\n",
        "print(round(2.61828))    # Output: 3"
      ],
      "metadata": {
        "colab": {
          "base_uri": "https://localhost:8080/"
        },
        "id": "gKqaIe3CD7i_",
        "outputId": "a854d184-6473-47d5-c8df-7e83c4c7ff19"
      },
      "execution_count": null,
      "outputs": [
        {
          "output_type": "stream",
          "name": "stdout",
          "text": [
            "3.15\n",
            "3\n"
          ]
        }
      ]
    },
    {
      "cell_type": "markdown",
      "source": [
        "### **String Built-in Functions**\n"
      ],
      "metadata": {
        "id": "668pff95_LHg"
      }
    },
    {
      "cell_type": "markdown",
      "source": [
        "#### **`str()`: Convert to String**\n",
        "\n",
        "The `str()` function converts an object to a string representation.\n",
        "\n",
        "```python\n",
        "# Using the str() function\n",
        "print(str(100))       # Output: '100'\n",
        "print(str(3.14))      # Output: '3.14'\n",
        "print(str([1, 2, 3])) # Output: '[1, 2, 3]'\n",
        "```\n",
        "\n",
        "- **Explanation**: `str()` is useful for converting non-string objects to strings.\n",
        "\n"
      ],
      "metadata": {
        "id": "APeI7uAE_RUR"
      }
    },
    {
      "cell_type": "code",
      "source": [
        "# Using the str() function\n",
        "print(str(100))       # Output: '100'\n",
        "print(str(3.14))      # Output: '3.14'\n",
        "print(str([1, 2, 3])) # Output: '[1, 2, 3]'"
      ],
      "metadata": {
        "colab": {
          "base_uri": "https://localhost:8080/"
        },
        "id": "YwrHP8HeD-oq",
        "outputId": "f34dba4e-f9f4-448a-8285-3b7b25a90644"
      },
      "execution_count": null,
      "outputs": [
        {
          "output_type": "stream",
          "name": "stdout",
          "text": [
            "100\n",
            "3.14\n",
            "[1, 2, 3]\n"
          ]
        }
      ]
    },
    {
      "cell_type": "markdown",
      "source": [
        "#### **`upper()`, `lower()`, `capitalize()`: String Case Methods**\n",
        "\n",
        "```python\n",
        "# Using string case methods\n",
        "text = \"hello world\"\n",
        "print(text.upper())    # Output: \"HELLO WORLD\"\n",
        "print(text.lower())    # Output: \"hello world\"\n",
        "print(text.capitalize()) # Output: \"Hello world\"\n",
        "```\n",
        "\n",
        "- **Explanation**: These methods are used to change the case of strings.\n",
        "\n"
      ],
      "metadata": {
        "id": "yW5fcARG_XTl"
      }
    },
    {
      "cell_type": "code",
      "source": [
        "# Using string case methods\n",
        "text = \"hello world.i am new to python\"\n",
        "print(text.upper())    # Output: \"HELLO WORLD\"\n",
        "print(text.lower())    # Output: \"hello world\"\n",
        "print(text.capitalize()) # Output: \"Hello world\"\n",
        "\n",
        "print(text)"
      ],
      "metadata": {
        "colab": {
          "base_uri": "https://localhost:8080/"
        },
        "id": "plYqH2-pECI_",
        "outputId": "83a89485-ea4c-4ea7-e07b-f9cb26749f47"
      },
      "execution_count": null,
      "outputs": [
        {
          "output_type": "stream",
          "name": "stdout",
          "text": [
            "HELLO WORLD.I AM NEW TO PYTHON\n",
            "hello world.i am new to python\n",
            "Hello world.i am new to python\n",
            "hello world.i am new to python\n"
          ]
        }
      ]
    },
    {
      "cell_type": "markdown",
      "source": [
        "### **Collection Built-in Functions**\n",
        "\n"
      ],
      "metadata": {
        "id": "fhVuKYGU_ekZ"
      }
    },
    {
      "cell_type": "markdown",
      "source": [
        "#### **`sorted()`: Sort a Collection**\n",
        "\n",
        "The `sorted()` function returns a new sorted list from the items in any iterable.\n",
        "\n",
        "```python\n",
        "# Using the sorted() function\n",
        "numbers = [4, 2, 9, 1, 5]\n",
        "print(sorted(numbers))   # Output: [1, 2, 4, 5, 9]\n",
        "```\n",
        "\n",
        "- **Explanation**: `sorted()` returns a new sorted list without modifying the original iterable.\n",
        "\n"
      ],
      "metadata": {
        "id": "YPVDw-Rq_liR"
      }
    },
    {
      "cell_type": "code",
      "source": [
        "# Using the sorted() function\n",
        "numbers = [4, 2, 9, 1, 5]\n",
        "print(sorted(numbers))   # Output: [1, 2, 4, 5, 9]\n",
        "\n",
        "print(numbers)"
      ],
      "metadata": {
        "colab": {
          "base_uri": "https://localhost:8080/"
        },
        "id": "p0kCT4a4EEfD",
        "outputId": "63067b74-9a9d-496d-8a22-6d669cad975c"
      },
      "execution_count": null,
      "outputs": [
        {
          "output_type": "stream",
          "name": "stdout",
          "text": [
            "[1, 2, 4, 5, 9]\n",
            "[4, 2, 9, 1, 5]\n"
          ]
        }
      ]
    },
    {
      "cell_type": "markdown",
      "source": [
        "#### **`sum()`: Sum of All Items**\n",
        "\n",
        "The `sum()` function returns the sum of all items in an iterable.\n",
        "\n",
        "```python\n",
        "# Using the sum() function\n",
        "numbers = [1, 2, 3, 4]\n",
        "print(sum(numbers))    # Output: 10\n",
        "```\n",
        "\n",
        "- **Explanation**: `sum()` calculates the total sum of numeric items in an iterable.\n",
        "\n"
      ],
      "metadata": {
        "id": "YGoULW3H_uvS"
      }
    },
    {
      "cell_type": "code",
      "source": [
        "# Using the sum() function\n",
        "numbers = [1, 2, 3, 4,200,500,100]\n",
        "print(sum(numbers))    # Output: 10"
      ],
      "metadata": {
        "colab": {
          "base_uri": "https://localhost:8080/"
        },
        "id": "w2YfbF6WEG7s",
        "outputId": "16270c4c-1719-42da-ddf5-c3bba1207175"
      },
      "execution_count": null,
      "outputs": [
        {
          "output_type": "stream",
          "name": "stdout",
          "text": [
            "810\n"
          ]
        }
      ]
    },
    {
      "cell_type": "markdown",
      "source": [
        "#### **`max()` and `min()`: Maximum and Minimum Values**\n",
        "\n",
        "```python\n",
        "# Using the max() and min() functions\n",
        "numbers = [1, 2, 3, 4, 5]\n",
        "print(max(numbers))    # Output: 5\n",
        "print(min(numbers))    # Output: 1\n",
        "```\n",
        "\n",
        "- **Explanation**: `max()` returns the largest item, while `min()` returns the smallest item in an iterable.\n",
        "\n"
      ],
      "metadata": {
        "id": "xQryxN0D_zjr"
      }
    },
    {
      "cell_type": "code",
      "source": [
        "# Using the max() and min() functions\n",
        "numbers = [1, 2, 3, 4, 5]\n",
        "print(max(numbers))    # Output: 5\n",
        "print(min(numbers))    # Output: 1"
      ],
      "metadata": {
        "colab": {
          "base_uri": "https://localhost:8080/"
        },
        "id": "p5vdDtryEJTs",
        "outputId": "638aec74-7020-4346-9f26-30f74c85cf35"
      },
      "execution_count": null,
      "outputs": [
        {
          "output_type": "stream",
          "name": "stdout",
          "text": [
            "5\n",
            "1\n"
          ]
        }
      ]
    },
    {
      "cell_type": "markdown",
      "source": [
        "### **DIY Challenge: Using Built-in Functions**\n",
        "\n",
        "**Challenge:**\n",
        "Create a program that performs the following tasks using built-in functions:\n",
        "\n",
        "1. **Input a list of numbers** from the user.\n",
        "2. **Calculate and display** the sum, maximum, and minimum values of the list.\n",
        "3. **Sort the list** and display the sorted result.\n",
        "4. **Convert the list to a string** and print it.\n",
        "\n",
        "Here’s a structure to get you started:\n",
        "\n",
        "```python\n",
        "# Input numbers from the user\n",
        "numbers_input = input(\"Enter a list of numbers separated by spaces: \")\n",
        "numbers = [float(x) for x in numbers_input.split()]\n",
        "\n",
        "# Calculate sum, max, and min\n",
        "total = sum(numbers)\n",
        "maximum = max(numbers)\n",
        "minimum = min(numbers)\n",
        "\n",
        "# Sort the list\n",
        "sorted_numbers = sorted(numbers)\n",
        "\n",
        "# Convert list to string\n",
        "numbers_str = str(numbers)\n",
        "\n",
        "# Print results\n",
        "print(f\"Sum: {total}\")\n",
        "print(f\"Max: {maximum}\")\n",
        "print(f\"Min: {minimum}\")\n",
        "print(f\"Sorted List: {sorted_numbers}\")\n",
        "print(f\"List as String: {numbers_str}\")\n",
        "```\n",
        "\n",
        "- **Explanation**:\n",
        "  - Use `input()` to get a list of numbers from the user.\n",
        "  - Convert the input string to a list of floats using a list comprehension.\n",
        "  - Use `sum()`, `max()`, and `min()` to calculate the respective values.\n",
        "  - Use `sorted()` to sort the list.\n",
        "  - Convert the list to a string with `str()` and print all results."
      ],
      "metadata": {
        "id": "FZsK5_O6CVqI"
      }
    },
    {
      "cell_type": "markdown",
      "source": [
        "### **Defining and Calling Functions**\n",
        "\n"
      ],
      "metadata": {
        "id": "OKbLswR-_9uS"
      }
    },
    {
      "cell_type": "markdown",
      "source": [
        "#### **Defining a Function**\n",
        "\n",
        "To define a function, you use the `def` keyword followed by the function name and parentheses. If the function requires parameters (inputs), you include them in the parentheses. The code block that follows contains the statements that will be executed when the function is called.\n",
        "\n",
        "```python\n",
        "# Defining a Function\n",
        "\n",
        "def greet(name):\n",
        "    \"\"\"Prints a greeting message.\"\"\"\n",
        "    print(f\"Hello, {name}!\")\n",
        "\n",
        "# Calling the Function\n",
        "greet(\"Alice\")\n",
        "```\n",
        "\n",
        "- **Explanation**:\n",
        "  - `def greet(name):` defines a function named `greet` that takes one parameter `name`.\n",
        "  - The `\"\"\"Prints a greeting message.\"\"\"` line is a docstring, which provides a brief description of what the function does.\n",
        "  - `print(f\"Hello, {name}!\")` is the code that runs when the function is called.\n",
        "  - `greet(\"Alice\")` calls the function with `\"Alice\"` as the argument, resulting in the output: `Hello, Alice!`.\n",
        "\n",
        "---\n",
        "\n"
      ],
      "metadata": {
        "id": "seK68313AmFt"
      }
    },
    {
      "cell_type": "code",
      "source": [
        "# Defining a Function\n",
        "\n",
        "def greet(name, age):\n",
        "    return \"Hello, \" + name + \"!, You are \" + str(age) + \" years old\"\n",
        "\n",
        "# Calling the Function\n",
        "greet1 = greet(\"Alice\",35)\n",
        "print(greet1)\n",
        "greet2 = greet(\"Arul\",18)\n",
        "print(greet2)\n",
        "greet3 = greet(\"Nikhil\", 15)\n",
        "print(greet3)"
      ],
      "metadata": {
        "colab": {
          "base_uri": "https://localhost:8080/"
        },
        "id": "51kINR_sETEg",
        "outputId": "64e537e0-339a-4522-dbb1-22336fd04c1d"
      },
      "execution_count": null,
      "outputs": [
        {
          "output_type": "stream",
          "name": "stdout",
          "text": [
            "Hello, Alice!, You are 35 years old\n",
            "Hello, Arul!, You are 18 years old\n",
            "Hello, Nikhil!, You are 15 years old\n"
          ]
        }
      ]
    },
    {
      "cell_type": "markdown",
      "source": [
        "### **Function Parameters and Return Values**\n",
        "\n",
        "Functions can accept multiple parameters and return values. Parameters are used to pass information to the function, and the `return` statement is used to send a result back to the caller.\n",
        "\n"
      ],
      "metadata": {
        "id": "wLugytG8AwIt"
      }
    },
    {
      "cell_type": "markdown",
      "source": [
        "#### **Function with Multiple Parameters**\n",
        "\n",
        "```python\n",
        "# Defining a Function with Multiple Parameters\n",
        "\n",
        "def add_numbers(a, b):\n",
        "    \"\"\"Returns the sum of two numbers.\"\"\"\n",
        "    return a + b\n",
        "\n",
        "# Calling the Function\n",
        "result = add_numbers(5, 3)\n",
        "print(f\"Sum: {result}\")\n",
        "```\n",
        "\n",
        "- **Explanation**:\n",
        "  - `def add_numbers(a, b):` defines a function that takes two parameters, `a` and `b`.\n",
        "  - `return a + b` computes the sum of `a` and `b` and returns it.\n",
        "  - `result = add_numbers(5, 3)` calls the function with the arguments `5` and `3`, and stores the result in `result`. The output is `Sum: 8`.\n",
        "\n"
      ],
      "metadata": {
        "id": "QV8aOe7LAz3a"
      }
    },
    {
      "cell_type": "code",
      "source": [
        "# Defining a Function with Multiple Parameters\n",
        "\n",
        "def add_numbers(a, b):\n",
        "    \"\"\"Returns the sum of two numbers.\"\"\"\n",
        "    return a + b\n",
        "\n",
        "# Calling the Function\n",
        "result = add_numbers(2345, 5678)\n",
        "print(f\"Sum: {result}\")"
      ],
      "metadata": {
        "colab": {
          "base_uri": "https://localhost:8080/"
        },
        "id": "S0EW4zCPEXyG",
        "outputId": "ada29997-f23d-43c6-ff3d-8a11a307e963"
      },
      "execution_count": null,
      "outputs": [
        {
          "output_type": "stream",
          "name": "stdout",
          "text": [
            "Sum: 8023\n"
          ]
        }
      ]
    },
    {
      "cell_type": "markdown",
      "source": [
        "#### **Function Without Parameters**\n",
        "\n",
        "```python\n",
        "# Defining a Function Without Parameters\n",
        "\n",
        "def say_hello():\n",
        "    \"\"\"Prints a hello message.\"\"\"\n",
        "    print(\"Hello, World!\")\n",
        "\n",
        "# Calling the Function\n",
        "say_hello()\n",
        "```\n",
        "\n",
        "- **Explanation**:\n",
        "  - `def say_hello():` defines a function with no parameters.\n",
        "  - `print(\"Hello, World!\")` prints a message when the function is called.\n",
        "  - `say_hello()` calls the function, resulting in the output: `Hello, World!`.\n",
        "\n",
        "\n"
      ],
      "metadata": {
        "id": "detfqdgnA7Gr"
      }
    },
    {
      "cell_type": "code",
      "source": [
        "# Defining a Function Without Parameters\n",
        "\n",
        "def say_hello():\n",
        "    \"\"\"Prints a hello message.\"\"\"\n",
        "    print(\"Hello, World!\")\n",
        "    print(\"How are you? \")\n",
        "    print(\"Welcome\")\n",
        "\n",
        "# Calling the Function\n",
        "say_hello()\n",
        "\n",
        "\n",
        "\n",
        "\n",
        "# 50th line of a code block\n",
        "say_hello()"
      ],
      "metadata": {
        "colab": {
          "base_uri": "https://localhost:8080/"
        },
        "id": "d0ShcmR4EauI",
        "outputId": "fcd19d72-9cc0-49c3-aa68-6ecaf1daa116"
      },
      "execution_count": null,
      "outputs": [
        {
          "output_type": "stream",
          "name": "stdout",
          "text": [
            "Hello, World!\n",
            "How are you? \n",
            "Welcome\n",
            "Hello, World!\n",
            "How are you? \n",
            "Welcome\n"
          ]
        }
      ]
    },
    {
      "cell_type": "markdown",
      "source": [
        "### **Default Parameters**\n",
        "\n",
        "Functions can have default values for parameters. If an argument is not provided, the default value is used.\n",
        "\n",
        "```python\n",
        "# Defining a Function with Default Parameters\n",
        "\n",
        "def greet(name=\"Guest\"):\n",
        "    \"\"\"Prints a greeting message with a default name.\"\"\"\n",
        "    print(f\"Hello, {name}!\")\n",
        "\n",
        "# Calling the Function\n",
        "greet()\n",
        "greet(\"Bob\")\n",
        "```\n",
        "\n",
        "- **Explanation**:\n",
        "  - `def greet(name=\"Guest\"):` defines a function with a default parameter `name` set to `\"Guest\"`.\n",
        "  - When called without arguments, `greet()` uses the default value, printing `Hello, Guest!`.\n",
        "  - When called with `\"Bob\"`, it prints `Hello, Bob!`.\n",
        "\n",
        "---\n",
        "\n"
      ],
      "metadata": {
        "id": "LgLafu_7BAid"
      }
    },
    {
      "cell_type": "code",
      "source": [
        "# Defining a Function with Default Parameters\n",
        "\n",
        "def greet(name=\"Guest\"):\n",
        "    \"\"\"Prints a greeting message with a default name.\"\"\"\n",
        "    print(f\"Hello, {name}!\")\n",
        "\n",
        "# Calling the Function\n",
        "greet()\n",
        "greet(\"Bob\")"
      ],
      "metadata": {
        "colab": {
          "base_uri": "https://localhost:8080/"
        },
        "id": "N0cccmbYEfTX",
        "outputId": "141416a5-f928-446f-cb59-05a08d0c06f1"
      },
      "execution_count": null,
      "outputs": [
        {
          "output_type": "stream",
          "name": "stdout",
          "text": [
            "Hello, Guest!\n",
            "Hello, Bob!\n"
          ]
        }
      ]
    },
    {
      "cell_type": "markdown",
      "source": [
        "### **Keyword Arguments**\n",
        "\n",
        "Functions can also be called using keyword arguments, which allow you to specify which parameter you are setting by name.\n",
        "\n",
        "```python\n",
        "# Defining a Function with Keyword Arguments\n",
        "\n",
        "def create_profile(name, age, country):\n",
        "    \"\"\"Prints user profile information.\"\"\"\n",
        "    print(f\"Name: {name}\")\n",
        "    print(f\"Age: {age}\")\n",
        "    print(f\"Country: {country}\")\n",
        "\n",
        "# Calling the Function with Keyword Arguments\n",
        "create_profile(name=\"Alice\", age=30, country=\"Canada\")\n",
        "```\n",
        "\n",
        "- **Explanation**:\n",
        "  - `def create_profile(name, age, country):` defines a function that takes three parameters.\n",
        "  - When calling `create_profile(name=\"Alice\", age=30, country=\"Canada\")`, you use keyword arguments to specify which value goes to which parameter. This makes the function call more readable.\n",
        "\n"
      ],
      "metadata": {
        "id": "d8PwXlOBBGPY"
      }
    },
    {
      "cell_type": "code",
      "source": [
        "# Defining a Function with Keyword Arguments\n",
        "\n",
        "def create_profile(name, age, country):\n",
        "    \"\"\"Prints user profile information.\"\"\"\n",
        "    print(f\"Name: {name}\")\n",
        "    print(f\"Age: {age}\")\n",
        "    print(f\"Country: {country}\")\n",
        "\n",
        "# Calling the Function with Keyword Arguments\n",
        "create_profile(name=\"Alice\", country=\"Canada\", age=30)\n",
        "\n",
        "create_profile(\"Alice\",\"Canada\",30)"
      ],
      "metadata": {
        "colab": {
          "base_uri": "https://localhost:8080/"
        },
        "id": "MY3JzkT1Ek5w",
        "outputId": "8549b1ff-ddea-418d-e6de-90ec935d1d23"
      },
      "execution_count": null,
      "outputs": [
        {
          "output_type": "stream",
          "name": "stdout",
          "text": [
            "Name: Alice\n",
            "Age: 30\n",
            "Country: Canada\n",
            "Name: Alice\n",
            "Age: Canada\n",
            "Country: 30\n"
          ]
        }
      ]
    },
    {
      "cell_type": "markdown",
      "source": [
        "### **DIY Challenge: Creating and Using Functions**\n",
        "\n",
        "**Challenge:**\n",
        "Create a few functions to manage a small contact list. The functions should include:\n",
        "\n",
        "1. Adding a contact with a name and phone number.\n",
        "2. Retrieving a contact's phone number by name.\n",
        "3. Printing all contacts in the list.\n",
        "\n",
        "Here's a structure to get you started:\n",
        "\n",
        "```python\n",
        "# Define a contact list as a dictionary\n",
        "contacts = {}\n",
        "\n",
        "# Function to add a contact\n",
        "def add_contact(name, phone):\n",
        "    \"\"\"Adds a contact to the list.\"\"\"\n",
        "    contacts[name] = phone\n",
        "\n",
        "# Function to get a contact's phone number\n",
        "def get_contact(name):\n",
        "    \"\"\"Retrieves a contact's phone number.\"\"\"\n",
        "    return contacts.get(name, \"Contact not found\")\n",
        "\n",
        "# Function to print all contacts\n",
        "def print_contacts():\n",
        "    \"\"\"Prints all contacts in the list.\"\"\"\n",
        "    for name, phone in contacts.items():\n",
        "        print(f\"Name: {name}, Phone: {phone}\")\n",
        "\n",
        "# Add some contacts\n",
        "add_contact(\"John\", \"555-1234\")\n",
        "add_contact(\"Jane\", \"555-5678\")\n",
        "\n",
        "# Retrieve and print a contact's phone number\n",
        "print(f\"John's Phone: {get_contact('John')}\")\n",
        "\n",
        "# Print all contacts\n",
        "print_contacts()\n",
        "```\n",
        "\n",
        "- **Explanation**:\n",
        "  - **`add_contact(name, phone)`**: Adds a contact to the `contacts` dictionary.\n",
        "  - **`get_contact(name)`**: Retrieves a phone number for a given name, or returns \"Contact not found\" if the name isn't in the list.\n",
        "  - **`print_contacts()`**: Prints all contacts and their phone numbers."
      ],
      "metadata": {
        "id": "m7ZbKVp6BUxu"
      }
    },
    {
      "cell_type": "markdown",
      "source": [],
      "metadata": {
        "id": "b6cb0gWVCoJq"
      }
    },
    {
      "cell_type": "markdown",
      "source": [
        "### **Conclusion**\n",
        "\n",
        "In this session, we explored some of Python’s basic built-in functions, including `print()`, `len()`, and `type()`. These functions are useful for displaying information, finding the size of objects, and determining the type of data.\n",
        "\n",
        "We also covered how to define and call functions. Functions allow you to group code into reusable blocks. You learned how to define functions with parameters, which are inputs the function can use to perform tasks, and how to return values from functions.\n",
        "\n",
        "By mastering these concepts, you can write more organized and efficient Python code, making your programming tasks easier and more manageable.\n",
        "\n",
        "Keep practicing these functions and concepts to become more confident in Python programming. Happy coding!"
      ],
      "metadata": {
        "id": "uTlin1NeDXIX"
      }
    },
    {
      "cell_type": "markdown",
      "source": [
        "### **Assignments and Solutions**\n",
        "\n",
        "---\n",
        "\n",
        "### **Assignments**\n",
        "\n",
        "**Assignment 1: Simple Functions**\n",
        "\n",
        "1. **Greeting Function**: Write a function named `greet_person` that takes a person’s name as a parameter and returns a greeting message. For example, if the input is `\"John\"`, the function should return `\"Hello, John!\"`.\n",
        "\n",
        "2. **Sum Function**: Write a function named `calculate_sum` that takes two numbers as parameters and returns their sum.\n",
        "\n",
        "3. **String Length**: Write a function named `string_length` that takes a string as a parameter and returns the length of the string.\n",
        "\n",
        "4. **Multiply Function**: Write a function named `multiply_numbers` that takes two numbers as parameters and returns their product.\n",
        "\n",
        "**Assignment 2: Using Built-in Functions**\n",
        "\n",
        "1. **Display Length**: Use the `len()` function to find the length of a list and a string, and print the results.\n",
        "\n",
        "2. **Check Types**: Use the `type()` function to check the types of different values such as a number, a string, and a list, and print the results.\n",
        "\n",
        "---\n",
        "\n"
      ],
      "metadata": {
        "id": "JeZbSBXhDaJk"
      }
    },
    {
      "cell_type": "markdown",
      "source": [
        "#### **Solutions**\n",
        "\n",
        "**Solution 1: Simple Functions**\n",
        "\n",
        "```python\n",
        "# 1. Greeting Function\n",
        "def greet_person(name):\n",
        "    return \"Hello, \" + name + \"!\"\n",
        "\n",
        "# Test the function\n",
        "print(greet_person(\"John\"))  # Output: Hello, John!\n",
        "\n",
        "# 2. Sum Function\n",
        "def calculate_sum(a, b):\n",
        "    return a + b\n",
        "\n",
        "# Test the function\n",
        "print(calculate_sum(10, 5))  # Output: 15\n",
        "\n",
        "# 3. String Length\n",
        "def string_length(s):\n",
        "    return len(s)\n",
        "\n",
        "# Test the function\n",
        "print(string_length(\"Hello\"))  # Output: 5\n",
        "\n",
        "# 4. Multiply Function\n",
        "def multiply_numbers(a, b):\n",
        "    return a * b\n",
        "\n",
        "# Test the function\n",
        "print(multiply_numbers(4, 3))  # Output: 12\n",
        "```\n",
        "\n",
        "**Solution 2: Using Built-in Functions**\n",
        "\n",
        "```python\n",
        "# 1. Display Length\n",
        "my_list = [1, 2, 3, 4]\n",
        "my_string = \"Python\"\n",
        "print(len(my_list))   # Output: 4\n",
        "print(len(my_string)) # Output: 6\n",
        "\n",
        "# 2. Check Types\n",
        "print(type(123))      # Output: <class 'int'>\n",
        "print(type(\"Hello\"))  # Output: <class 'str'>\n",
        "print(type([1, 2, 3]))  # Output: <class 'list'>\n",
        "```\n",
        "\n",
        "---\n",
        "\n",
        "These assignments and solutions will help reinforce your understanding of functions and built-in functions in Python. Practice these tasks to become more comfortable with defining and using functions. Happy coding!"
      ],
      "metadata": {
        "id": "8Is37KZ3Dgl2"
      }
    },
    {
      "cell_type": "markdown",
      "source": [
        "## **Modules**\n",
        "\n",
        "---\n",
        "\n"
      ],
      "metadata": {
        "id": "-rFkgH1xryME"
      }
    },
    {
      "cell_type": "markdown",
      "source": [
        "### **What is a Python Module?**\n",
        "\n",
        "A Python module is simply a file containing Python code. It can include functions, classes, variables, and runnable code. Modules allow you to organize your code into separate files, making it easier to manage and reuse across different programs.\n",
        "\n",
        "---\n",
        "\n"
      ],
      "metadata": {
        "id": "6dJZqEzQr3M9"
      }
    },
    {
      "cell_type": "markdown",
      "source": [
        "### **Why Use Modules?**\n",
        "\n",
        "- **Organization**: Break down large programs into smaller, manageable pieces.\n",
        "- **Reusability**: Use the same code across multiple programs by importing the module.\n",
        "- **Maintainability**: Easier to maintain and update code in separate modules.\n",
        "\n",
        "---\n",
        "\n"
      ],
      "metadata": {
        "id": "x2d9Z2KEr8FV"
      }
    },
    {
      "cell_type": "markdown",
      "source": [
        "### **How to Use Python Modules**\n",
        "\n"
      ],
      "metadata": {
        "id": "g57Y03_ir_s5"
      }
    },
    {
      "cell_type": "markdown",
      "source": [
        "#### **1. Importing a Module**\n",
        "\n",
        "You can import a module into your Python program using the `import` statement.\n",
        "\n",
        "```python\n",
        "# Importing the math module\n",
        "import math\n",
        "\n",
        "# Using a function from the math module\n",
        "result = math.sqrt(25)\n",
        "print(\"The square root of 25 is:\", result)  # Output: The square root of 25 is: 5.0\n",
        "```\n",
        "\n"
      ],
      "metadata": {
        "id": "HFEUN_59sDFM"
      }
    },
    {
      "cell_type": "code",
      "source": [
        "# Importing the math module\n",
        "import math\n",
        "\n",
        "# Using a function from the math module\n",
        "result = math.sqrt(25)\n",
        "\n",
        "print(dir(math))\n",
        "\n",
        "print(\"The square root of 25 is:\", result)  # Output: The square root of 25 is: 5.0"
      ],
      "metadata": {
        "colab": {
          "base_uri": "https://localhost:8080/"
        },
        "id": "HT5I-xDeyLHS",
        "outputId": "5139199d-23cd-4712-c5e4-d87c99b797f0"
      },
      "execution_count": null,
      "outputs": [
        {
          "output_type": "stream",
          "name": "stdout",
          "text": [
            "['__doc__', '__loader__', '__name__', '__package__', '__spec__', 'acos', 'acosh', 'asin', 'asinh', 'atan', 'atan2', 'atanh', 'ceil', 'comb', 'copysign', 'cos', 'cosh', 'degrees', 'dist', 'e', 'erf', 'erfc', 'exp', 'expm1', 'fabs', 'factorial', 'floor', 'fmod', 'frexp', 'fsum', 'gamma', 'gcd', 'hypot', 'inf', 'isclose', 'isfinite', 'isinf', 'isnan', 'isqrt', 'lcm', 'ldexp', 'lgamma', 'log', 'log10', 'log1p', 'log2', 'modf', 'nan', 'nextafter', 'perm', 'pi', 'pow', 'prod', 'radians', 'remainder', 'sin', 'sinh', 'sqrt', 'tan', 'tanh', 'tau', 'trunc', 'ulp']\n",
            "The square root of 25 is: 5.0\n"
          ]
        }
      ]
    },
    {
      "cell_type": "code",
      "source": [
        "import module1\n",
        "\n",
        "#import module1\n",
        "\n",
        "# Add some contacts\n",
        "add_contact(\"John\", \"555-1234\")\n",
        "add_contact(\"Jane\", \"555-5678\")\n",
        "print_contacts()\n",
        "get_contact(\"John\")"
      ],
      "metadata": {
        "colab": {
          "base_uri": "https://localhost:8080/",
          "height": 384
        },
        "id": "ONkzk4PCKG5l",
        "outputId": "10659951-b081-437a-b984-3b154fde5160"
      },
      "execution_count": null,
      "outputs": [
        {
          "output_type": "error",
          "ename": "ModuleNotFoundError",
          "evalue": "No module named 'module1'",
          "traceback": [
            "\u001b[0;31m---------------------------------------------------------------------------\u001b[0m",
            "\u001b[0;31mModuleNotFoundError\u001b[0m                       Traceback (most recent call last)",
            "\u001b[0;32m<ipython-input-1-5b7d2701502e>\u001b[0m in \u001b[0;36m<cell line: 1>\u001b[0;34m()\u001b[0m\n\u001b[0;32m----> 1\u001b[0;31m \u001b[0;32mimport\u001b[0m \u001b[0mmodule1\u001b[0m\u001b[0;34m\u001b[0m\u001b[0;34m\u001b[0m\u001b[0m\n\u001b[0m\u001b[1;32m      2\u001b[0m \u001b[0;34m\u001b[0m\u001b[0m\n\u001b[1;32m      3\u001b[0m \u001b[0;31m#import module1\u001b[0m\u001b[0;34m\u001b[0m\u001b[0;34m\u001b[0m\u001b[0m\n\u001b[1;32m      4\u001b[0m \u001b[0;34m\u001b[0m\u001b[0m\n\u001b[1;32m      5\u001b[0m \u001b[0;31m# Add some contacts\u001b[0m\u001b[0;34m\u001b[0m\u001b[0;34m\u001b[0m\u001b[0m\n",
            "\u001b[0;31mModuleNotFoundError\u001b[0m: No module named 'module1'",
            "",
            "\u001b[0;31m---------------------------------------------------------------------------\u001b[0;32m\nNOTE: If your import is failing due to a missing package, you can\nmanually install dependencies using either !pip or !apt.\n\nTo view examples of installing some common dependencies, click the\n\"Open Examples\" button below.\n\u001b[0;31m---------------------------------------------------------------------------\u001b[0m\n"
          ],
          "errorDetails": {
            "actions": [
              {
                "action": "open_url",
                "actionText": "Open Examples",
                "url": "/notebooks/snippets/importing_libraries.ipynb"
              }
            ]
          }
        }
      ]
    },
    {
      "cell_type": "markdown",
      "source": [
        "#### **2. Importing Specific Functions from a Module**\n",
        "\n",
        "You can import specific functions or variables from a module using the `from` keyword.\n",
        "\n",
        "```python\n",
        "# Importing only the sqrt function from the math module\n",
        "from math import sqrt\n",
        "\n",
        "# Using the imported function\n",
        "result = sqrt(16)\n",
        "print(\"The square root of 16 is:\", result)  # Output: The square root of 16 is: 4.0\n",
        "```\n",
        "\n"
      ],
      "metadata": {
        "id": "VzITRHZssGVB"
      }
    },
    {
      "cell_type": "code",
      "source": [
        "# Importing only the sqrt function from the math module\n",
        "from math import sqrt\n",
        "\n",
        "# Using the imported function\n",
        "result = sqrt(16)\n",
        "print(\"The square root of 16 is:\", result)  # Output: The square root of 16 is: 4.0"
      ],
      "metadata": {
        "colab": {
          "base_uri": "https://localhost:8080/"
        },
        "id": "vU71qDlEyPpy",
        "outputId": "b7238a13-c9fd-41ab-cd27-a94b999bfc54"
      },
      "execution_count": null,
      "outputs": [
        {
          "output_type": "stream",
          "name": "stdout",
          "text": [
            "The square root of 16 is: 4.0\n"
          ]
        }
      ]
    },
    {
      "cell_type": "markdown",
      "source": [
        "#### **3. Creating Your Own Module**\n",
        "\n",
        "You can create your own module by writing Python code in a `.py` file.\n",
        "\n",
        "1. **Create a Simple Module**\n",
        "\n",
        "```python\n",
        "# Writing a simple module\n",
        "# Save this code in a file named mymodule.py in Google Colab\n",
        "def greet(name):\n",
        "    return f\"Hello, {name}!\"\n",
        "\n",
        "def add(a, b):\n",
        "    return a + b\n",
        "```\n",
        "\n",
        "2. **Import and Use Your Custom Module in Colab**\n",
        "\n",
        "```python\n",
        "# Importing and using the custom module in Colab\n",
        "import mymodule\n",
        "\n",
        "# Using the functions from your module\n",
        "greeting = mymodule.greet(\"John\")\n",
        "sum_result = mymodule.add(10, 5)\n",
        "\n",
        "print(greeting)        # Output: Hello, John!\n",
        "print(\"Sum:\", sum_result)  # Output: Sum: 15\n",
        "```\n",
        "\n",
        "**Note**: In Google Colab, you can create a module directly in the environment using the code cells.\n",
        "\n"
      ],
      "metadata": {
        "id": "Wr6vh7oQsJFQ"
      }
    },
    {
      "cell_type": "code",
      "source": [
        "# Importing and using the custom module in Colab\n",
        "import mymodule\n",
        "\n",
        "# Using the functions from your module\n",
        "greeting = mymodule.greet(\"John\")\n",
        "sum_result = mymodule.add(10, 5)\n",
        "\n",
        "print(greeting)        # Output: Hello, John!\n",
        "print(\"Sum:\", sum_result)  # Output: Sum: 15"
      ],
      "metadata": {
        "colab": {
          "base_uri": "https://localhost:8080/"
        },
        "id": "ooJezFnqyUmY",
        "outputId": "0952a415-1f35-41d0-8f56-f12b53c51c8d"
      },
      "execution_count": null,
      "outputs": [
        {
          "output_type": "stream",
          "name": "stdout",
          "text": [
            "Hello, John!\n",
            "Sum: 15\n"
          ]
        }
      ]
    },
    {
      "cell_type": "markdown",
      "source": [
        "#### **4. Using the `dir()` Function**\n",
        "\n",
        "You can use the `dir()` function to list all the names defined in a module, which includes functions, classes, and variables.\n",
        "\n",
        "```python\n",
        "# List all names in the math module\n",
        "import math\n",
        "print(dir(math))\n",
        "\n",
        "# Output: ['__doc__', '__loader__', '__name__', '__package__', '__spec__', 'acos', 'acosh', 'asin', ...]\n",
        "```\n",
        "\n",
        "---\n"
      ],
      "metadata": {
        "id": "beUq_AtdsMOG"
      }
    },
    {
      "cell_type": "code",
      "source": [
        "# List all names in the math module\n",
        "import math\n",
        "print(dir(math))\n",
        "\n",
        "math.pi"
      ],
      "metadata": {
        "colab": {
          "base_uri": "https://localhost:8080/"
        },
        "id": "YCCxpK6EyrgC",
        "outputId": "435de6b8-7eab-4502-9f41-4ea3f03ecc00"
      },
      "execution_count": null,
      "outputs": [
        {
          "output_type": "stream",
          "name": "stdout",
          "text": [
            "['__annotations__', '__doc__', '__loader__', '__name__', '__package__', '__spec__', 'acos', 'acosh', 'asin', 'asinh', 'atan', 'atan2', 'atanh', 'ceil', 'comb', 'copysign', 'cos', 'cosh', 'degrees', 'dist', 'e', 'erf', 'erfc', 'exp', 'expm1', 'fabs', 'factorial', 'floor', 'fmod', 'frexp', 'fsum', 'gamma', 'gcd', 'hypot', 'inf', 'isclose', 'isfinite', 'isinf', 'isnan', 'isqrt', 'lcm', 'ldexp', 'lgamma', 'log', 'log10', 'log1p', 'log2', 'modf', 'nan', 'nextafter', 'perm', 'pi', 'pow', 'prod', 'radians', 'remainder', 'sin', 'sinh', 'sqrt', 'tan', 'tanh', 'tau', 'trunc', 'ulp']\n"
          ]
        },
        {
          "output_type": "execute_result",
          "data": {
            "text/plain": [
              "3.141592653589793"
            ]
          },
          "metadata": {},
          "execution_count": 9
        }
      ]
    },
    {
      "cell_type": "markdown",
      "source": [
        "## **Python Packages**\n",
        "\n",
        "---\n",
        "\n"
      ],
      "metadata": {
        "id": "A1hALAnWpuDt"
      }
    },
    {
      "cell_type": "markdown",
      "source": [
        "### **What are Python Packages?**\n",
        "\n",
        "A Python package is a collection of modules bundled together. Each module is a file containing Python code, such as functions, classes, or variables, that can be imported and used in your programs. Packages help organize your code and make it reusable, modular, and easier to manage.\n",
        "\n",
        "---\n",
        "\n"
      ],
      "metadata": {
        "id": "_7fa1ksZqt9Z"
      }
    },
    {
      "cell_type": "markdown",
      "source": [
        "### **Why Use Python Packages?**\n",
        "\n",
        "- **Organization**: Packages group related modules together, making your codebase more organized.\n",
        "- **Reusability**: Once a package is created, it can be reused in different projects.\n",
        "- **Sharing**: Packages can be shared with others, making it easier to collaborate on projects.\n",
        "\n",
        "---\n",
        "\n"
      ],
      "metadata": {
        "id": "7fGO6LhUqyvx"
      }
    },
    {
      "cell_type": "markdown",
      "source": [
        "### **How to Use Python Packages**\n",
        "\n"
      ],
      "metadata": {
        "id": "Y37pzoGDq3FH"
      }
    },
    {
      "cell_type": "markdown",
      "source": [
        "#### **1. Importing a Package**\n",
        "\n",
        "To use a package in your Python program, you first need to import it. You can import an entire package or specific modules from it.\n",
        "\n",
        "```python\n",
        "# Importing an entire package\n",
        "import math\n",
        "\n",
        "# Using a function from the math package\n",
        "print(math.sqrt(16))  # Output: 4.0\n",
        "\n",
        "# Importing a specific function from a package\n",
        "from math import sqrt\n",
        "\n",
        "# Using the imported function\n",
        "print(sqrt(25))  # Output: 5.0\n",
        "```"
      ],
      "metadata": {
        "id": "ajQU9ax3q-_-"
      }
    },
    {
      "cell_type": "code",
      "source": [
        "# Importing an entire package\n",
        "import math\n",
        "\n",
        "# Using a function from the math package\n",
        "print(math.sqrt(16))  # Output: 4.0\n",
        "\n",
        "# Importing a specific function from a package\n",
        "from math import sqrt\n",
        "\n",
        "# Using the imported function\n",
        "print(sqrt(25))  # Output: 5.0"
      ],
      "metadata": {
        "colab": {
          "base_uri": "https://localhost:8080/"
        },
        "id": "zsJHXPTPFZCf",
        "outputId": "bbecdbb3-1140-46dd-ce4c-6569decb352a"
      },
      "execution_count": null,
      "outputs": [
        {
          "output_type": "stream",
          "name": "stdout",
          "text": [
            "4.0\n",
            "5.0\n"
          ]
        }
      ]
    },
    {
      "cell_type": "markdown",
      "source": [
        "#### **2. Installing External Packages**\n",
        "\n",
        "While Python comes with several built-in packages, you can also install external packages using a package manager like `pip`.\n",
        "\n",
        "```bash\n",
        "# Installing a package using pip\n",
        "!pip install requests\n",
        "```\n",
        "\n",
        "```python\n",
        "# Importing an installed package\n",
        "import requests\n",
        "\n",
        "# Using the requests package to fetch data from a website\n",
        "response = requests.get('https://www.example.com')\n",
        "print(response.status_code)  # Output: 200 (if the request was successful)\n",
        "```\n",
        "\n"
      ],
      "metadata": {
        "id": "ln9yHW0gq7Z8"
      }
    },
    {
      "cell_type": "code",
      "source": [
        "!pip install requests"
      ],
      "metadata": {
        "colab": {
          "base_uri": "https://localhost:8080/"
        },
        "id": "0ZqtxEmFFoNN",
        "outputId": "2438a2fa-63fd-43df-e3d0-225098de45f7"
      },
      "execution_count": null,
      "outputs": [
        {
          "output_type": "stream",
          "name": "stdout",
          "text": [
            "Requirement already satisfied: requests in /usr/local/lib/python3.10/dist-packages (2.32.3)\n",
            "Requirement already satisfied: charset-normalizer<4,>=2 in /usr/local/lib/python3.10/dist-packages (from requests) (3.3.2)\n",
            "Requirement already satisfied: idna<4,>=2.5 in /usr/local/lib/python3.10/dist-packages (from requests) (3.7)\n",
            "Requirement already satisfied: urllib3<3,>=1.21.1 in /usr/local/lib/python3.10/dist-packages (from requests) (2.0.7)\n",
            "Requirement already satisfied: certifi>=2017.4.17 in /usr/local/lib/python3.10/dist-packages (from requests) (2024.7.4)\n"
          ]
        }
      ]
    },
    {
      "cell_type": "code",
      "source": [
        "# Importing an installed package\n",
        "import requests\n",
        "\n",
        "# Using the requests package to fetch data from a website\n",
        "response = requests.get('https://www.tamil-ai.in')\n",
        "print(response.text)  # Output: 200 (if the request was successful)"
      ],
      "metadata": {
        "colab": {
          "base_uri": "https://localhost:8080/"
        },
        "id": "B1dI7jJbFtMe",
        "outputId": "a0670127-88c5-4432-b63b-6a93f20c0312"
      },
      "execution_count": null,
      "outputs": [
        {
          "output_type": "stream",
          "name": "stdout",
          "text": [
            "<!DOCTYPE html><html lang=\"en\"><head><meta charSet=\"utf-8\"/><meta name=\"viewport\" content=\"width=device-width, initial-scale=1\"/><link rel=\"preload\" href=\"/_next/static/media/c9a5bc6a7c948fb0-s.p.woff2\" as=\"font\" crossorigin=\"\" type=\"font/woff2\"/><link rel=\"preload\" href=\"/_next/static/media/36afab82570d46f2-s.p.woff2\" as=\"font\" crossorigin=\"\" type=\"font/woff2\"/><link rel=\"stylesheet\" href=\"/_next/static/css/e641ba9b7a85c20e.css\" data-precedence=\"next\"/><link rel=\"stylesheet\" href=\"/_next/static/css/109e5264c7097841.css\" data-precedence=\"next\"/><link rel=\"preload\" as=\"script\" fetchPriority=\"low\" href=\"/_next/static/chunks/webpack-2005db96fc57f5c6.js\"/><script src=\"/_next/static/chunks/fd9d1056-58b9922ae04fe508.js\" async=\"\"></script><script src=\"/_next/static/chunks/472-93683b9a6bae4e36.js\" async=\"\"></script><script src=\"/_next/static/chunks/main-app-892c3dff08e9cd4c.js\" async=\"\"></script><script src=\"/_next/static/chunks/163-6050e663a43658f3.js\" async=\"\"></script><script src=\"/_next/static/chunks/677-e2e5aaaf09dbf1b1.js\" async=\"\"></script><script src=\"/_next/static/chunks/413-675a8cf49b537ce6.js\" async=\"\"></script><script src=\"/_next/static/chunks/514-fd36d17df46a6038.js\" async=\"\"></script><script src=\"/_next/static/chunks/326-8c72d8f189ab7bc5.js\" async=\"\"></script><script src=\"/_next/static/chunks/app/(dashboard)/(routes)/layout-5e6f1a7ca65c7201.js\" async=\"\"></script><script src=\"/_next/static/chunks/app/layout-06558d01596e172f.js\" async=\"\"></script><script src=\"/_next/static/chunks/app/(landing)/page-190117b57ad6b5f7.js\" async=\"\"></script><title>Ezra AI</title><meta name=\"description\" content=\"AI SaaS Platform\"/><link rel=\"icon\" href=\"/icon.png?b0150df31ddb91e6\" type=\"image/png\" sizes=\"120x120\"/><link rel=\"icon\" href=\"/icon3.png?eefdc29320d9137f\" type=\"image/png\" sizes=\"96x96\"/><meta name=\"next-size-adjust\"/><script src=\"/_next/static/chunks/polyfills-c67a75d1b6f99dc8.js\" noModule=\"\"></script></head><body class=\"__className_aaf875\"><div style=\"position:fixed;z-index:9999;top:16px;left:16px;right:16px;bottom:16px;pointer-events:none\"></div><main class=\"h-full bg-[#111827] overflow-auto\"><div class=\"p-2 mx-auto max-w-screen-xl h-full w-full\"><main class=\"h-full\"><nav class=\"p-4 bg-transparent flex items-center justify-between text-white\"><a class=\"flex items-center\" href=\"/\"><div class=\"relative h-12 w-12 sm:h-16 sm:w-16 mr-4\"><img alt=\"Logo-Robot\" loading=\"lazy\" decoding=\"async\" data-nimg=\"fill\" style=\"position:absolute;height:100%;width:100%;left:0;top:0;right:0;bottom:0;color:transparent\" sizes=\"100vw\" srcSet=\"/_next/image?url=%2Fezraai.png&amp;w=640&amp;q=75 640w, /_next/image?url=%2Fezraai.png&amp;w=750&amp;q=75 750w, /_next/image?url=%2Fezraai.png&amp;w=828&amp;q=75 828w, /_next/image?url=%2Fezraai.png&amp;w=1080&amp;q=75 1080w, /_next/image?url=%2Fezraai.png&amp;w=1200&amp;q=75 1200w, /_next/image?url=%2Fezraai.png&amp;w=1920&amp;q=75 1920w, /_next/image?url=%2Fezraai.png&amp;w=2048&amp;q=75 2048w, /_next/image?url=%2Fezraai.png&amp;w=3840&amp;q=75 3840w\" src=\"/_next/image?url=%2Fezraai.png&amp;w=3840&amp;q=75\"/></div><h1 class=\"text-md sm:text-2xl font-bold text-white __className_dbdb17\">Ezra AI</h1></a><div class=\"flex items-center gap-x-2\"><a href=\"/sign-up\"><button class=\"inline-flex items-center justify-center font-medium ring-offset-background transition-colors focus-visible:outline-none focus-visible:ring-2 focus-visible:ring-ring focus-visible:ring-offset-2 disabled:pointer-events-none disabled:opacity-50 bg-gradient-to-r from-indigo-500 via-purple-500 to-pink-500 text-white border-0 h-10 px-4 py-2 rounded-full text-sm sm:text-lg get-started-btn drop-shadow-sm\">Get Started!</button></a></div></nav><div class=\"text-white font-bold py-12 sm:py-36 text-center space-y-9\"><div class=\"text-4xl sm:text-5xl md:text-6xl lg:text-7xl space-y-5 font-extrabold\">Utilize the Power of AI</div><div class=\"text-3xl sm:text-4xl md:text-5xl lg:text-6xl text-transparent bg-clip-text bg-gradient-to-r from-purple-400 to-pink-600\"><div class=\"Typewriter\" data-testid=\"typewriter-wrapper\"></div></div><div class=\"text-sm md:text-xl font-light text-zinc-400\">Become x10 more productive by utilizing the power of AI.</div><div><a href=\"/sign-up\"><button class=\"inline-flex items-center justify-center font-medium ring-offset-background transition-colors focus-visible:outline-none focus-visible:ring-2 focus-visible:ring-ring focus-visible:ring-offset-2 disabled:pointer-events-none disabled:opacity-50 bg-gradient-to-r from-rose-600 via-orange-500 to-amber-400 text-white border-0 h-16 rounded-md px-8 text-xl sm:text-2xl md:text-3xl lg:text-4xl try-out-btn\">Give it a try!</button></a></div></div><div class=\"px-10 pb-20\"><h2 class=\"text-center text-4xl text-white font-extrabold mb-10\">An Open AI wrapper for code, chat and image Generation</h2></div></main></div></main><script src=\"/_next/static/chunks/webpack-2005db96fc57f5c6.js\" async=\"\"></script><script>(self.__next_f=self.__next_f||[]).push([0]);self.__next_f.push([2,null])</script><script>self.__next_f.push([1,\"1:HL[\\\"/_next/static/media/c9a5bc6a7c948fb0-s.p.woff2\\\",\\\"font\\\",{\\\"crossOrigin\\\":\\\"\\\",\\\"type\\\":\\\"font/woff2\\\"}]\\n2:HL[\\\"/_next/static/css/e641ba9b7a85c20e.css\\\",\\\"style\\\"]\\n0:\\\"$L3\\\"\\n\"])</script><script>self.__next_f.push([1,\"4:HL[\\\"/_next/static/media/36afab82570d46f2-s.p.woff2\\\",\\\"font\\\",{\\\"crossOrigin\\\":\\\"\\\",\\\"type\\\":\\\"font/woff2\\\"}]\\n5:HL[\\\"/_next/static/css/109e5264c7097841.css\\\",\\\"style\\\"]\\n\"])</script><script>self.__next_f.push([1,\"6:I[3728,[],\\\"\\\"]\\n8:I[9928,[],\\\"\\\"]\\n9:I[8085,[\\\"163\\\",\\\"static/chunks/163-6050e663a43658f3.js\\\",\\\"677\\\",\\\"static/chunks/677-e2e5aaaf09dbf1b1.js\\\",\\\"413\\\",\\\"static/chunks/413-675a8cf49b537ce6.js\\\",\\\"514\\\",\\\"static/chunks/514-fd36d17df46a6038.js\\\",\\\"326\\\",\\\"static/chunks/326-8c72d8f189ab7bc5.js\\\",\\\"834\\\",\\\"static/chunks/app/(dashboard)/(routes)/layout-5e6f1a7ca65c7201.js\\\"],\\\"ClientClerkProvider\\\"]\\na:I[9029,[\\\"163\\\",\\\"static/chunks/163-6050e663a43658f3.js\\\",\\\"185\\\",\\\"static/chunks/app/layout-06558d01596e172f.js\\\"],\\\"\\\"]\\nb:I[6954,[],\\\"\\\"]\\nc:I[7264,[],\"])</script><script>self.__next_f.push([1,\"\\\"\\\"]\\ne:I[6409,[\\\"163\\\",\\\"static/chunks/163-6050e663a43658f3.js\\\",\\\"677\\\",\\\"static/chunks/677-e2e5aaaf09dbf1b1.js\\\",\\\"413\\\",\\\"static/chunks/413-675a8cf49b537ce6.js\\\",\\\"326\\\",\\\"static/chunks/326-8c72d8f189ab7bc5.js\\\",\\\"818\\\",\\\"static/chunks/app/(landing)/page-190117b57ad6b5f7.js\\\"],\\\"\\\"]\\nf:I[4866,[\\\"163\\\",\\\"static/chunks/163-6050e663a43658f3.js\\\",\\\"677\\\",\\\"static/chunks/677-e2e5aaaf09dbf1b1.js\\\",\\\"413\\\",\\\"static/chunks/413-675a8cf49b537ce6.js\\\",\\\"326\\\",\\\"static/chunks/326-8c72d8f189ab7bc5.js\\\",\\\"818\\\",\\\"static/chunks/app/(landing)/page-190117b57ad6b5\"])</script><script>self.__next_f.push([1,\"f7.js\\\"],\\\"\\\"]\\n10:I[1038,[\\\"163\\\",\\\"static/chunks/163-6050e663a43658f3.js\\\",\\\"677\\\",\\\"static/chunks/677-e2e5aaaf09dbf1b1.js\\\",\\\"413\\\",\\\"static/chunks/413-675a8cf49b537ce6.js\\\",\\\"326\\\",\\\"static/chunks/326-8c72d8f189ab7bc5.js\\\",\\\"818\\\",\\\"static/chunks/app/(landing)/page-190117b57ad6b5f7.js\\\"],\\\"\\\"]\\n\"])</script><script>self.__next_f.push([1,\"3:[[[\\\"$\\\",\\\"link\\\",\\\"0\\\",{\\\"rel\\\":\\\"stylesheet\\\",\\\"href\\\":\\\"/_next/static/css/e641ba9b7a85c20e.css\\\",\\\"precedence\\\":\\\"next\\\",\\\"crossOrigin\\\":\\\"$undefined\\\"}]],[\\\"$\\\",\\\"$L6\\\",null,{\\\"buildId\\\":\\\"TL-GcooRO-8hhmvRDlKS7\\\",\\\"assetPrefix\\\":\\\"\\\",\\\"initialCanonicalUrl\\\":\\\"/\\\",\\\"initialTree\\\":[\\\"\\\",{\\\"children\\\":[\\\"(landing)\\\",{\\\"children\\\":[\\\"__PAGE__\\\",{}]}]},\\\"$undefined\\\",\\\"$undefined\\\",true],\\\"initialHead\\\":[false,\\\"$L7\\\"],\\\"globalErrorComponent\\\":\\\"$8\\\",\\\"children\\\":[null,[\\\"$\\\",\\\"$L9\\\",null,{\\\"frontendApi\\\":\\\"\\\",\\\"publishableKey\\\":\\\"pk_test_Z3JlYXQtcXVhaWwtNDkuY2xlcmsuYWNjb3VudHMuZGV2JA\\\",\\\"clerkJSUrl\\\":\\\"$undefined\\\",\\\"clerkJSVersion\\\":\\\"$undefined\\\",\\\"proxyUrl\\\":\\\"\\\",\\\"domain\\\":\\\"\\\",\\\"isSatellite\\\":false,\\\"signInUrl\\\":\\\"\\\",\\\"signUpUrl\\\":\\\"\\\",\\\"afterSignInUrl\\\":\\\"\\\",\\\"afterSignUpUrl\\\":\\\"\\\",\\\"sdkMetadata\\\":{\\\"name\\\":\\\"@clerk/nextjs\\\",\\\"version\\\":\\\"4.31.0\\\"},\\\"initialState\\\":{\\\"sessionClaims\\\":null,\\\"sessionId\\\":null,\\\"session\\\":null,\\\"userId\\\":null,\\\"user\\\":null,\\\"actor\\\":null,\\\"orgId\\\":null,\\\"orgRole\\\":null,\\\"orgSlug\\\":null,\\\"orgPermissions\\\":null,\\\"organization\\\":null},\\\"children\\\":[\\\"$\\\",\\\"html\\\",null,{\\\"lang\\\":\\\"en\\\",\\\"children\\\":[\\\"$\\\",\\\"body\\\",null,{\\\"className\\\":\\\"__className_aaf875\\\",\\\"children\\\":[[\\\"$\\\",\\\"$La\\\",null,{}],[\\\"$\\\",\\\"$Lb\\\",null,{\\\"parallelRouterKey\\\":\\\"children\\\",\\\"segmentPath\\\":[\\\"children\\\"],\\\"loading\\\":\\\"$undefined\\\",\\\"loadingStyles\\\":\\\"$undefined\\\",\\\"hasLoading\\\":false,\\\"error\\\":\\\"$undefined\\\",\\\"errorStyles\\\":\\\"$undefined\\\",\\\"template\\\":[\\\"$\\\",\\\"$Lc\\\",null,{}],\\\"templateStyles\\\":\\\"$undefined\\\",\\\"notFound\\\":[[\\\"$\\\",\\\"title\\\",null,{\\\"children\\\":\\\"404: This page could not be found.\\\"}],[\\\"$\\\",\\\"div\\\",null,{\\\"style\\\":{\\\"fontFamily\\\":\\\"system-ui,\\\\\\\"Segoe UI\\\\\\\",Roboto,Helvetica,Arial,sans-serif,\\\\\\\"Apple Color Emoji\\\\\\\",\\\\\\\"Segoe UI Emoji\\\\\\\"\\\",\\\"height\\\":\\\"100vh\\\",\\\"textAlign\\\":\\\"center\\\",\\\"display\\\":\\\"flex\\\",\\\"flexDirection\\\":\\\"column\\\",\\\"alignItems\\\":\\\"center\\\",\\\"justifyContent\\\":\\\"center\\\"},\\\"children\\\":[\\\"$\\\",\\\"div\\\",null,{\\\"children\\\":[[\\\"$\\\",\\\"style\\\",null,{\\\"dangerouslySetInnerHTML\\\":{\\\"__html\\\":\\\"body{color:#000;background:#fff;margin:0}.next-error-h1{border-right:1px solid rgba(0,0,0,.3)}@media (prefers-color-scheme:dark){body{color:#fff;background:#000}.next-error-h1{border-right:1px solid rgba(255,255,255,.3)}}\\\"}}],[\\\"$\\\",\\\"h1\\\",null,{\\\"className\\\":\\\"next-error-h1\\\",\\\"style\\\":{\\\"display\\\":\\\"inline-block\\\",\\\"margin\\\":\\\"0 20px 0 0\\\",\\\"padding\\\":\\\"0 23px 0 0\\\",\\\"fontSize\\\":24,\\\"fontWeight\\\":500,\\\"verticalAlign\\\":\\\"top\\\",\\\"lineHeight\\\":\\\"49px\\\"},\\\"children\\\":\\\"404\\\"}],[\\\"$\\\",\\\"div\\\",null,{\\\"style\\\":{\\\"display\\\":\\\"inline-block\\\"},\\\"children\\\":[\\\"$\\\",\\\"h2\\\",null,{\\\"style\\\":{\\\"fontSize\\\":14,\\\"fontWeight\\\":400,\\\"lineHeight\\\":\\\"49px\\\",\\\"margin\\\":0},\\\"children\\\":\\\"This page could not be found.\\\"}]}]]}]}]],\\\"notFoundStyles\\\":[],\\\"childProp\\\":{\\\"current\\\":[null,[\\\"$\\\",\\\"main\\\",null,{\\\"className\\\":\\\"h-full bg-[#111827] overflow-auto\\\",\\\"children\\\":[\\\"$\\\",\\\"div\\\",null,{\\\"className\\\":\\\"p-2 mx-auto max-w-screen-xl h-full w-full\\\",\\\"children\\\":[\\\"$\\\",\\\"$Lb\\\",null,{\\\"parallelRouterKey\\\":\\\"children\\\",\\\"segmentPath\\\":[\\\"children\\\",\\\"(landing)\\\",\\\"children\\\"],\\\"loading\\\":\\\"$undefined\\\",\\\"loadingStyles\\\":\\\"$undefined\\\",\\\"hasLoading\\\":false,\\\"error\\\":\\\"$undefined\\\",\\\"errorStyles\\\":\\\"$undefined\\\",\\\"template\\\":[\\\"$\\\",\\\"$Lc\\\",null,{}],\\\"templateStyles\\\":\\\"$undefined\\\",\\\"notFound\\\":[[\\\"$\\\",\\\"title\\\",null,{\\\"children\\\":\\\"404: This page could not be found.\\\"}],[\\\"$\\\",\\\"div\\\",null,{\\\"style\\\":{\\\"fontFamily\\\":\\\"system-ui,\\\\\\\"Segoe UI\\\\\\\",Roboto,Helvetica,Arial,sans-serif,\\\\\\\"Apple Color Emoji\\\\\\\",\\\\\\\"Segoe UI Emoji\\\\\\\"\\\",\\\"height\\\":\\\"100vh\\\",\\\"textAlign\\\":\\\"center\\\",\\\"display\\\":\\\"flex\\\",\\\"flexDirection\\\":\\\"column\\\",\\\"alignItems\\\":\\\"center\\\",\\\"justifyContent\\\":\\\"center\\\"},\\\"children\\\":[\\\"$\\\",\\\"div\\\",null,{\\\"children\\\":[[\\\"$\\\",\\\"style\\\",null,{\\\"dangerouslySetInnerHTML\\\":{\\\"__html\\\":\\\"body{color:#000;background:#fff;margin:0}.next-error-h1{border-right:1px solid rgba(0,0,0,.3)}@media (prefers-color-scheme:dark){body{color:#fff;background:#000}.next-error-h1{border-right:1px solid rgba(255,255,255,.3)}}\\\"}}],[\\\"$\\\",\\\"h1\\\",null,{\\\"className\\\":\\\"next-error-h1\\\",\\\"style\\\":{\\\"display\\\":\\\"inline-block\\\",\\\"margin\\\":\\\"0 20px 0 0\\\",\\\"padding\\\":\\\"0 23px 0 0\\\",\\\"fontSize\\\":24,\\\"fontWeight\\\":500,\\\"verticalAlign\\\":\\\"top\\\",\\\"lineHeight\\\":\\\"49px\\\"},\\\"children\\\":\\\"404\\\"}],[\\\"$\\\",\\\"div\\\",null,{\\\"style\\\":{\\\"display\\\":\\\"inline-block\\\"},\\\"children\\\":[\\\"$\\\",\\\"h2\\\",null,{\\\"style\\\":{\\\"fontSize\\\":14,\\\"fontWeight\\\":400,\\\"lineHeight\\\":\\\"49px\\\",\\\"margin\\\":0},\\\"children\\\":\\\"This page could not be found.\\\"}]}]]}]}]],\\\"notFoundStyles\\\":[],\\\"childProp\\\":{\\\"current\\\":[\\\"$Ld\\\",[\\\"$\\\",\\\"main\\\",null,{\\\"className\\\":\\\"h-full\\\",\\\"children\\\":[[\\\"$\\\",\\\"$Le\\\",null,{}],[\\\"$\\\",\\\"$Lf\\\",null,{}],[\\\"$\\\",\\\"$L10\\\",null,{}]]}],null],\\\"segment\\\":\\\"__PAGE__\\\"},\\\"styles\\\":[[\\\"$\\\",\\\"link\\\",\\\"0\\\",{\\\"rel\\\":\\\"stylesheet\\\",\\\"href\\\":\\\"/_next/static/css/109e5264c7097841.css\\\",\\\"precedence\\\":\\\"next\\\",\\\"crossOrigin\\\":\\\"$undefined\\\"}]]}]}]}],null],\\\"segment\\\":\\\"(landing)\\\"},\\\"styles\\\":[]}]]}]}]}],null]}]]\\n\"])</script><script>self.__next_f.push([1,\"7:[[\\\"$\\\",\\\"meta\\\",\\\"0\\\",{\\\"charSet\\\":\\\"utf-8\\\"}],[\\\"$\\\",\\\"title\\\",\\\"1\\\",{\\\"children\\\":\\\"Ezra AI\\\"}],[\\\"$\\\",\\\"meta\\\",\\\"2\\\",{\\\"name\\\":\\\"description\\\",\\\"content\\\":\\\"AI SaaS Platform\\\"}],[\\\"$\\\",\\\"meta\\\",\\\"3\\\",{\\\"name\\\":\\\"viewport\\\",\\\"content\\\":\\\"width=device-width, initial-scale=1\\\"}],[\\\"$\\\",\\\"link\\\",\\\"4\\\",{\\\"rel\\\":\\\"icon\\\",\\\"href\\\":\\\"/icon.png?b0150df31ddb91e6\\\",\\\"type\\\":\\\"image/png\\\",\\\"sizes\\\":\\\"120x120\\\"}],[\\\"$\\\",\\\"link\\\",\\\"5\\\",{\\\"rel\\\":\\\"icon\\\",\\\"href\\\":\\\"/icon3.png?eefdc29320d9137f\\\",\\\"type\\\":\\\"image/png\\\",\\\"sizes\\\":\\\"96x96\\\"}],[\\\"$\\\",\\\"meta\\\",\\\"6\\\",{\\\"name\\\":\\\"next-size-adjust\\\"}]]\\nd:null\\n\"])</script></body></html>\n"
          ]
        }
      ]
    },
    {
      "cell_type": "markdown",
      "source": [
        "### **Working with Python Packages in Google Colab**\n",
        "\n",
        "---\n",
        "\n"
      ],
      "metadata": {
        "id": "TYQI9EjirJNf"
      }
    },
    {
      "cell_type": "markdown",
      "source": [
        "#### **1. Importing a Built-in Package**\n",
        "\n",
        "You can easily import and use Python's built-in packages in Google Colab.\n",
        "\n",
        "```python\n",
        "# Importing the math package\n",
        "import math\n",
        "\n",
        "# Using the math package to calculate the square root of 16\n",
        "sqrt_value = math.sqrt(16)\n",
        "print(\"Square root of 16 is:\", sqrt_value)  # Output: 4.0\n",
        "\n",
        "# Using the math package to calculate the value of pi\n",
        "pi_value = math.pi\n",
        "print(\"Value of pi is:\", pi_value)  # Output: 3.141592653589793\n",
        "```\n",
        "\n",
        "---\n",
        "\n"
      ],
      "metadata": {
        "id": "7R5ofdWDrSfY"
      }
    },
    {
      "cell_type": "code",
      "source": [
        "# Importing the math package\n",
        "import math\n",
        "\n",
        "# Using the math package to calculate the square root of 16\n",
        "sqrt_value = math.sqrt(16)\n",
        "print(\"Square root of 16 is:\", sqrt_value)  # Output: 4.0\n",
        "\n",
        "# Using the math package to calculate the value of pi\n",
        "pi_value = math.pi\n",
        "print(\"Value of pi is:\", pi_value)  # Output: 3.141592653589793"
      ],
      "metadata": {
        "colab": {
          "base_uri": "https://localhost:8080/"
        },
        "id": "MyIfmjchFz9c",
        "outputId": "872fad69-57b0-4453-c73a-09ce6eb33a13"
      },
      "execution_count": null,
      "outputs": [
        {
          "output_type": "stream",
          "name": "stdout",
          "text": [
            "Square root of 16 is: 4.0\n",
            "Value of pi is: 3.141592653589793\n"
          ]
        }
      ]
    },
    {
      "cell_type": "markdown",
      "source": [
        "#### **2. Installing and Importing an External Package**\n",
        "\n",
        "Google Colab allows you to install packages that are not included by default using the `pip` command.\n",
        "\n",
        "```python\n",
        "# Installing the requests package\n",
        "!pip install requests\n",
        "```\n",
        "\n",
        "```python\n",
        "# Importing and using the requests package\n",
        "import requests\n",
        "\n",
        "# Using requests to fetch the content of a web page\n",
        "response = requests.get('https://www.example.com')\n",
        "print(\"Status Code:\", response.status_code)  # Output: 200 (if successful)\n",
        "print(\"Content:\", response.text[:500])  # Output: First 500 characters of the web page content\n",
        "```\n",
        "\n",
        "---\n",
        "\n"
      ],
      "metadata": {
        "id": "UL8k9gw5rV88"
      }
    },
    {
      "cell_type": "code",
      "source": [
        "!pip install openai"
      ],
      "metadata": {
        "colab": {
          "base_uri": "https://localhost:8080/"
        },
        "id": "jbTXLsadUQxx",
        "outputId": "f1495806-fcaa-4353-96bf-1effa36d5e0b"
      },
      "execution_count": null,
      "outputs": [
        {
          "output_type": "stream",
          "name": "stdout",
          "text": [
            "Collecting openai\n",
            "  Downloading openai-1.43.0-py3-none-any.whl.metadata (22 kB)\n",
            "Requirement already satisfied: anyio<5,>=3.5.0 in /usr/local/lib/python3.10/dist-packages (from openai) (3.7.1)\n",
            "Requirement already satisfied: distro<2,>=1.7.0 in /usr/lib/python3/dist-packages (from openai) (1.7.0)\n",
            "Collecting httpx<1,>=0.23.0 (from openai)\n",
            "  Downloading httpx-0.27.2-py3-none-any.whl.metadata (7.1 kB)\n",
            "Collecting jiter<1,>=0.4.0 (from openai)\n",
            "  Downloading jiter-0.5.0-cp310-cp310-manylinux_2_17_x86_64.manylinux2014_x86_64.whl.metadata (3.6 kB)\n",
            "Requirement already satisfied: pydantic<3,>=1.9.0 in /usr/local/lib/python3.10/dist-packages (from openai) (2.8.2)\n",
            "Requirement already satisfied: sniffio in /usr/local/lib/python3.10/dist-packages (from openai) (1.3.1)\n",
            "Requirement already satisfied: tqdm>4 in /usr/local/lib/python3.10/dist-packages (from openai) (4.66.5)\n",
            "Requirement already satisfied: typing-extensions<5,>=4.11 in /usr/local/lib/python3.10/dist-packages (from openai) (4.12.2)\n",
            "Requirement already satisfied: idna>=2.8 in /usr/local/lib/python3.10/dist-packages (from anyio<5,>=3.5.0->openai) (3.8)\n",
            "Requirement already satisfied: exceptiongroup in /usr/local/lib/python3.10/dist-packages (from anyio<5,>=3.5.0->openai) (1.2.2)\n",
            "Requirement already satisfied: certifi in /usr/local/lib/python3.10/dist-packages (from httpx<1,>=0.23.0->openai) (2024.7.4)\n",
            "Collecting httpcore==1.* (from httpx<1,>=0.23.0->openai)\n",
            "  Downloading httpcore-1.0.5-py3-none-any.whl.metadata (20 kB)\n",
            "Collecting h11<0.15,>=0.13 (from httpcore==1.*->httpx<1,>=0.23.0->openai)\n",
            "  Downloading h11-0.14.0-py3-none-any.whl.metadata (8.2 kB)\n",
            "Requirement already satisfied: annotated-types>=0.4.0 in /usr/local/lib/python3.10/dist-packages (from pydantic<3,>=1.9.0->openai) (0.7.0)\n",
            "Requirement already satisfied: pydantic-core==2.20.1 in /usr/local/lib/python3.10/dist-packages (from pydantic<3,>=1.9.0->openai) (2.20.1)\n",
            "Downloading openai-1.43.0-py3-none-any.whl (365 kB)\n",
            "\u001b[2K   \u001b[90m━━━━━━━━━━━━━━━━━━━━━━━━━━━━━━━━━━━━━━━━\u001b[0m \u001b[32m365.7/365.7 kB\u001b[0m \u001b[31m13.1 MB/s\u001b[0m eta \u001b[36m0:00:00\u001b[0m\n",
            "\u001b[?25hDownloading httpx-0.27.2-py3-none-any.whl (76 kB)\n",
            "\u001b[2K   \u001b[90m━━━━━━━━━━━━━━━━━━━━━━━━━━━━━━━━━━━━━━━━\u001b[0m \u001b[32m76.4/76.4 kB\u001b[0m \u001b[31m4.9 MB/s\u001b[0m eta \u001b[36m0:00:00\u001b[0m\n",
            "\u001b[?25hDownloading httpcore-1.0.5-py3-none-any.whl (77 kB)\n",
            "\u001b[2K   \u001b[90m━━━━━━━━━━━━━━━━━━━━━━━━━━━━━━━━━━━━━━━━\u001b[0m \u001b[32m77.9/77.9 kB\u001b[0m \u001b[31m4.4 MB/s\u001b[0m eta \u001b[36m0:00:00\u001b[0m\n",
            "\u001b[?25hDownloading jiter-0.5.0-cp310-cp310-manylinux_2_17_x86_64.manylinux2014_x86_64.whl (318 kB)\n",
            "\u001b[2K   \u001b[90m━━━━━━━━━━━━━━━━━━━━━━━━━━━━━━━━━━━━━━━━\u001b[0m \u001b[32m318.9/318.9 kB\u001b[0m \u001b[31m17.0 MB/s\u001b[0m eta \u001b[36m0:00:00\u001b[0m\n",
            "\u001b[?25hDownloading h11-0.14.0-py3-none-any.whl (58 kB)\n",
            "\u001b[2K   \u001b[90m━━━━━━━━━━━━━━━━━━━━━━━━━━━━━━━━━━━━━━━━\u001b[0m \u001b[32m58.3/58.3 kB\u001b[0m \u001b[31m3.9 MB/s\u001b[0m eta \u001b[36m0:00:00\u001b[0m\n",
            "\u001b[?25hInstalling collected packages: jiter, h11, httpcore, httpx, openai\n",
            "Successfully installed h11-0.14.0 httpcore-1.0.5 httpx-0.27.2 jiter-0.5.0 openai-1.43.0\n"
          ]
        }
      ]
    },
    {
      "cell_type": "code",
      "source": [
        "!pip install numpy"
      ],
      "metadata": {
        "colab": {
          "base_uri": "https://localhost:8080/"
        },
        "id": "zDC_TvxHTRN9",
        "outputId": "607d04e4-6276-4cca-b6f5-202a4a9ebb3d"
      },
      "execution_count": null,
      "outputs": [
        {
          "output_type": "stream",
          "name": "stdout",
          "text": [
            "Requirement already satisfied: numpy in /usr/local/lib/python3.10/dist-packages (1.26.4)\n"
          ]
        }
      ]
    },
    {
      "cell_type": "code",
      "source": [
        "# Importing and using the requests package\n",
        "import requests\n",
        "\n",
        "# Using requests to fetch the content of a web page\n",
        "response = requests.get('https://www.example.com')\n",
        "print(\"Status Code:\", response.status_code)  # Output: 200 (if successful)\n",
        "print(\"Content:\", response.text[:500])  # Output: First 500 characters of the web page content"
      ],
      "metadata": {
        "colab": {
          "base_uri": "https://localhost:8080/"
        },
        "id": "zS9uFE_0F40n",
        "outputId": "4c70f228-a428-4d73-9530-74138f03be3c"
      },
      "execution_count": null,
      "outputs": [
        {
          "output_type": "stream",
          "name": "stdout",
          "text": [
            "Status Code: 200\n",
            "Content: <!doctype html>\n",
            "<html>\n",
            "<head>\n",
            "    <title>Example Domain</title>\n",
            "\n",
            "    <meta charset=\"utf-8\" />\n",
            "    <meta http-equiv=\"Content-type\" content=\"text/html; charset=utf-8\" />\n",
            "    <meta name=\"viewport\" content=\"width=device-width, initial-scale=1\" />\n",
            "    <style type=\"text/css\">\n",
            "    body {\n",
            "        background-color: #f0f0f2;\n",
            "        margin: 0;\n",
            "        padding: 0;\n",
            "        font-family: -apple-system, system-ui, BlinkMacSystemFont, \"Segoe UI\", \"Open Sans\", \"Helvetica Neue\", Helvetica, Arial, sans-serif;\n",
            "    \n"
          ]
        }
      ]
    },
    {
      "cell_type": "markdown",
      "source": [
        "#### **3. Creating and Using Your Own Package**\n",
        "\n",
        "You can also create your own package within Google Colab.\n",
        "\n",
        "1. **Create a Directory and Python Modules**\n",
        "\n",
        "```python\n",
        "# Creating a directory for your package\n",
        "!mkdir mypackage\n",
        "\n",
        "# Writing the first module to the package\n",
        "with open('mypackage/module1.py', 'w') as f:\n",
        "    f.write('def greet(name):\\n')\n",
        "    f.write('    return f\"Hello, {name}!\"\\n')\n",
        "\n",
        "# Writing the second module to the package\n",
        "with open('mypackage/module2.py', 'w') as f:\n",
        "    f.write('def farewell(name):\\n')\n",
        "    f.write('    return f\"Goodbye, {name}!\"\\n')\n",
        "```\n",
        "\n",
        "2. **Importing and Using Your Custom Package**\n",
        "\n",
        "```python\n",
        "# Importing your custom package modules\n",
        "from mypackage import module1, module2\n",
        "\n",
        "# Using the functions from your package\n",
        "greeting = module1.greet(\"Alice\")\n",
        "farewell = module2.farewell(\"Alice\")\n",
        "\n",
        "print(greeting)  # Output: Hello, Alice!\n",
        "print(farewell)  # Output: Goodbye, Alice!\n",
        "```\n",
        "\n"
      ],
      "metadata": {
        "id": "1JTYtQ1prZ8C"
      }
    },
    {
      "cell_type": "code",
      "source": [
        "# Creating a directory for your package\n",
        "!mkdir mypackage\n",
        "\n",
        "# Writing the first module to the package\n",
        "with open('mypackage/module1.py', 'w') as f:\n",
        "    f.write('def greet(name):\\n')\n",
        "    f.write('    return f\"Hello, {name}!\"\\n')\n",
        "\n",
        "# Writing the second module to the package\n",
        "with open('mypackage/module2.py', 'w') as f:\n",
        "    f.write('def farewell(name):\\n')\n",
        "    f.write('    return f\"Goodbye, {name}!\"\\n')"
      ],
      "metadata": {
        "id": "WzQtN3YlF-04"
      },
      "execution_count": null,
      "outputs": []
    },
    {
      "cell_type": "code",
      "source": [
        "# Importing your custom package modules\n",
        "from mypackage import module1, module2\n",
        "\n",
        "# Using the functions from your package\n",
        "greeting = module1.greet(\"Alice\")\n",
        "farewell = module2.farewell(\"Alice\")\n",
        "\n",
        "print(greeting)  # Output: Hello, Alice!\n",
        "print(farewell)  # Output: Goodbye, Alice!"
      ],
      "metadata": {
        "colab": {
          "base_uri": "https://localhost:8080/"
        },
        "id": "s3NLvKWJGFM-",
        "outputId": "0356c2d6-8103-4a05-9ce9-dceb1984579a"
      },
      "execution_count": null,
      "outputs": [
        {
          "output_type": "stream",
          "name": "stdout",
          "text": [
            "Hello, Alice!\n",
            "Goodbye, Alice!\n"
          ]
        }
      ]
    },
    {
      "cell_type": "markdown",
      "source": [
        "## **PIP - Pip Installs Packages**\n",
        "\n",
        "---\n",
        "\n"
      ],
      "metadata": {
        "id": "qN_3XB_Vt0vn"
      }
    },
    {
      "cell_type": "markdown",
      "source": [
        "### **What is PIP?**\n",
        "\n",
        "PIP stands for \"Pip Installs Packages\" and is the default package manager for Python. It allows you to install and manage additional Python libraries and dependencies that aren't included in the standard Python library.\n",
        "\n",
        "With PIP, you can easily install, upgrade, and remove Python packages from the Python Package Index (PyPI) or other sources.\n",
        "\n",
        "---\n",
        "\n"
      ],
      "metadata": {
        "id": "M_qeSIbxt6lo"
      }
    },
    {
      "cell_type": "markdown",
      "source": [
        "### **Why Use PIP?**\n",
        "\n",
        "- **Access to Thousands of Libraries**: PIP connects you to PyPI, which hosts thousands of third-party libraries and tools, making it easy to expand your Python projects.\n",
        "- **Simple Installation**: Installing new libraries with PIP is straightforward, usually requiring just a single command.\n",
        "- **Dependency Management**: PIP automatically handles dependencies, ensuring that any additional libraries required by the package are also installed.\n",
        "\n",
        "---\n",
        "\n"
      ],
      "metadata": {
        "id": "cmcJL_iBt-kB"
      }
    },
    {
      "cell_type": "markdown",
      "source": [
        "### **Basic PIP Commands**\n",
        "\n"
      ],
      "metadata": {
        "id": "M-KbkisxuCqQ"
      }
    },
    {
      "cell_type": "markdown",
      "source": [
        "#### **1. Installing a Package**\n",
        "\n",
        "To install a package, use the `pip install` command followed by the package name.\n",
        "\n",
        "```bash\n",
        "# Install a package\n",
        "!pip install requests\n",
        "```\n",
        "\n",
        "This command installs the `requests` package, which allows you to make HTTP requests in Python.\n",
        "\n"
      ],
      "metadata": {
        "id": "4iLtZAlTuGZH"
      }
    },
    {
      "cell_type": "markdown",
      "source": [
        "#### **2. Listing Installed Packages**\n",
        "\n",
        "You can list all the installed packages in your environment using the `pip list` command.\n",
        "\n",
        "```bash\n",
        "# List installed packages\n",
        "!pip list\n",
        "```\n",
        "\n",
        "This will show you a list of all the packages installed in your environment along with their versions.\n",
        "\n"
      ],
      "metadata": {
        "id": "F9M3XuxSuJkU"
      }
    },
    {
      "cell_type": "code",
      "source": [
        "!pip list"
      ],
      "metadata": {
        "colab": {
          "base_uri": "https://localhost:8080/"
        },
        "id": "96TQW00-XjXK",
        "outputId": "3b88ff7a-c99d-4cd4-c5e4-226b541f0814"
      },
      "execution_count": null,
      "outputs": [
        {
          "output_type": "stream",
          "name": "stdout",
          "text": [
            "Package                          Version\n",
            "-------------------------------- ---------------------\n",
            "absl-py                          1.4.0\n",
            "accelerate                       0.32.1\n",
            "aiohappyeyeballs                 2.4.0\n",
            "aiohttp                          3.10.5\n",
            "aiosignal                        1.3.1\n",
            "alabaster                        0.7.16\n",
            "albucore                         0.0.13\n",
            "albumentations                   1.4.14\n",
            "altair                           4.2.2\n",
            "annotated-types                  0.7.0\n",
            "anyio                            3.7.1\n",
            "argon2-cffi                      23.1.0\n",
            "argon2-cffi-bindings             21.2.0\n",
            "array_record                     0.5.1\n",
            "arviz                            0.18.0\n",
            "asn1crypto                       1.5.1\n",
            "astropy                          6.1.2\n",
            "astropy-iers-data                0.2024.8.26.0.31.57\n",
            "astunparse                       1.6.3\n",
            "async-timeout                    4.0.3\n",
            "atpublic                         4.1.0\n",
            "attrs                            24.2.0\n",
            "audioread                        3.0.1\n",
            "autograd                         1.7.0\n",
            "babel                            2.16.0\n",
            "backcall                         0.2.0\n",
            "beautifulsoup4                   4.12.3\n",
            "bidict                           0.23.1\n",
            "bigframes                        1.15.0\n",
            "bigquery-magics                  0.1.1\n",
            "bleach                           6.1.0\n",
            "blinker                          1.4\n",
            "blis                             0.7.11\n",
            "blosc2                           2.0.0\n",
            "bokeh                            3.4.3\n",
            "bqplot                           0.12.43\n",
            "branca                           0.7.2\n",
            "build                            1.2.1\n",
            "CacheControl                     0.14.0\n",
            "cachetools                       5.5.0\n",
            "catalogue                        2.0.10\n",
            "certifi                          2024.7.4\n",
            "cffi                             1.17.0\n",
            "chardet                          5.2.0\n",
            "charset-normalizer               3.3.2\n",
            "chex                             0.1.86\n",
            "clarabel                         0.9.0\n",
            "click                            8.1.7\n",
            "click-plugins                    1.1.1\n",
            "cligj                            0.7.2\n",
            "cloudpathlib                     0.18.1\n",
            "cloudpickle                      2.2.1\n",
            "cmake                            3.30.2\n",
            "cmdstanpy                        1.2.4\n",
            "colorcet                         3.1.0\n",
            "colorlover                       0.3.0\n",
            "colour                           0.1.5\n",
            "community                        1.0.0b1\n",
            "confection                       0.1.5\n",
            "cons                             0.4.6\n",
            "contextlib2                      21.6.0\n",
            "contourpy                        1.2.1\n",
            "cryptography                     43.0.0\n",
            "cuda-python                      12.2.1\n",
            "cudf-cu12                        24.4.1\n",
            "cufflinks                        0.17.3\n",
            "cupy-cuda12x                     12.2.0\n",
            "cvxopt                           1.3.2\n",
            "cvxpy                            1.5.3\n",
            "cycler                           0.12.1\n",
            "cymem                            2.0.8\n",
            "Cython                           3.0.11\n",
            "dask                             2024.7.1\n",
            "datascience                      0.17.6\n",
            "db-dtypes                        1.3.0\n",
            "dbus-python                      1.2.18\n",
            "debugpy                          1.6.6\n",
            "decorator                        4.4.2\n",
            "defusedxml                       0.7.1\n",
            "distributed                      2024.7.1\n",
            "distro                           1.7.0\n",
            "dlib                             19.24.2\n",
            "dm-tree                          0.1.8\n",
            "docstring_parser                 0.16\n",
            "docutils                         0.18.1\n",
            "dopamine_rl                      4.0.9\n",
            "duckdb                           0.10.3\n",
            "earthengine-api                  0.1.417\n",
            "easydict                         1.13\n",
            "ecos                             2.0.14\n",
            "editdistance                     0.8.1\n",
            "eerepr                           0.0.4\n",
            "einops                           0.8.0\n",
            "en-core-web-sm                   3.7.1\n",
            "entrypoints                      0.4\n",
            "et-xmlfile                       1.1.0\n",
            "etils                            1.7.0\n",
            "etuples                          0.3.9\n",
            "eval_type_backport               0.2.0\n",
            "exceptiongroup                   1.2.2\n",
            "fastai                           2.7.16\n",
            "fastcore                         1.5.55\n",
            "fastdownload                     0.0.7\n",
            "fastjsonschema                   2.20.0\n",
            "fastprogress                     1.0.3\n",
            "fastrlock                        0.8.2\n",
            "filelock                         3.15.4\n",
            "fiona                            1.9.6\n",
            "firebase-admin                   6.5.0\n",
            "Flask                            2.2.5\n",
            "flatbuffers                      24.3.25\n",
            "flax                             0.8.4\n",
            "folium                           0.17.0\n",
            "fonttools                        4.53.1\n",
            "frozendict                       2.4.4\n",
            "frozenlist                       1.4.1\n",
            "fsspec                           2024.6.1\n",
            "future                           1.0.0\n",
            "gast                             0.6.0\n",
            "gcsfs                            2024.6.1\n",
            "GDAL                             3.6.4\n",
            "gdown                            5.1.0\n",
            "geemap                           0.34.0\n",
            "gensim                           4.3.3\n",
            "geocoder                         1.38.1\n",
            "geographiclib                    2.0\n",
            "geopandas                        0.14.4\n",
            "geopy                            2.4.1\n",
            "gin-config                       0.5.0\n",
            "glob2                            0.7\n",
            "google                           2.0.3\n",
            "google-ai-generativelanguage     0.6.6\n",
            "google-api-core                  2.19.1\n",
            "google-api-python-client         2.137.0\n",
            "google-auth                      2.27.0\n",
            "google-auth-httplib2             0.2.0\n",
            "google-auth-oauthlib             1.2.1\n",
            "google-cloud-aiplatform          1.63.0\n",
            "google-cloud-bigquery            3.25.0\n",
            "google-cloud-bigquery-connection 1.15.5\n",
            "google-cloud-bigquery-storage    2.25.0\n",
            "google-cloud-bigtable            2.26.0\n",
            "google-cloud-core                2.4.1\n",
            "google-cloud-datastore           2.19.0\n",
            "google-cloud-firestore           2.16.1\n",
            "google-cloud-functions           1.16.5\n",
            "google-cloud-iam                 2.15.2\n",
            "google-cloud-language            2.13.4\n",
            "google-cloud-pubsub              2.23.0\n",
            "google-cloud-resource-manager    1.12.5\n",
            "google-cloud-storage             2.8.0\n",
            "google-cloud-translate           3.15.5\n",
            "google-colab                     1.0.0\n",
            "google-crc32c                    1.5.0\n",
            "google-generativeai              0.7.2\n",
            "google-pasta                     0.2.0\n",
            "google-resumable-media           2.7.2\n",
            "googleapis-common-protos         1.64.0\n",
            "googledrivedownloader            0.4\n",
            "graphviz                         0.20.3\n",
            "greenlet                         3.0.3\n",
            "grpc-google-iam-v1               0.13.1\n",
            "grpcio                           1.64.1\n",
            "grpcio-status                    1.48.2\n",
            "gspread                          6.0.2\n",
            "gspread-dataframe                3.3.1\n",
            "gym                              0.25.2\n",
            "gym-notices                      0.0.8\n",
            "h5netcdf                         1.3.0\n",
            "h5py                             3.11.0\n",
            "holidays                         0.55\n",
            "holoviews                        1.18.3\n",
            "html5lib                         1.1\n",
            "httpimport                       1.3.1\n",
            "httplib2                         0.22.0\n",
            "huggingface-hub                  0.23.5\n",
            "humanize                         4.10.0\n",
            "hyperopt                         0.2.7\n",
            "ibis-framework                   8.0.0\n",
            "idna                             3.8\n",
            "imageio                          2.34.2\n",
            "imageio-ffmpeg                   0.5.1\n",
            "imagesize                        1.4.1\n",
            "imbalanced-learn                 0.12.3\n",
            "imgaug                           0.4.0\n",
            "immutabledict                    4.2.0\n",
            "importlib_metadata               8.4.0\n",
            "importlib_resources              6.4.4\n",
            "imutils                          0.5.4\n",
            "inflect                          7.3.1\n",
            "iniconfig                        2.0.0\n",
            "intel-cmplr-lib-ur               2024.2.1\n",
            "intel-openmp                     2024.2.1\n",
            "ipyevents                        2.0.2\n",
            "ipyfilechooser                   0.6.0\n",
            "ipykernel                        5.5.6\n",
            "ipyleaflet                       0.18.2\n",
            "ipyparallel                      8.8.0\n",
            "ipython                          7.34.0\n",
            "ipython-genutils                 0.2.0\n",
            "ipython-sql                      0.5.0\n",
            "ipytree                          0.2.2\n",
            "ipywidgets                       7.7.1\n",
            "itsdangerous                     2.2.0\n",
            "jax                              0.4.26\n",
            "jaxlib                           0.4.26+cuda12.cudnn89\n",
            "jeepney                          0.7.1\n",
            "jellyfish                        1.1.0\n",
            "jieba                            0.42.1\n",
            "Jinja2                           3.1.4\n",
            "joblib                           1.4.2\n",
            "jsonpickle                       3.2.2\n",
            "jsonschema                       4.23.0\n",
            "jsonschema-specifications        2023.12.1\n",
            "jupyter-client                   6.1.12\n",
            "jupyter-console                  6.1.0\n",
            "jupyter_core                     5.7.2\n",
            "jupyter-server                   1.24.0\n",
            "jupyterlab_pygments              0.3.0\n",
            "jupyterlab_widgets               3.0.13\n",
            "kaggle                           1.6.17\n",
            "kagglehub                        0.2.9\n",
            "keras                            3.4.1\n",
            "keyring                          23.5.0\n",
            "kiwisolver                       1.4.5\n",
            "langcodes                        3.4.0\n",
            "language_data                    1.2.0\n",
            "launchpadlib                     1.10.16\n",
            "lazr.restfulclient               0.14.4\n",
            "lazr.uri                         1.0.6\n",
            "lazy_loader                      0.4\n",
            "libclang                         18.1.1\n",
            "librosa                          0.10.2.post1\n",
            "lightgbm                         4.4.0\n",
            "linkify-it-py                    2.0.3\n",
            "llvmlite                         0.43.0\n",
            "locket                           1.0.0\n",
            "logical-unification              0.4.6\n",
            "lxml                             4.9.4\n",
            "malloy                           2024.1089\n",
            "marisa-trie                      1.2.0\n",
            "Markdown                         3.7\n",
            "markdown-it-py                   3.0.0\n",
            "MarkupSafe                       2.1.5\n",
            "matplotlib                       3.7.1\n",
            "matplotlib-inline                0.1.7\n",
            "matplotlib-venn                  0.11.10\n",
            "mdit-py-plugins                  0.4.1\n",
            "mdurl                            0.1.2\n",
            "miniKanren                       1.0.3\n",
            "missingno                        0.5.2\n",
            "mistune                          0.8.4\n",
            "mizani                           0.9.3\n",
            "mkl                              2024.2.1\n",
            "ml-dtypes                        0.4.0\n",
            "mlxtend                          0.23.1\n",
            "more-itertools                   10.3.0\n",
            "moviepy                          1.0.3\n",
            "mpmath                           1.3.0\n",
            "msgpack                          1.0.8\n",
            "multidict                        6.0.5\n",
            "multipledispatch                 1.0.0\n",
            "multitasking                     0.0.11\n",
            "murmurhash                       1.0.10\n",
            "music21                          9.1.0\n",
            "namex                            0.0.8\n",
            "natsort                          8.4.0\n",
            "nbclassic                        1.1.0\n",
            "nbclient                         0.10.0\n",
            "nbconvert                        6.5.4\n",
            "nbformat                         5.10.4\n",
            "nest-asyncio                     1.6.0\n",
            "networkx                         3.3\n",
            "nibabel                          5.0.1\n",
            "nltk                             3.8.1\n",
            "notebook                         6.5.5\n",
            "notebook_shim                    0.2.4\n",
            "numba                            0.60.0\n",
            "numexpr                          2.10.1\n",
            "numpy                            1.26.4\n",
            "nvidia-nccl-cu12                 2.22.3\n",
            "nvtx                             0.2.10\n",
            "oauth2client                     4.1.3\n",
            "oauthlib                         3.2.2\n",
            "opencv-contrib-python            4.10.0.84\n",
            "opencv-python                    4.10.0.84\n",
            "opencv-python-headless           4.10.0.84\n",
            "openpyxl                         3.1.5\n",
            "opt-einsum                       3.3.0\n",
            "optax                            0.2.2\n",
            "optree                           0.12.1\n",
            "orbax-checkpoint                 0.6.1\n",
            "osqp                             0.6.7.post0\n",
            "packaging                        24.1\n",
            "pandas                           2.1.4\n",
            "pandas-datareader                0.10.0\n",
            "pandas-gbq                       0.23.1\n",
            "pandas-stubs                     2.1.4.231227\n",
            "pandocfilters                    1.5.1\n",
            "panel                            1.4.5\n",
            "param                            2.1.1\n",
            "parso                            0.8.4\n",
            "parsy                            2.1\n",
            "partd                            1.4.2\n",
            "pathlib                          1.0.1\n",
            "patsy                            0.5.6\n",
            "peewee                           3.17.6\n",
            "pexpect                          4.9.0\n",
            "pickleshare                      0.7.5\n",
            "Pillow                           9.4.0\n",
            "pip                              24.1.2\n",
            "pip-tools                        7.4.1\n",
            "platformdirs                     4.2.2\n",
            "plotly                           5.15.0\n",
            "plotnine                         0.12.4\n",
            "pluggy                           1.5.0\n",
            "polars                           0.20.2\n",
            "pooch                            1.8.2\n",
            "portpicker                       1.5.2\n",
            "prefetch_generator               1.0.3\n",
            "preshed                          3.0.9\n",
            "prettytable                      3.11.0\n",
            "proglog                          0.1.10\n",
            "progressbar2                     4.2.0\n",
            "prometheus_client                0.20.0\n",
            "promise                          2.3\n",
            "prompt_toolkit                   3.0.47\n",
            "prophet                          1.1.5\n",
            "proto-plus                       1.24.0\n",
            "protobuf                         3.20.3\n",
            "psutil                           5.9.5\n",
            "psycopg2                         2.9.9\n",
            "ptyprocess                       0.7.0\n",
            "py-cpuinfo                       9.0.0\n",
            "py4j                             0.10.9.7\n",
            "pyarrow                          14.0.2\n",
            "pyarrow-hotfix                   0.6\n",
            "pyasn1                           0.6.0\n",
            "pyasn1_modules                   0.4.0\n",
            "pycocotools                      2.0.8\n",
            "pycparser                        2.22\n",
            "pydantic                         2.8.2\n",
            "pydantic_core                    2.20.1\n",
            "pydata-google-auth               1.8.2\n",
            "pydot                            1.4.2\n",
            "pydot-ng                         2.0.0\n",
            "pydotplus                        2.0.2\n",
            "PyDrive                          1.3.1\n",
            "PyDrive2                         1.6.3\n",
            "pyerfa                           2.0.1.4\n",
            "pygame                           2.6.0\n",
            "Pygments                         2.16.1\n",
            "PyGObject                        3.42.1\n",
            "PyJWT                            2.9.0\n",
            "pymc                             5.10.4\n",
            "pymystem3                        0.2.0\n",
            "pynvjitlink-cu12                 0.3.0\n",
            "PyOpenGL                         3.1.7\n",
            "pyOpenSSL                        24.2.1\n",
            "pyparsing                        3.1.4\n",
            "pyperclip                        1.9.0\n",
            "pyproj                           3.6.1\n",
            "pyproject_hooks                  1.1.0\n",
            "pyshp                            2.3.1\n",
            "PySocks                          1.7.1\n",
            "pytensor                         2.18.6\n",
            "pytest                           7.4.4\n",
            "python-apt                       2.4.0\n",
            "python-box                       7.2.0\n",
            "python-dateutil                  2.8.2\n",
            "python-louvain                   0.16\n",
            "python-slugify                   8.0.4\n",
            "python-utils                     3.8.2\n",
            "pytz                             2024.1\n",
            "pyviz_comms                      3.0.3\n",
            "PyYAML                           6.0.2\n",
            "pyzmq                            24.0.1\n",
            "qdldl                            0.1.7.post4\n",
            "ratelim                          0.1.6\n",
            "referencing                      0.35.1\n",
            "regex                            2024.5.15\n",
            "requests                         2.32.3\n",
            "requests-oauthlib                1.3.1\n",
            "requirements-parser              0.9.0\n",
            "rich                             13.8.0\n",
            "rmm-cu12                         24.4.0\n",
            "rpds-py                          0.20.0\n",
            "rpy2                             3.4.2\n",
            "rsa                              4.9\n",
            "safetensors                      0.4.4\n",
            "scikit-image                     0.23.2\n",
            "scikit-learn                     1.3.2\n",
            "scipy                            1.13.1\n",
            "scooby                           0.10.0\n",
            "scs                              3.2.7\n",
            "seaborn                          0.13.1\n",
            "SecretStorage                    3.3.1\n",
            "Send2Trash                       1.8.3\n",
            "sentencepiece                    0.1.99\n",
            "setuptools                       71.0.4\n",
            "shapely                          2.0.6\n",
            "shellingham                      1.5.4\n",
            "simple_parsing                   0.1.5\n",
            "six                              1.16.0\n",
            "sklearn-pandas                   2.2.0\n",
            "smart-open                       7.0.4\n",
            "sniffio                          1.3.1\n",
            "snowballstemmer                  2.2.0\n",
            "snowflake-connector-python       3.12.1\n",
            "sortedcontainers                 2.4.0\n",
            "soundfile                        0.12.1\n",
            "soupsieve                        2.6\n",
            "soxr                             0.5.0\n",
            "spacy                            3.7.6\n",
            "spacy-legacy                     3.0.12\n",
            "spacy-loggers                    1.0.5\n",
            "Sphinx                           5.0.2\n",
            "sphinxcontrib-applehelp          2.0.0\n",
            "sphinxcontrib-devhelp            2.0.0\n",
            "sphinxcontrib-htmlhelp           2.1.0\n",
            "sphinxcontrib-jsmath             1.0.1\n",
            "sphinxcontrib-qthelp             2.0.0\n",
            "sphinxcontrib-serializinghtml    2.0.0\n",
            "SQLAlchemy                       2.0.32\n",
            "sqlglot                          20.11.0\n",
            "sqlparse                         0.5.1\n",
            "srsly                            2.4.8\n",
            "stanio                           0.5.1\n",
            "statsmodels                      0.14.2\n",
            "StrEnum                          0.4.15\n",
            "sympy                            1.13.2\n",
            "tables                           3.8.0\n",
            "tabulate                         0.9.0\n",
            "tbb                              2021.13.1\n",
            "tblib                            3.0.0\n",
            "tenacity                         9.0.0\n",
            "tensorboard                      2.17.0\n",
            "tensorboard-data-server          0.7.2\n",
            "tensorflow                       2.17.0\n",
            "tensorflow-datasets              4.9.6\n",
            "tensorflow-hub                   0.16.1\n",
            "tensorflow-io-gcs-filesystem     0.37.1\n",
            "tensorflow-metadata              1.15.0\n",
            "tensorflow-probability           0.24.0\n",
            "tensorstore                      0.1.64\n",
            "termcolor                        2.4.0\n",
            "terminado                        0.18.1\n",
            "text-unidecode                   1.3\n",
            "textblob                         0.17.1\n",
            "tf_keras                         2.17.0\n",
            "tf-slim                          1.1.0\n",
            "thinc                            8.2.5\n",
            "threadpoolctl                    3.5.0\n",
            "tifffile                         2024.8.24\n",
            "tinycss2                         1.3.0\n",
            "tokenizers                       0.19.1\n",
            "toml                             0.10.2\n",
            "tomli                            2.0.1\n",
            "tomlkit                          0.13.2\n",
            "toolz                            0.12.1\n",
            "torch                            2.4.0+cu121\n",
            "torchaudio                       2.4.0+cu121\n",
            "torchsummary                     1.5.1\n",
            "torchvision                      0.19.0+cu121\n",
            "tornado                          6.3.3\n",
            "tqdm                             4.66.5\n",
            "traitlets                        5.7.1\n",
            "traittypes                       0.2.1\n",
            "transformers                     4.42.4\n",
            "tweepy                           4.14.0\n",
            "typeguard                        4.3.0\n",
            "typer                            0.12.5\n",
            "types-pytz                       2024.1.0.20240417\n",
            "types-setuptools                 73.0.0.20240822\n",
            "typing_extensions                4.12.2\n",
            "tzdata                           2024.1\n",
            "tzlocal                          5.2\n",
            "uc-micro-py                      1.0.3\n",
            "uritemplate                      4.1.1\n",
            "urllib3                          2.0.7\n",
            "vega-datasets                    0.9.0\n",
            "wadllib                          1.3.6\n",
            "wasabi                           1.1.3\n",
            "wcwidth                          0.2.13\n",
            "weasel                           0.4.1\n",
            "webcolors                        24.8.0\n",
            "webencodings                     0.5.1\n",
            "websocket-client                 1.8.0\n",
            "Werkzeug                         3.0.4\n",
            "wheel                            0.44.0\n",
            "widgetsnbextension               3.6.8\n",
            "wordcloud                        1.9.3\n",
            "wrapt                            1.16.0\n",
            "xarray                           2024.6.0\n",
            "xarray-einstats                  0.7.0\n",
            "xgboost                          2.1.1\n",
            "xlrd                             2.0.1\n",
            "xyzservices                      2024.6.0\n",
            "yarl                             1.9.4\n",
            "yellowbrick                      1.5\n",
            "yfinance                         0.2.43\n",
            "zict                             3.0.0\n",
            "zipp                             3.20.1\n"
          ]
        }
      ]
    },
    {
      "cell_type": "code",
      "source": [
        "!pip install openai==1.32.0"
      ],
      "metadata": {
        "colab": {
          "base_uri": "https://localhost:8080/"
        },
        "id": "zUJ9Ew2ZZOfF",
        "outputId": "6bce8864-03dc-4d8d-a125-5fe21c7a7e5f"
      },
      "execution_count": null,
      "outputs": [
        {
          "output_type": "stream",
          "name": "stdout",
          "text": [
            "Collecting openai==1.32.0\n",
            "  Downloading openai-1.32.0-py3-none-any.whl.metadata (21 kB)\n",
            "Requirement already satisfied: anyio<5,>=3.5.0 in /usr/local/lib/python3.10/dist-packages (from openai==1.32.0) (3.7.1)\n",
            "Requirement already satisfied: distro<2,>=1.7.0 in /usr/lib/python3/dist-packages (from openai==1.32.0) (1.7.0)\n",
            "Collecting httpx<1,>=0.23.0 (from openai==1.32.0)\n",
            "  Downloading httpx-0.27.2-py3-none-any.whl.metadata (7.1 kB)\n",
            "Requirement already satisfied: pydantic<3,>=1.9.0 in /usr/local/lib/python3.10/dist-packages (from openai==1.32.0) (2.8.2)\n",
            "Requirement already satisfied: sniffio in /usr/local/lib/python3.10/dist-packages (from openai==1.32.0) (1.3.1)\n",
            "Requirement already satisfied: tqdm>4 in /usr/local/lib/python3.10/dist-packages (from openai==1.32.0) (4.66.5)\n",
            "Requirement already satisfied: typing-extensions<5,>=4.7 in /usr/local/lib/python3.10/dist-packages (from openai==1.32.0) (4.12.2)\n",
            "Requirement already satisfied: idna>=2.8 in /usr/local/lib/python3.10/dist-packages (from anyio<5,>=3.5.0->openai==1.32.0) (3.8)\n",
            "Requirement already satisfied: exceptiongroup in /usr/local/lib/python3.10/dist-packages (from anyio<5,>=3.5.0->openai==1.32.0) (1.2.2)\n",
            "Requirement already satisfied: certifi in /usr/local/lib/python3.10/dist-packages (from httpx<1,>=0.23.0->openai==1.32.0) (2024.7.4)\n",
            "Collecting httpcore==1.* (from httpx<1,>=0.23.0->openai==1.32.0)\n",
            "  Downloading httpcore-1.0.5-py3-none-any.whl.metadata (20 kB)\n",
            "Collecting h11<0.15,>=0.13 (from httpcore==1.*->httpx<1,>=0.23.0->openai==1.32.0)\n",
            "  Downloading h11-0.14.0-py3-none-any.whl.metadata (8.2 kB)\n",
            "Requirement already satisfied: annotated-types>=0.4.0 in /usr/local/lib/python3.10/dist-packages (from pydantic<3,>=1.9.0->openai==1.32.0) (0.7.0)\n",
            "Requirement already satisfied: pydantic-core==2.20.1 in /usr/local/lib/python3.10/dist-packages (from pydantic<3,>=1.9.0->openai==1.32.0) (2.20.1)\n",
            "Downloading openai-1.32.0-py3-none-any.whl (325 kB)\n",
            "\u001b[2K   \u001b[90m━━━━━━━━━━━━━━━━━━━━━━━━━━━━━━━━━━━━━━━━\u001b[0m \u001b[32m325.2/325.2 kB\u001b[0m \u001b[31m11.5 MB/s\u001b[0m eta \u001b[36m0:00:00\u001b[0m\n",
            "\u001b[?25hDownloading httpx-0.27.2-py3-none-any.whl (76 kB)\n",
            "\u001b[2K   \u001b[90m━━━━━━━━━━━━━━━━━━━━━━━━━━━━━━━━━━━━━━━━\u001b[0m \u001b[32m76.4/76.4 kB\u001b[0m \u001b[31m4.0 MB/s\u001b[0m eta \u001b[36m0:00:00\u001b[0m\n",
            "\u001b[?25hDownloading httpcore-1.0.5-py3-none-any.whl (77 kB)\n",
            "\u001b[2K   \u001b[90m━━━━━━━━━━━━━━━━━━━━━━━━━━━━━━━━━━━━━━━━\u001b[0m \u001b[32m77.9/77.9 kB\u001b[0m \u001b[31m1.7 MB/s\u001b[0m eta \u001b[36m0:00:00\u001b[0m\n",
            "\u001b[?25hDownloading h11-0.14.0-py3-none-any.whl (58 kB)\n",
            "\u001b[2K   \u001b[90m━━━━━━━━━━━━━━━━━━━━━━━━━━━━━━━━━━━━━━━━\u001b[0m \u001b[32m58.3/58.3 kB\u001b[0m \u001b[31m4.0 MB/s\u001b[0m eta \u001b[36m0:00:00\u001b[0m\n",
            "\u001b[?25hInstalling collected packages: h11, httpcore, httpx, openai\n",
            "Successfully installed h11-0.14.0 httpcore-1.0.5 httpx-0.27.2 openai-1.32.0\n"
          ]
        }
      ]
    },
    {
      "cell_type": "code",
      "source": [
        "!pip list"
      ],
      "metadata": {
        "colab": {
          "base_uri": "https://localhost:8080/"
        },
        "id": "gPabp32dZZ7G",
        "outputId": "9ffb8c5d-047c-47e7-da18-214156b8ea81"
      },
      "execution_count": null,
      "outputs": [
        {
          "output_type": "stream",
          "name": "stdout",
          "text": [
            "Package                          Version\n",
            "-------------------------------- ---------------------\n",
            "absl-py                          1.4.0\n",
            "accelerate                       0.32.1\n",
            "aiohappyeyeballs                 2.4.0\n",
            "aiohttp                          3.10.5\n",
            "aiosignal                        1.3.1\n",
            "alabaster                        0.7.16\n",
            "albucore                         0.0.13\n",
            "albumentations                   1.4.14\n",
            "altair                           4.2.2\n",
            "annotated-types                  0.7.0\n",
            "anyio                            3.7.1\n",
            "argon2-cffi                      23.1.0\n",
            "argon2-cffi-bindings             21.2.0\n",
            "array_record                     0.5.1\n",
            "arviz                            0.18.0\n",
            "asn1crypto                       1.5.1\n",
            "astropy                          6.1.2\n",
            "astropy-iers-data                0.2024.8.26.0.31.57\n",
            "astunparse                       1.6.3\n",
            "async-timeout                    4.0.3\n",
            "atpublic                         4.1.0\n",
            "attrs                            24.2.0\n",
            "audioread                        3.0.1\n",
            "autograd                         1.7.0\n",
            "babel                            2.16.0\n",
            "backcall                         0.2.0\n",
            "beautifulsoup4                   4.12.3\n",
            "bidict                           0.23.1\n",
            "bigframes                        1.15.0\n",
            "bigquery-magics                  0.1.1\n",
            "bleach                           6.1.0\n",
            "blinker                          1.4\n",
            "blis                             0.7.11\n",
            "blosc2                           2.0.0\n",
            "bokeh                            3.4.3\n",
            "bqplot                           0.12.43\n",
            "branca                           0.7.2\n",
            "build                            1.2.1\n",
            "CacheControl                     0.14.0\n",
            "cachetools                       5.5.0\n",
            "catalogue                        2.0.10\n",
            "certifi                          2024.7.4\n",
            "cffi                             1.17.0\n",
            "chardet                          5.2.0\n",
            "charset-normalizer               3.3.2\n",
            "chex                             0.1.86\n",
            "clarabel                         0.9.0\n",
            "click                            8.1.7\n",
            "click-plugins                    1.1.1\n",
            "cligj                            0.7.2\n",
            "cloudpathlib                     0.18.1\n",
            "cloudpickle                      2.2.1\n",
            "cmake                            3.30.2\n",
            "cmdstanpy                        1.2.4\n",
            "colorcet                         3.1.0\n",
            "colorlover                       0.3.0\n",
            "colour                           0.1.5\n",
            "community                        1.0.0b1\n",
            "confection                       0.1.5\n",
            "cons                             0.4.6\n",
            "contextlib2                      21.6.0\n",
            "contourpy                        1.2.1\n",
            "cryptography                     43.0.0\n",
            "cuda-python                      12.2.1\n",
            "cudf-cu12                        24.4.1\n",
            "cufflinks                        0.17.3\n",
            "cupy-cuda12x                     12.2.0\n",
            "cvxopt                           1.3.2\n",
            "cvxpy                            1.5.3\n",
            "cycler                           0.12.1\n",
            "cymem                            2.0.8\n",
            "Cython                           3.0.11\n",
            "dask                             2024.7.1\n",
            "datascience                      0.17.6\n",
            "db-dtypes                        1.3.0\n",
            "dbus-python                      1.2.18\n",
            "debugpy                          1.6.6\n",
            "decorator                        4.4.2\n",
            "defusedxml                       0.7.1\n",
            "distributed                      2024.7.1\n",
            "distro                           1.7.0\n",
            "dlib                             19.24.2\n",
            "dm-tree                          0.1.8\n",
            "docstring_parser                 0.16\n",
            "docutils                         0.18.1\n",
            "dopamine_rl                      4.0.9\n",
            "duckdb                           0.10.3\n",
            "earthengine-api                  0.1.417\n",
            "easydict                         1.13\n",
            "ecos                             2.0.14\n",
            "editdistance                     0.8.1\n",
            "eerepr                           0.0.4\n",
            "einops                           0.8.0\n",
            "en-core-web-sm                   3.7.1\n",
            "entrypoints                      0.4\n",
            "et-xmlfile                       1.1.0\n",
            "etils                            1.7.0\n",
            "etuples                          0.3.9\n",
            "eval_type_backport               0.2.0\n",
            "exceptiongroup                   1.2.2\n",
            "fastai                           2.7.16\n",
            "fastcore                         1.5.55\n",
            "fastdownload                     0.0.7\n",
            "fastjsonschema                   2.20.0\n",
            "fastprogress                     1.0.3\n",
            "fastrlock                        0.8.2\n",
            "filelock                         3.15.4\n",
            "fiona                            1.9.6\n",
            "firebase-admin                   6.5.0\n",
            "Flask                            2.2.5\n",
            "flatbuffers                      24.3.25\n",
            "flax                             0.8.4\n",
            "folium                           0.17.0\n",
            "fonttools                        4.53.1\n",
            "frozendict                       2.4.4\n",
            "frozenlist                       1.4.1\n",
            "fsspec                           2024.6.1\n",
            "future                           1.0.0\n",
            "gast                             0.6.0\n",
            "gcsfs                            2024.6.1\n",
            "GDAL                             3.6.4\n",
            "gdown                            5.1.0\n",
            "geemap                           0.34.0\n",
            "gensim                           4.3.3\n",
            "geocoder                         1.38.1\n",
            "geographiclib                    2.0\n",
            "geopandas                        0.14.4\n",
            "geopy                            2.4.1\n",
            "gin-config                       0.5.0\n",
            "glob2                            0.7\n",
            "google                           2.0.3\n",
            "google-ai-generativelanguage     0.6.6\n",
            "google-api-core                  2.19.1\n",
            "google-api-python-client         2.137.0\n",
            "google-auth                      2.27.0\n",
            "google-auth-httplib2             0.2.0\n",
            "google-auth-oauthlib             1.2.1\n",
            "google-cloud-aiplatform          1.63.0\n",
            "google-cloud-bigquery            3.25.0\n",
            "google-cloud-bigquery-connection 1.15.5\n",
            "google-cloud-bigquery-storage    2.25.0\n",
            "google-cloud-bigtable            2.26.0\n",
            "google-cloud-core                2.4.1\n",
            "google-cloud-datastore           2.19.0\n",
            "google-cloud-firestore           2.16.1\n",
            "google-cloud-functions           1.16.5\n",
            "google-cloud-iam                 2.15.2\n",
            "google-cloud-language            2.13.4\n",
            "google-cloud-pubsub              2.23.0\n",
            "google-cloud-resource-manager    1.12.5\n",
            "google-cloud-storage             2.8.0\n",
            "google-cloud-translate           3.15.5\n",
            "google-colab                     1.0.0\n",
            "google-crc32c                    1.5.0\n",
            "google-generativeai              0.7.2\n",
            "google-pasta                     0.2.0\n",
            "google-resumable-media           2.7.2\n",
            "googleapis-common-protos         1.64.0\n",
            "googledrivedownloader            0.4\n",
            "graphviz                         0.20.3\n",
            "greenlet                         3.0.3\n",
            "grpc-google-iam-v1               0.13.1\n",
            "grpcio                           1.64.1\n",
            "grpcio-status                    1.48.2\n",
            "gspread                          6.0.2\n",
            "gspread-dataframe                3.3.1\n",
            "gym                              0.25.2\n",
            "gym-notices                      0.0.8\n",
            "h11                              0.14.0\n",
            "h5netcdf                         1.3.0\n",
            "h5py                             3.11.0\n",
            "holidays                         0.55\n",
            "holoviews                        1.18.3\n",
            "html5lib                         1.1\n",
            "httpcore                         1.0.5\n",
            "httpimport                       1.3.1\n",
            "httplib2                         0.22.0\n",
            "httpx                            0.27.2\n",
            "huggingface-hub                  0.23.5\n",
            "humanize                         4.10.0\n",
            "hyperopt                         0.2.7\n",
            "ibis-framework                   8.0.0\n",
            "idna                             3.8\n",
            "imageio                          2.34.2\n",
            "imageio-ffmpeg                   0.5.1\n",
            "imagesize                        1.4.1\n",
            "imbalanced-learn                 0.12.3\n",
            "imgaug                           0.4.0\n",
            "immutabledict                    4.2.0\n",
            "importlib_metadata               8.4.0\n",
            "importlib_resources              6.4.4\n",
            "imutils                          0.5.4\n",
            "inflect                          7.3.1\n",
            "iniconfig                        2.0.0\n",
            "intel-cmplr-lib-ur               2024.2.1\n",
            "intel-openmp                     2024.2.1\n",
            "ipyevents                        2.0.2\n",
            "ipyfilechooser                   0.6.0\n",
            "ipykernel                        5.5.6\n",
            "ipyleaflet                       0.18.2\n",
            "ipyparallel                      8.8.0\n",
            "ipython                          7.34.0\n",
            "ipython-genutils                 0.2.0\n",
            "ipython-sql                      0.5.0\n",
            "ipytree                          0.2.2\n",
            "ipywidgets                       7.7.1\n",
            "itsdangerous                     2.2.0\n",
            "jax                              0.4.26\n",
            "jaxlib                           0.4.26+cuda12.cudnn89\n",
            "jeepney                          0.7.1\n",
            "jellyfish                        1.1.0\n",
            "jieba                            0.42.1\n",
            "Jinja2                           3.1.4\n",
            "joblib                           1.4.2\n",
            "jsonpickle                       3.2.2\n",
            "jsonschema                       4.23.0\n",
            "jsonschema-specifications        2023.12.1\n",
            "jupyter-client                   6.1.12\n",
            "jupyter-console                  6.1.0\n",
            "jupyter_core                     5.7.2\n",
            "jupyter-server                   1.24.0\n",
            "jupyterlab_pygments              0.3.0\n",
            "jupyterlab_widgets               3.0.13\n",
            "kaggle                           1.6.17\n",
            "kagglehub                        0.2.9\n",
            "keras                            3.4.1\n",
            "keyring                          23.5.0\n",
            "kiwisolver                       1.4.5\n",
            "langcodes                        3.4.0\n",
            "language_data                    1.2.0\n",
            "launchpadlib                     1.10.16\n",
            "lazr.restfulclient               0.14.4\n",
            "lazr.uri                         1.0.6\n",
            "lazy_loader                      0.4\n",
            "libclang                         18.1.1\n",
            "librosa                          0.10.2.post1\n",
            "lightgbm                         4.4.0\n",
            "linkify-it-py                    2.0.3\n",
            "llvmlite                         0.43.0\n",
            "locket                           1.0.0\n",
            "logical-unification              0.4.6\n",
            "lxml                             4.9.4\n",
            "malloy                           2024.1089\n",
            "marisa-trie                      1.2.0\n",
            "Markdown                         3.7\n",
            "markdown-it-py                   3.0.0\n",
            "MarkupSafe                       2.1.5\n",
            "matplotlib                       3.7.1\n",
            "matplotlib-inline                0.1.7\n",
            "matplotlib-venn                  0.11.10\n",
            "mdit-py-plugins                  0.4.1\n",
            "mdurl                            0.1.2\n",
            "miniKanren                       1.0.3\n",
            "missingno                        0.5.2\n",
            "mistune                          0.8.4\n",
            "mizani                           0.9.3\n",
            "mkl                              2024.2.1\n",
            "ml-dtypes                        0.4.0\n",
            "mlxtend                          0.23.1\n",
            "more-itertools                   10.3.0\n",
            "moviepy                          1.0.3\n",
            "mpmath                           1.3.0\n",
            "msgpack                          1.0.8\n",
            "multidict                        6.0.5\n",
            "multipledispatch                 1.0.0\n",
            "multitasking                     0.0.11\n",
            "murmurhash                       1.0.10\n",
            "music21                          9.1.0\n",
            "namex                            0.0.8\n",
            "natsort                          8.4.0\n",
            "nbclassic                        1.1.0\n",
            "nbclient                         0.10.0\n",
            "nbconvert                        6.5.4\n",
            "nbformat                         5.10.4\n",
            "nest-asyncio                     1.6.0\n",
            "networkx                         3.3\n",
            "nibabel                          5.0.1\n",
            "nltk                             3.8.1\n",
            "notebook                         6.5.5\n",
            "notebook_shim                    0.2.4\n",
            "numba                            0.60.0\n",
            "numexpr                          2.10.1\n",
            "numpy                            1.26.4\n",
            "nvidia-nccl-cu12                 2.22.3\n",
            "nvtx                             0.2.10\n",
            "oauth2client                     4.1.3\n",
            "oauthlib                         3.2.2\n",
            "openai                           1.32.0\n",
            "opencv-contrib-python            4.10.0.84\n",
            "opencv-python                    4.10.0.84\n",
            "opencv-python-headless           4.10.0.84\n",
            "openpyxl                         3.1.5\n",
            "opt-einsum                       3.3.0\n",
            "optax                            0.2.2\n",
            "optree                           0.12.1\n",
            "orbax-checkpoint                 0.6.1\n",
            "osqp                             0.6.7.post0\n",
            "packaging                        24.1\n",
            "pandas                           2.1.4\n",
            "pandas-datareader                0.10.0\n",
            "pandas-gbq                       0.23.1\n",
            "pandas-stubs                     2.1.4.231227\n",
            "pandocfilters                    1.5.1\n",
            "panel                            1.4.5\n",
            "param                            2.1.1\n",
            "parso                            0.8.4\n",
            "parsy                            2.1\n",
            "partd                            1.4.2\n",
            "pathlib                          1.0.1\n",
            "patsy                            0.5.6\n",
            "peewee                           3.17.6\n",
            "pexpect                          4.9.0\n",
            "pickleshare                      0.7.5\n",
            "Pillow                           9.4.0\n",
            "pip                              24.1.2\n",
            "pip-tools                        7.4.1\n",
            "platformdirs                     4.2.2\n",
            "plotly                           5.15.0\n",
            "plotnine                         0.12.4\n",
            "pluggy                           1.5.0\n",
            "polars                           0.20.2\n",
            "pooch                            1.8.2\n",
            "portpicker                       1.5.2\n",
            "prefetch_generator               1.0.3\n",
            "preshed                          3.0.9\n",
            "prettytable                      3.11.0\n",
            "proglog                          0.1.10\n",
            "progressbar2                     4.2.0\n",
            "prometheus_client                0.20.0\n",
            "promise                          2.3\n",
            "prompt_toolkit                   3.0.47\n",
            "prophet                          1.1.5\n",
            "proto-plus                       1.24.0\n",
            "protobuf                         3.20.3\n",
            "psutil                           5.9.5\n",
            "psycopg2                         2.9.9\n",
            "ptyprocess                       0.7.0\n",
            "py-cpuinfo                       9.0.0\n",
            "py4j                             0.10.9.7\n",
            "pyarrow                          14.0.2\n",
            "pyarrow-hotfix                   0.6\n",
            "pyasn1                           0.6.0\n",
            "pyasn1_modules                   0.4.0\n",
            "pycocotools                      2.0.8\n",
            "pycparser                        2.22\n",
            "pydantic                         2.8.2\n",
            "pydantic_core                    2.20.1\n",
            "pydata-google-auth               1.8.2\n",
            "pydot                            1.4.2\n",
            "pydot-ng                         2.0.0\n",
            "pydotplus                        2.0.2\n",
            "PyDrive                          1.3.1\n",
            "PyDrive2                         1.6.3\n",
            "pyerfa                           2.0.1.4\n",
            "pygame                           2.6.0\n",
            "Pygments                         2.16.1\n",
            "PyGObject                        3.42.1\n",
            "PyJWT                            2.9.0\n",
            "pymc                             5.10.4\n",
            "pymystem3                        0.2.0\n",
            "pynvjitlink-cu12                 0.3.0\n",
            "PyOpenGL                         3.1.7\n",
            "pyOpenSSL                        24.2.1\n",
            "pyparsing                        3.1.4\n",
            "pyperclip                        1.9.0\n",
            "pyproj                           3.6.1\n",
            "pyproject_hooks                  1.1.0\n",
            "pyshp                            2.3.1\n",
            "PySocks                          1.7.1\n",
            "pytensor                         2.18.6\n",
            "pytest                           7.4.4\n",
            "python-apt                       2.4.0\n",
            "python-box                       7.2.0\n",
            "python-dateutil                  2.8.2\n",
            "python-louvain                   0.16\n",
            "python-slugify                   8.0.4\n",
            "python-utils                     3.8.2\n",
            "pytz                             2024.1\n",
            "pyviz_comms                      3.0.3\n",
            "PyYAML                           6.0.2\n",
            "pyzmq                            24.0.1\n",
            "qdldl                            0.1.7.post4\n",
            "ratelim                          0.1.6\n",
            "referencing                      0.35.1\n",
            "regex                            2024.5.15\n",
            "requests                         2.32.3\n",
            "requests-oauthlib                1.3.1\n",
            "requirements-parser              0.9.0\n",
            "rich                             13.8.0\n",
            "rmm-cu12                         24.4.0\n",
            "rpds-py                          0.20.0\n",
            "rpy2                             3.4.2\n",
            "rsa                              4.9\n",
            "safetensors                      0.4.4\n",
            "scikit-image                     0.23.2\n",
            "scikit-learn                     1.3.2\n",
            "scipy                            1.13.1\n",
            "scooby                           0.10.0\n",
            "scs                              3.2.7\n",
            "seaborn                          0.13.1\n",
            "SecretStorage                    3.3.1\n",
            "Send2Trash                       1.8.3\n",
            "sentencepiece                    0.1.99\n",
            "setuptools                       71.0.4\n",
            "shapely                          2.0.6\n",
            "shellingham                      1.5.4\n",
            "simple_parsing                   0.1.5\n",
            "six                              1.16.0\n",
            "sklearn-pandas                   2.2.0\n",
            "smart-open                       7.0.4\n",
            "sniffio                          1.3.1\n",
            "snowballstemmer                  2.2.0\n",
            "snowflake-connector-python       3.12.1\n",
            "sortedcontainers                 2.4.0\n",
            "soundfile                        0.12.1\n",
            "soupsieve                        2.6\n",
            "soxr                             0.5.0\n",
            "spacy                            3.7.6\n",
            "spacy-legacy                     3.0.12\n",
            "spacy-loggers                    1.0.5\n",
            "Sphinx                           5.0.2\n",
            "sphinxcontrib-applehelp          2.0.0\n",
            "sphinxcontrib-devhelp            2.0.0\n",
            "sphinxcontrib-htmlhelp           2.1.0\n",
            "sphinxcontrib-jsmath             1.0.1\n",
            "sphinxcontrib-qthelp             2.0.0\n",
            "sphinxcontrib-serializinghtml    2.0.0\n",
            "SQLAlchemy                       2.0.32\n",
            "sqlglot                          20.11.0\n",
            "sqlparse                         0.5.1\n",
            "srsly                            2.4.8\n",
            "stanio                           0.5.1\n",
            "statsmodels                      0.14.2\n",
            "StrEnum                          0.4.15\n",
            "sympy                            1.13.2\n",
            "tables                           3.8.0\n",
            "tabulate                         0.9.0\n",
            "tbb                              2021.13.1\n",
            "tblib                            3.0.0\n",
            "tenacity                         9.0.0\n",
            "tensorboard                      2.17.0\n",
            "tensorboard-data-server          0.7.2\n",
            "tensorflow                       2.17.0\n",
            "tensorflow-datasets              4.9.6\n",
            "tensorflow-hub                   0.16.1\n",
            "tensorflow-io-gcs-filesystem     0.37.1\n",
            "tensorflow-metadata              1.15.0\n",
            "tensorflow-probability           0.24.0\n",
            "tensorstore                      0.1.64\n",
            "termcolor                        2.4.0\n",
            "terminado                        0.18.1\n",
            "text-unidecode                   1.3\n",
            "textblob                         0.17.1\n",
            "tf_keras                         2.17.0\n",
            "tf-slim                          1.1.0\n",
            "thinc                            8.2.5\n",
            "threadpoolctl                    3.5.0\n",
            "tifffile                         2024.8.24\n",
            "tinycss2                         1.3.0\n",
            "tokenizers                       0.19.1\n",
            "toml                             0.10.2\n",
            "tomli                            2.0.1\n",
            "tomlkit                          0.13.2\n",
            "toolz                            0.12.1\n",
            "torch                            2.4.0+cu121\n",
            "torchaudio                       2.4.0+cu121\n",
            "torchsummary                     1.5.1\n",
            "torchvision                      0.19.0+cu121\n",
            "tornado                          6.3.3\n",
            "tqdm                             4.66.5\n",
            "traitlets                        5.7.1\n",
            "traittypes                       0.2.1\n",
            "transformers                     4.42.4\n",
            "tweepy                           4.14.0\n",
            "typeguard                        4.3.0\n",
            "typer                            0.12.5\n",
            "types-pytz                       2024.1.0.20240417\n",
            "types-setuptools                 73.0.0.20240822\n",
            "typing_extensions                4.12.2\n",
            "tzdata                           2024.1\n",
            "tzlocal                          5.2\n",
            "uc-micro-py                      1.0.3\n",
            "uritemplate                      4.1.1\n",
            "urllib3                          2.0.7\n",
            "vega-datasets                    0.9.0\n",
            "wadllib                          1.3.6\n",
            "wasabi                           1.1.3\n",
            "wcwidth                          0.2.13\n",
            "weasel                           0.4.1\n",
            "webcolors                        24.8.0\n",
            "webencodings                     0.5.1\n",
            "websocket-client                 1.8.0\n",
            "Werkzeug                         3.0.4\n",
            "wheel                            0.44.0\n",
            "widgetsnbextension               3.6.8\n",
            "wordcloud                        1.9.3\n",
            "wrapt                            1.16.0\n",
            "xarray                           2024.6.0\n",
            "xarray-einstats                  0.7.0\n",
            "xgboost                          2.1.1\n",
            "xlrd                             2.0.1\n",
            "xyzservices                      2024.6.0\n",
            "yarl                             1.9.4\n",
            "yellowbrick                      1.5\n",
            "yfinance                         0.2.43\n",
            "zict                             3.0.0\n",
            "zipp                             3.20.1\n"
          ]
        }
      ]
    },
    {
      "cell_type": "markdown",
      "source": [
        "#### **3. Upgrading a Package**\n",
        "\n",
        "To upgrade an existing package to the latest version, use the `pip install --upgrade` command.\n",
        "\n",
        "```bash\n",
        "# Upgrade a package\n",
        "!pip install --upgrade requests\n",
        "```\n",
        "\n",
        "This command upgrades the `requests` package to the latest version.\n",
        "\n"
      ],
      "metadata": {
        "id": "tI9AWG5suM5C"
      }
    },
    {
      "cell_type": "code",
      "source": [
        "!pip install --upgrade openai"
      ],
      "metadata": {
        "colab": {
          "base_uri": "https://localhost:8080/"
        },
        "id": "FqLY2cVlZiUy",
        "outputId": "2d6c8834-3dfb-475b-8126-725c10a11e73"
      },
      "execution_count": null,
      "outputs": [
        {
          "output_type": "stream",
          "name": "stdout",
          "text": [
            "Requirement already satisfied: openai in /usr/local/lib/python3.10/dist-packages (1.32.0)\n",
            "Collecting openai\n",
            "  Downloading openai-1.43.0-py3-none-any.whl.metadata (22 kB)\n",
            "Requirement already satisfied: anyio<5,>=3.5.0 in /usr/local/lib/python3.10/dist-packages (from openai) (3.7.1)\n",
            "Requirement already satisfied: distro<2,>=1.7.0 in /usr/lib/python3/dist-packages (from openai) (1.7.0)\n",
            "Requirement already satisfied: httpx<1,>=0.23.0 in /usr/local/lib/python3.10/dist-packages (from openai) (0.27.2)\n",
            "Collecting jiter<1,>=0.4.0 (from openai)\n",
            "  Downloading jiter-0.5.0-cp310-cp310-manylinux_2_17_x86_64.manylinux2014_x86_64.whl.metadata (3.6 kB)\n",
            "Requirement already satisfied: pydantic<3,>=1.9.0 in /usr/local/lib/python3.10/dist-packages (from openai) (2.8.2)\n",
            "Requirement already satisfied: sniffio in /usr/local/lib/python3.10/dist-packages (from openai) (1.3.1)\n",
            "Requirement already satisfied: tqdm>4 in /usr/local/lib/python3.10/dist-packages (from openai) (4.66.5)\n",
            "Requirement already satisfied: typing-extensions<5,>=4.11 in /usr/local/lib/python3.10/dist-packages (from openai) (4.12.2)\n",
            "Requirement already satisfied: idna>=2.8 in /usr/local/lib/python3.10/dist-packages (from anyio<5,>=3.5.0->openai) (3.8)\n",
            "Requirement already satisfied: exceptiongroup in /usr/local/lib/python3.10/dist-packages (from anyio<5,>=3.5.0->openai) (1.2.2)\n",
            "Requirement already satisfied: certifi in /usr/local/lib/python3.10/dist-packages (from httpx<1,>=0.23.0->openai) (2024.7.4)\n",
            "Requirement already satisfied: httpcore==1.* in /usr/local/lib/python3.10/dist-packages (from httpx<1,>=0.23.0->openai) (1.0.5)\n",
            "Requirement already satisfied: h11<0.15,>=0.13 in /usr/local/lib/python3.10/dist-packages (from httpcore==1.*->httpx<1,>=0.23.0->openai) (0.14.0)\n",
            "Requirement already satisfied: annotated-types>=0.4.0 in /usr/local/lib/python3.10/dist-packages (from pydantic<3,>=1.9.0->openai) (0.7.0)\n",
            "Requirement already satisfied: pydantic-core==2.20.1 in /usr/local/lib/python3.10/dist-packages (from pydantic<3,>=1.9.0->openai) (2.20.1)\n",
            "Downloading openai-1.43.0-py3-none-any.whl (365 kB)\n",
            "\u001b[2K   \u001b[90m━━━━━━━━━━━━━━━━━━━━━━━━━━━━━━━━━━━━━━━━\u001b[0m \u001b[32m365.7/365.7 kB\u001b[0m \u001b[31m8.3 MB/s\u001b[0m eta \u001b[36m0:00:00\u001b[0m\n",
            "\u001b[?25hDownloading jiter-0.5.0-cp310-cp310-manylinux_2_17_x86_64.manylinux2014_x86_64.whl (318 kB)\n",
            "\u001b[2K   \u001b[90m━━━━━━━━━━━━━━━━━━━━━━━━━━━━━━━━━━━━━━━━\u001b[0m \u001b[32m318.9/318.9 kB\u001b[0m \u001b[31m20.1 MB/s\u001b[0m eta \u001b[36m0:00:00\u001b[0m\n",
            "\u001b[?25hInstalling collected packages: jiter, openai\n",
            "  Attempting uninstall: openai\n",
            "    Found existing installation: openai 1.32.0\n",
            "    Uninstalling openai-1.32.0:\n",
            "      Successfully uninstalled openai-1.32.0\n",
            "Successfully installed jiter-0.5.0 openai-1.43.0\n"
          ]
        }
      ]
    },
    {
      "cell_type": "markdown",
      "source": [
        "#### **4. Uninstalling a Package**\n",
        "\n",
        "If you no longer need a package, you can remove it using the `pip uninstall` command.\n",
        "\n",
        "```bash\n",
        "# Uninstall a package\n",
        "!pip uninstall requests\n",
        "```\n",
        "\n",
        "This command will remove the `requests` package from your environment.\n",
        "\n"
      ],
      "metadata": {
        "id": "1xzuKoKruQb7"
      }
    },
    {
      "cell_type": "code",
      "source": [
        "!pip uninstall openai"
      ],
      "metadata": {
        "colab": {
          "base_uri": "https://localhost:8080/"
        },
        "id": "vQwukmrcZyOT",
        "outputId": "84141293-3861-4546-ce68-a805a870e935"
      },
      "execution_count": null,
      "outputs": [
        {
          "output_type": "stream",
          "name": "stdout",
          "text": [
            "Found existing installation: openai 1.43.0\n",
            "Uninstalling openai-1.43.0:\n",
            "  Would remove:\n",
            "    /usr/local/bin/openai\n",
            "    /usr/local/lib/python3.10/dist-packages/openai-1.43.0.dist-info/*\n",
            "    /usr/local/lib/python3.10/dist-packages/openai/*\n",
            "Proceed (Y/n)? y\n",
            "  Successfully uninstalled openai-1.43.0\n"
          ]
        }
      ]
    },
    {
      "cell_type": "code",
      "source": [
        "!pip list"
      ],
      "metadata": {
        "colab": {
          "base_uri": "https://localhost:8080/"
        },
        "id": "dtDgm9PUZ4y5",
        "outputId": "7ece728d-235a-4b61-a8c9-a8f00da27c07"
      },
      "execution_count": null,
      "outputs": [
        {
          "output_type": "stream",
          "name": "stdout",
          "text": [
            "Package                          Version\n",
            "-------------------------------- ---------------------\n",
            "absl-py                          1.4.0\n",
            "accelerate                       0.32.1\n",
            "aiohappyeyeballs                 2.4.0\n",
            "aiohttp                          3.10.5\n",
            "aiosignal                        1.3.1\n",
            "alabaster                        0.7.16\n",
            "albucore                         0.0.13\n",
            "albumentations                   1.4.14\n",
            "altair                           4.2.2\n",
            "annotated-types                  0.7.0\n",
            "anyio                            3.7.1\n",
            "argon2-cffi                      23.1.0\n",
            "argon2-cffi-bindings             21.2.0\n",
            "array_record                     0.5.1\n",
            "arviz                            0.18.0\n",
            "asn1crypto                       1.5.1\n",
            "astropy                          6.1.2\n",
            "astropy-iers-data                0.2024.8.26.0.31.57\n",
            "astunparse                       1.6.3\n",
            "async-timeout                    4.0.3\n",
            "atpublic                         4.1.0\n",
            "attrs                            24.2.0\n",
            "audioread                        3.0.1\n",
            "autograd                         1.7.0\n",
            "babel                            2.16.0\n",
            "backcall                         0.2.0\n",
            "beautifulsoup4                   4.12.3\n",
            "bidict                           0.23.1\n",
            "bigframes                        1.15.0\n",
            "bigquery-magics                  0.1.1\n",
            "bleach                           6.1.0\n",
            "blinker                          1.4\n",
            "blis                             0.7.11\n",
            "blosc2                           2.0.0\n",
            "bokeh                            3.4.3\n",
            "bqplot                           0.12.43\n",
            "branca                           0.7.2\n",
            "build                            1.2.1\n",
            "CacheControl                     0.14.0\n",
            "cachetools                       5.5.0\n",
            "catalogue                        2.0.10\n",
            "certifi                          2024.7.4\n",
            "cffi                             1.17.0\n",
            "chardet                          5.2.0\n",
            "charset-normalizer               3.3.2\n",
            "chex                             0.1.86\n",
            "clarabel                         0.9.0\n",
            "click                            8.1.7\n",
            "click-plugins                    1.1.1\n",
            "cligj                            0.7.2\n",
            "cloudpathlib                     0.18.1\n",
            "cloudpickle                      2.2.1\n",
            "cmake                            3.30.2\n",
            "cmdstanpy                        1.2.4\n",
            "colorcet                         3.1.0\n",
            "colorlover                       0.3.0\n",
            "colour                           0.1.5\n",
            "community                        1.0.0b1\n",
            "confection                       0.1.5\n",
            "cons                             0.4.6\n",
            "contextlib2                      21.6.0\n",
            "contourpy                        1.2.1\n",
            "cryptography                     43.0.0\n",
            "cuda-python                      12.2.1\n",
            "cudf-cu12                        24.4.1\n",
            "cufflinks                        0.17.3\n",
            "cupy-cuda12x                     12.2.0\n",
            "cvxopt                           1.3.2\n",
            "cvxpy                            1.5.3\n",
            "cycler                           0.12.1\n",
            "cymem                            2.0.8\n",
            "Cython                           3.0.11\n",
            "dask                             2024.7.1\n",
            "datascience                      0.17.6\n",
            "db-dtypes                        1.3.0\n",
            "dbus-python                      1.2.18\n",
            "debugpy                          1.6.6\n",
            "decorator                        4.4.2\n",
            "defusedxml                       0.7.1\n",
            "distributed                      2024.7.1\n",
            "distro                           1.7.0\n",
            "dlib                             19.24.2\n",
            "dm-tree                          0.1.8\n",
            "docstring_parser                 0.16\n",
            "docutils                         0.18.1\n",
            "dopamine_rl                      4.0.9\n",
            "duckdb                           0.10.3\n",
            "earthengine-api                  0.1.417\n",
            "easydict                         1.13\n",
            "ecos                             2.0.14\n",
            "editdistance                     0.8.1\n",
            "eerepr                           0.0.4\n",
            "einops                           0.8.0\n",
            "en-core-web-sm                   3.7.1\n",
            "entrypoints                      0.4\n",
            "et-xmlfile                       1.1.0\n",
            "etils                            1.7.0\n",
            "etuples                          0.3.9\n",
            "eval_type_backport               0.2.0\n",
            "exceptiongroup                   1.2.2\n",
            "fastai                           2.7.16\n",
            "fastcore                         1.5.55\n",
            "fastdownload                     0.0.7\n",
            "fastjsonschema                   2.20.0\n",
            "fastprogress                     1.0.3\n",
            "fastrlock                        0.8.2\n",
            "filelock                         3.15.4\n",
            "fiona                            1.9.6\n",
            "firebase-admin                   6.5.0\n",
            "Flask                            2.2.5\n",
            "flatbuffers                      24.3.25\n",
            "flax                             0.8.4\n",
            "folium                           0.17.0\n",
            "fonttools                        4.53.1\n",
            "frozendict                       2.4.4\n",
            "frozenlist                       1.4.1\n",
            "fsspec                           2024.6.1\n",
            "future                           1.0.0\n",
            "gast                             0.6.0\n",
            "gcsfs                            2024.6.1\n",
            "GDAL                             3.6.4\n",
            "gdown                            5.1.0\n",
            "geemap                           0.34.0\n",
            "gensim                           4.3.3\n",
            "geocoder                         1.38.1\n",
            "geographiclib                    2.0\n",
            "geopandas                        0.14.4\n",
            "geopy                            2.4.1\n",
            "gin-config                       0.5.0\n",
            "glob2                            0.7\n",
            "google                           2.0.3\n",
            "google-ai-generativelanguage     0.6.6\n",
            "google-api-core                  2.19.1\n",
            "google-api-python-client         2.137.0\n",
            "google-auth                      2.27.0\n",
            "google-auth-httplib2             0.2.0\n",
            "google-auth-oauthlib             1.2.1\n",
            "google-cloud-aiplatform          1.63.0\n",
            "google-cloud-bigquery            3.25.0\n",
            "google-cloud-bigquery-connection 1.15.5\n",
            "google-cloud-bigquery-storage    2.25.0\n",
            "google-cloud-bigtable            2.26.0\n",
            "google-cloud-core                2.4.1\n",
            "google-cloud-datastore           2.19.0\n",
            "google-cloud-firestore           2.16.1\n",
            "google-cloud-functions           1.16.5\n",
            "google-cloud-iam                 2.15.2\n",
            "google-cloud-language            2.13.4\n",
            "google-cloud-pubsub              2.23.0\n",
            "google-cloud-resource-manager    1.12.5\n",
            "google-cloud-storage             2.8.0\n",
            "google-cloud-translate           3.15.5\n",
            "google-colab                     1.0.0\n",
            "google-crc32c                    1.5.0\n",
            "google-generativeai              0.7.2\n",
            "google-pasta                     0.2.0\n",
            "google-resumable-media           2.7.2\n",
            "googleapis-common-protos         1.64.0\n",
            "googledrivedownloader            0.4\n",
            "graphviz                         0.20.3\n",
            "greenlet                         3.0.3\n",
            "grpc-google-iam-v1               0.13.1\n",
            "grpcio                           1.64.1\n",
            "grpcio-status                    1.48.2\n",
            "gspread                          6.0.2\n",
            "gspread-dataframe                3.3.1\n",
            "gym                              0.25.2\n",
            "gym-notices                      0.0.8\n",
            "h11                              0.14.0\n",
            "h5netcdf                         1.3.0\n",
            "h5py                             3.11.0\n",
            "holidays                         0.55\n",
            "holoviews                        1.18.3\n",
            "html5lib                         1.1\n",
            "httpcore                         1.0.5\n",
            "httpimport                       1.3.1\n",
            "httplib2                         0.22.0\n",
            "httpx                            0.27.2\n",
            "huggingface-hub                  0.23.5\n",
            "humanize                         4.10.0\n",
            "hyperopt                         0.2.7\n",
            "ibis-framework                   8.0.0\n",
            "idna                             3.8\n",
            "imageio                          2.34.2\n",
            "imageio-ffmpeg                   0.5.1\n",
            "imagesize                        1.4.1\n",
            "imbalanced-learn                 0.12.3\n",
            "imgaug                           0.4.0\n",
            "immutabledict                    4.2.0\n",
            "importlib_metadata               8.4.0\n",
            "importlib_resources              6.4.4\n",
            "imutils                          0.5.4\n",
            "inflect                          7.3.1\n",
            "iniconfig                        2.0.0\n",
            "intel-cmplr-lib-ur               2024.2.1\n",
            "intel-openmp                     2024.2.1\n",
            "ipyevents                        2.0.2\n",
            "ipyfilechooser                   0.6.0\n",
            "ipykernel                        5.5.6\n",
            "ipyleaflet                       0.18.2\n",
            "ipyparallel                      8.8.0\n",
            "ipython                          7.34.0\n",
            "ipython-genutils                 0.2.0\n",
            "ipython-sql                      0.5.0\n",
            "ipytree                          0.2.2\n",
            "ipywidgets                       7.7.1\n",
            "itsdangerous                     2.2.0\n",
            "jax                              0.4.26\n",
            "jaxlib                           0.4.26+cuda12.cudnn89\n",
            "jeepney                          0.7.1\n",
            "jellyfish                        1.1.0\n",
            "jieba                            0.42.1\n",
            "Jinja2                           3.1.4\n",
            "jiter                            0.5.0\n",
            "joblib                           1.4.2\n",
            "jsonpickle                       3.2.2\n",
            "jsonschema                       4.23.0\n",
            "jsonschema-specifications        2023.12.1\n",
            "jupyter-client                   6.1.12\n",
            "jupyter-console                  6.1.0\n",
            "jupyter_core                     5.7.2\n",
            "jupyter-server                   1.24.0\n",
            "jupyterlab_pygments              0.3.0\n",
            "jupyterlab_widgets               3.0.13\n",
            "kaggle                           1.6.17\n",
            "kagglehub                        0.2.9\n",
            "keras                            3.4.1\n",
            "keyring                          23.5.0\n",
            "kiwisolver                       1.4.5\n",
            "langcodes                        3.4.0\n",
            "language_data                    1.2.0\n",
            "launchpadlib                     1.10.16\n",
            "lazr.restfulclient               0.14.4\n",
            "lazr.uri                         1.0.6\n",
            "lazy_loader                      0.4\n",
            "libclang                         18.1.1\n",
            "librosa                          0.10.2.post1\n",
            "lightgbm                         4.4.0\n",
            "linkify-it-py                    2.0.3\n",
            "llvmlite                         0.43.0\n",
            "locket                           1.0.0\n",
            "logical-unification              0.4.6\n",
            "lxml                             4.9.4\n",
            "malloy                           2024.1089\n",
            "marisa-trie                      1.2.0\n",
            "Markdown                         3.7\n",
            "markdown-it-py                   3.0.0\n",
            "MarkupSafe                       2.1.5\n",
            "matplotlib                       3.7.1\n",
            "matplotlib-inline                0.1.7\n",
            "matplotlib-venn                  0.11.10\n",
            "mdit-py-plugins                  0.4.1\n",
            "mdurl                            0.1.2\n",
            "miniKanren                       1.0.3\n",
            "missingno                        0.5.2\n",
            "mistune                          0.8.4\n",
            "mizani                           0.9.3\n",
            "mkl                              2024.2.1\n",
            "ml-dtypes                        0.4.0\n",
            "mlxtend                          0.23.1\n",
            "more-itertools                   10.3.0\n",
            "moviepy                          1.0.3\n",
            "mpmath                           1.3.0\n",
            "msgpack                          1.0.8\n",
            "multidict                        6.0.5\n",
            "multipledispatch                 1.0.0\n",
            "multitasking                     0.0.11\n",
            "murmurhash                       1.0.10\n",
            "music21                          9.1.0\n",
            "namex                            0.0.8\n",
            "natsort                          8.4.0\n",
            "nbclassic                        1.1.0\n",
            "nbclient                         0.10.0\n",
            "nbconvert                        6.5.4\n",
            "nbformat                         5.10.4\n",
            "nest-asyncio                     1.6.0\n",
            "networkx                         3.3\n",
            "nibabel                          5.0.1\n",
            "nltk                             3.8.1\n",
            "notebook                         6.5.5\n",
            "notebook_shim                    0.2.4\n",
            "numba                            0.60.0\n",
            "numexpr                          2.10.1\n",
            "numpy                            1.26.4\n",
            "nvidia-nccl-cu12                 2.22.3\n",
            "nvtx                             0.2.10\n",
            "oauth2client                     4.1.3\n",
            "oauthlib                         3.2.2\n",
            "opencv-contrib-python            4.10.0.84\n",
            "opencv-python                    4.10.0.84\n",
            "opencv-python-headless           4.10.0.84\n",
            "openpyxl                         3.1.5\n",
            "opt-einsum                       3.3.0\n",
            "optax                            0.2.2\n",
            "optree                           0.12.1\n",
            "orbax-checkpoint                 0.6.1\n",
            "osqp                             0.6.7.post0\n",
            "packaging                        24.1\n",
            "pandas                           2.1.4\n",
            "pandas-datareader                0.10.0\n",
            "pandas-gbq                       0.23.1\n",
            "pandas-stubs                     2.1.4.231227\n",
            "pandocfilters                    1.5.1\n",
            "panel                            1.4.5\n",
            "param                            2.1.1\n",
            "parso                            0.8.4\n",
            "parsy                            2.1\n",
            "partd                            1.4.2\n",
            "pathlib                          1.0.1\n",
            "patsy                            0.5.6\n",
            "peewee                           3.17.6\n",
            "pexpect                          4.9.0\n",
            "pickleshare                      0.7.5\n",
            "Pillow                           9.4.0\n",
            "pip                              24.1.2\n",
            "pip-tools                        7.4.1\n",
            "platformdirs                     4.2.2\n",
            "plotly                           5.15.0\n",
            "plotnine                         0.12.4\n",
            "pluggy                           1.5.0\n",
            "polars                           0.20.2\n",
            "pooch                            1.8.2\n",
            "portpicker                       1.5.2\n",
            "prefetch_generator               1.0.3\n",
            "preshed                          3.0.9\n",
            "prettytable                      3.11.0\n",
            "proglog                          0.1.10\n",
            "progressbar2                     4.2.0\n",
            "prometheus_client                0.20.0\n",
            "promise                          2.3\n",
            "prompt_toolkit                   3.0.47\n",
            "prophet                          1.1.5\n",
            "proto-plus                       1.24.0\n",
            "protobuf                         3.20.3\n",
            "psutil                           5.9.5\n",
            "psycopg2                         2.9.9\n",
            "ptyprocess                       0.7.0\n",
            "py-cpuinfo                       9.0.0\n",
            "py4j                             0.10.9.7\n",
            "pyarrow                          14.0.2\n",
            "pyarrow-hotfix                   0.6\n",
            "pyasn1                           0.6.0\n",
            "pyasn1_modules                   0.4.0\n",
            "pycocotools                      2.0.8\n",
            "pycparser                        2.22\n",
            "pydantic                         2.8.2\n",
            "pydantic_core                    2.20.1\n",
            "pydata-google-auth               1.8.2\n",
            "pydot                            1.4.2\n",
            "pydot-ng                         2.0.0\n",
            "pydotplus                        2.0.2\n",
            "PyDrive                          1.3.1\n",
            "PyDrive2                         1.6.3\n",
            "pyerfa                           2.0.1.4\n",
            "pygame                           2.6.0\n",
            "Pygments                         2.16.1\n",
            "PyGObject                        3.42.1\n",
            "PyJWT                            2.9.0\n",
            "pymc                             5.10.4\n",
            "pymystem3                        0.2.0\n",
            "pynvjitlink-cu12                 0.3.0\n",
            "PyOpenGL                         3.1.7\n",
            "pyOpenSSL                        24.2.1\n",
            "pyparsing                        3.1.4\n",
            "pyperclip                        1.9.0\n",
            "pyproj                           3.6.1\n",
            "pyproject_hooks                  1.1.0\n",
            "pyshp                            2.3.1\n",
            "PySocks                          1.7.1\n",
            "pytensor                         2.18.6\n",
            "pytest                           7.4.4\n",
            "python-apt                       2.4.0\n",
            "python-box                       7.2.0\n",
            "python-dateutil                  2.8.2\n",
            "python-louvain                   0.16\n",
            "python-slugify                   8.0.4\n",
            "python-utils                     3.8.2\n",
            "pytz                             2024.1\n",
            "pyviz_comms                      3.0.3\n",
            "PyYAML                           6.0.2\n",
            "pyzmq                            24.0.1\n",
            "qdldl                            0.1.7.post4\n",
            "ratelim                          0.1.6\n",
            "referencing                      0.35.1\n",
            "regex                            2024.5.15\n",
            "requests                         2.32.3\n",
            "requests-oauthlib                1.3.1\n",
            "requirements-parser              0.9.0\n",
            "rich                             13.8.0\n",
            "rmm-cu12                         24.4.0\n",
            "rpds-py                          0.20.0\n",
            "rpy2                             3.4.2\n",
            "rsa                              4.9\n",
            "safetensors                      0.4.4\n",
            "scikit-image                     0.23.2\n",
            "scikit-learn                     1.3.2\n",
            "scipy                            1.13.1\n",
            "scooby                           0.10.0\n",
            "scs                              3.2.7\n",
            "seaborn                          0.13.1\n",
            "SecretStorage                    3.3.1\n",
            "Send2Trash                       1.8.3\n",
            "sentencepiece                    0.1.99\n",
            "setuptools                       71.0.4\n",
            "shapely                          2.0.6\n",
            "shellingham                      1.5.4\n",
            "simple_parsing                   0.1.5\n",
            "six                              1.16.0\n",
            "sklearn-pandas                   2.2.0\n",
            "smart-open                       7.0.4\n",
            "sniffio                          1.3.1\n",
            "snowballstemmer                  2.2.0\n",
            "snowflake-connector-python       3.12.1\n",
            "sortedcontainers                 2.4.0\n",
            "soundfile                        0.12.1\n",
            "soupsieve                        2.6\n",
            "soxr                             0.5.0\n",
            "spacy                            3.7.6\n",
            "spacy-legacy                     3.0.12\n",
            "spacy-loggers                    1.0.5\n",
            "Sphinx                           5.0.2\n",
            "sphinxcontrib-applehelp          2.0.0\n",
            "sphinxcontrib-devhelp            2.0.0\n",
            "sphinxcontrib-htmlhelp           2.1.0\n",
            "sphinxcontrib-jsmath             1.0.1\n",
            "sphinxcontrib-qthelp             2.0.0\n",
            "sphinxcontrib-serializinghtml    2.0.0\n",
            "SQLAlchemy                       2.0.32\n",
            "sqlglot                          20.11.0\n",
            "sqlparse                         0.5.1\n",
            "srsly                            2.4.8\n",
            "stanio                           0.5.1\n",
            "statsmodels                      0.14.2\n",
            "StrEnum                          0.4.15\n",
            "sympy                            1.13.2\n",
            "tables                           3.8.0\n",
            "tabulate                         0.9.0\n",
            "tbb                              2021.13.1\n",
            "tblib                            3.0.0\n",
            "tenacity                         9.0.0\n",
            "tensorboard                      2.17.0\n",
            "tensorboard-data-server          0.7.2\n",
            "tensorflow                       2.17.0\n",
            "tensorflow-datasets              4.9.6\n",
            "tensorflow-hub                   0.16.1\n",
            "tensorflow-io-gcs-filesystem     0.37.1\n",
            "tensorflow-metadata              1.15.0\n",
            "tensorflow-probability           0.24.0\n",
            "tensorstore                      0.1.64\n",
            "termcolor                        2.4.0\n",
            "terminado                        0.18.1\n",
            "text-unidecode                   1.3\n",
            "textblob                         0.17.1\n",
            "tf_keras                         2.17.0\n",
            "tf-slim                          1.1.0\n",
            "thinc                            8.2.5\n",
            "threadpoolctl                    3.5.0\n",
            "tifffile                         2024.8.24\n",
            "tinycss2                         1.3.0\n",
            "tokenizers                       0.19.1\n",
            "toml                             0.10.2\n",
            "tomli                            2.0.1\n",
            "tomlkit                          0.13.2\n",
            "toolz                            0.12.1\n",
            "torch                            2.4.0+cu121\n",
            "torchaudio                       2.4.0+cu121\n",
            "torchsummary                     1.5.1\n",
            "torchvision                      0.19.0+cu121\n",
            "tornado                          6.3.3\n",
            "tqdm                             4.66.5\n",
            "traitlets                        5.7.1\n",
            "traittypes                       0.2.1\n",
            "transformers                     4.42.4\n",
            "tweepy                           4.14.0\n",
            "typeguard                        4.3.0\n",
            "typer                            0.12.5\n",
            "types-pytz                       2024.1.0.20240417\n",
            "types-setuptools                 73.0.0.20240822\n",
            "typing_extensions                4.12.2\n",
            "tzdata                           2024.1\n",
            "tzlocal                          5.2\n",
            "uc-micro-py                      1.0.3\n",
            "uritemplate                      4.1.1\n",
            "urllib3                          2.0.7\n",
            "vega-datasets                    0.9.0\n",
            "wadllib                          1.3.6\n",
            "wasabi                           1.1.3\n",
            "wcwidth                          0.2.13\n",
            "weasel                           0.4.1\n",
            "webcolors                        24.8.0\n",
            "webencodings                     0.5.1\n",
            "websocket-client                 1.8.0\n",
            "Werkzeug                         3.0.4\n",
            "wheel                            0.44.0\n",
            "widgetsnbextension               3.6.8\n",
            "wordcloud                        1.9.3\n",
            "wrapt                            1.16.0\n",
            "xarray                           2024.6.0\n",
            "xarray-einstats                  0.7.0\n",
            "xgboost                          2.1.1\n",
            "xlrd                             2.0.1\n",
            "xyzservices                      2024.6.0\n",
            "yarl                             1.9.4\n",
            "yellowbrick                      1.5\n",
            "yfinance                         0.2.43\n",
            "zict                             3.0.0\n",
            "zipp                             3.20.1\n"
          ]
        }
      ]
    },
    {
      "cell_type": "markdown",
      "source": [
        "#### **5. Installing a Specific Version**\n",
        "\n",
        "If you need a specific version of a package, you can specify the version number during installation.\n",
        "\n",
        "```bash\n",
        "# Install a specific version of a package\n",
        "!pip install requests==2.24.0\n",
        "```\n",
        "\n",
        "This installs version `2.24.0` of the `requests` package.\n",
        "\n",
        "---\n",
        "\n"
      ],
      "metadata": {
        "id": "mLG-Iv2huTQG"
      }
    },
    {
      "cell_type": "markdown",
      "source": [
        "#### **6. Using PIP in Google Colab**\n",
        "\n",
        "In Google Colab, you can use PIP just like in any other Python environment. Simply prefix your PIP commands with a `!` to run them in a Colab cell.\n",
        "\n",
        "```python\n",
        "# Example: Installing a package in Google Colab\n",
        "!pip install numpy\n",
        "\n",
        "# Importing and using the installed package\n",
        "import numpy as np\n",
        "\n",
        "# Using numpy to create an array\n",
        "arr = np.array([1, 2, 3, 4, 5])\n",
        "print(arr)\n",
        "```\n",
        "\n",
        "---"
      ],
      "metadata": {
        "id": "vx9Cd1rSuWaE"
      }
    },
    {
      "cell_type": "code",
      "source": [
        "import numpy as np\n",
        "\n",
        "list1 = [1,2,3,4,5,1,2,3,5,3,2,7,4,5,2,1]\n",
        "\n",
        "arr = list(np.unique(list1))\n",
        "print(arr)\n",
        "\n",
        "\n",
        "print(type(arr))"
      ],
      "metadata": {
        "colab": {
          "base_uri": "https://localhost:8080/"
        },
        "id": "mthRs7TFelTc",
        "outputId": "f78f53ee-1e35-45d2-a653-6ce07320dd69"
      },
      "execution_count": null,
      "outputs": [
        {
          "output_type": "stream",
          "name": "stdout",
          "text": [
            "[1, 2, 3, 4, 5, 7]\n",
            "<class 'list'>\n"
          ]
        }
      ]
    },
    {
      "cell_type": "code",
      "source": [
        "!pip install sample1001"
      ],
      "metadata": {
        "colab": {
          "base_uri": "https://localhost:8080/"
        },
        "id": "AKWGJSf9cHcf",
        "outputId": "cf456471-e203-4e7c-b4a1-c6f92a0c2a48"
      },
      "execution_count": null,
      "outputs": [
        {
          "output_type": "stream",
          "name": "stdout",
          "text": [
            "Collecting sample1001\n",
            "  Downloading sample1001-1.2.1-py2.py3-none-any.whl.metadata (1.5 kB)\n",
            "Collecting peppercorn (from sample1001)\n",
            "  Downloading peppercorn-0.6-py3-none-any.whl.metadata (3.4 kB)\n",
            "Downloading sample1001-1.2.1-py2.py3-none-any.whl (3.6 kB)\n",
            "Downloading peppercorn-0.6-py3-none-any.whl (4.8 kB)\n",
            "Installing collected packages: peppercorn, sample1001\n",
            "Successfully installed peppercorn-0.6 sample1001-1.2.1\n"
          ]
        }
      ]
    },
    {
      "cell_type": "code",
      "source": [
        "# prompt: help me to write a code for demonstrating python package\n",
        "\n",
        "# Creating a directory for your package\n",
        "!mkdir mypackage\n",
        "\n",
        "# Writing the first module to the package\n",
        "with open('mypackage/module1.py', 'w') as f:\n",
        "  f.write('def greet(name):\\n')\n",
        "  f.write('  return f\"Hello, {name}!\"\\n')\n",
        "\n",
        "# Writing the second module to the package\n",
        "with open('mypackage/module2.py', 'w') as f:\n",
        "  f.write('def farewell(name):\\n')\n",
        "  f.write('  return f\"Goodbye, {name}!\"\\n')\n",
        "\n",
        "# Importing your custom package modules\n",
        "from mypackage import module1, module2\n",
        "\n",
        "# Using the functions from your package\n",
        "greeting = module1.greet(\"Alice\")\n",
        "farewell = module2.farewell(\"Alice\")\n",
        "\n",
        "print(greeting)  # Output: Hello, Alice!\n",
        "print(farewell)  # Output: Goodbye, Alice!\n"
      ],
      "metadata": {
        "colab": {
          "base_uri": "https://localhost:8080/"
        },
        "id": "TGHriiGecNC6",
        "outputId": "8814e01e-107c-4c6f-f6c6-a6cf5cf66914"
      },
      "execution_count": null,
      "outputs": [
        {
          "output_type": "stream",
          "name": "stdout",
          "text": [
            "mkdir: cannot create directory ‘mypackage’: File exists\n",
            "Hello, Alice!\n",
            "Goodbye, Alice!\n"
          ]
        }
      ]
    },
    {
      "cell_type": "markdown",
      "source": [
        "## **Strings**\n",
        "\n",
        "---\n",
        "\n"
      ],
      "metadata": {
        "id": "x6DCeiAUvOjK"
      }
    },
    {
      "cell_type": "markdown",
      "source": [
        "### **What is a String?**\n",
        "\n",
        "A string in Python is a sequence of characters enclosed within single quotes (`'`), double quotes (`\"`), or triple quotes (`'''` or `\"\"\"`). Strings are commonly used to represent text.\n",
        "\n",
        "---\n",
        "\n"
      ],
      "metadata": {
        "id": "ZRDNMCSFvTpP"
      }
    },
    {
      "cell_type": "markdown",
      "source": [
        "### **Basic String Operations**\n",
        "\n",
        "1. **Concatenation**\n",
        "\n",
        "   - You can combine two or more strings using the `+` operator.\n",
        "\n",
        "   ```python\n",
        "   first_name = \"John\"\n",
        "   last_name = \"Doe\"\n",
        "   full_name = first_name + \" \" + last_name\n",
        "   print(full_name)  # Output: John Doe\n",
        "   ```\n",
        "\n",
        "2. **Repetition**\n",
        "\n",
        "   - You can repeat a string multiple times using the `*` operator.\n",
        "\n",
        "   ```python\n",
        "   word = \"Hello\"\n",
        "   repeated_word = word * 3\n",
        "   print(repeated_word)  # Output: HelloHelloHello\n",
        "   ```\n",
        "\n",
        "3. **Indexing**\n",
        "\n",
        "   - Strings are indexed, starting with 0 for the first character.\n",
        "\n",
        "   ```python\n",
        "   text = \"Python\"\n",
        "   first_char = text[0]\n",
        "   last_char = text[-1]\n",
        "   print(first_char)  # Output: P\n",
        "   print(last_char)   # Output: n\n",
        "   ```\n",
        "\n",
        "4. **Slicing**\n",
        "\n",
        "   - You can extract a part of a string using slicing.\n",
        "\n",
        "   ```python\n",
        "   text = \"Python Programming\"\n",
        "   sliced_text = text[0:6]  # Extracts characters from index 0 to 5\n",
        "   print(sliced_text)  # Output: Python\n",
        "   ```\n",
        "\n",
        "---\n",
        "\n"
      ],
      "metadata": {
        "id": "qSnOeEHNvXK7"
      }
    },
    {
      "cell_type": "code",
      "source": [
        "name = '''Arul'''\n",
        "\n",
        "print(name)\n",
        "\n",
        "#Concatenation\n",
        "first_name = \"John\"\n",
        "last_name = \"Doe\"\n",
        "full_name = first_name + \" \" + last_name\n",
        "print(full_name)  # Output: John Doe"
      ],
      "metadata": {
        "colab": {
          "base_uri": "https://localhost:8080/"
        },
        "id": "QVcEpnXVS2YB",
        "outputId": "b33e6f3a-ddb9-4ccd-fa3e-bdb352b2f430"
      },
      "execution_count": null,
      "outputs": [
        {
          "output_type": "stream",
          "name": "stdout",
          "text": [
            "Arul\n",
            "John Doe\n"
          ]
        }
      ]
    },
    {
      "cell_type": "code",
      "source": [
        "#Repetition\n",
        "\n",
        "word = \"Hello\"\n",
        "repeated_word = word * 3\n",
        "print(repeated_word)  # Output: HelloHelloHello"
      ],
      "metadata": {
        "colab": {
          "base_uri": "https://localhost:8080/"
        },
        "id": "zVG1aejzS8UB",
        "outputId": "77933a3a-e690-461e-b3db-25978f2d0265"
      },
      "execution_count": null,
      "outputs": [
        {
          "output_type": "stream",
          "name": "stdout",
          "text": [
            "HelloHelloHello\n"
          ]
        }
      ]
    },
    {
      "cell_type": "code",
      "source": [
        "# Indexing\n",
        "\n",
        "text = \"Python\"\n",
        "first_char = text[0]\n",
        "last_char = text[-1]\n",
        "print(first_char)  # Output: P\n",
        "print(last_char)   # Output: n"
      ],
      "metadata": {
        "colab": {
          "base_uri": "https://localhost:8080/"
        },
        "id": "BEzkXDhHTAJ2",
        "outputId": "2963a4b9-f58c-4704-9235-0ddc6c238220"
      },
      "execution_count": null,
      "outputs": [
        {
          "output_type": "stream",
          "name": "stdout",
          "text": [
            "P\n",
            "n\n"
          ]
        }
      ]
    },
    {
      "cell_type": "code",
      "source": [
        "# Slicing\n",
        "\n",
        "text = \"Python Programming\"\n",
        "sliced_text = text[0:6]  # Extracts characters from index 0 to 5\n",
        "print(sliced_text)  # Output: Python"
      ],
      "metadata": {
        "id": "-St3LVAATGOM"
      },
      "execution_count": null,
      "outputs": []
    },
    {
      "cell_type": "markdown",
      "source": [
        "### **Common String Methods**\n",
        "\n",
        "1. **`len()`**\n",
        "\n",
        "   - Returns the length of the string.\n",
        "\n",
        "   ```python\n",
        "   text = \"Python\"\n",
        "   length = len(text)\n",
        "   print(length)  # Output: 6\n",
        "   ```\n",
        "\n",
        "2. **`lower()`**\n",
        "\n",
        "   - Converts all characters in the string to lowercase.\n",
        "\n",
        "   ```python\n",
        "   text = \"HELLO\"\n",
        "   lower_text = text.lower()\n",
        "   print(lower_text)  # Output: hello\n",
        "   ```\n",
        "\n",
        "3. **`upper()`**\n",
        "\n",
        "   - Converts all characters in the string to uppercase.\n",
        "\n",
        "   ```python\n",
        "   text = \"hello\"\n",
        "   upper_text = text.upper()\n",
        "   print(upper_text)  # Output: HELLO\n",
        "   ```\n",
        "\n",
        "4. **`strip()`**\n",
        "\n",
        "   - Removes leading and trailing whitespace from the string.\n",
        "\n",
        "   ```python\n",
        "   text = \"  Hello  \"\n",
        "   stripped_text = text.strip()\n",
        "   print(stripped_text)  # Output: Hello\n",
        "   ```\n",
        "\n",
        "5. **`replace()`**\n",
        "\n",
        "   - Replaces a substring within the string with another substring.\n",
        "\n",
        "   ```python\n",
        "   text = \"Hello, World!\"\n",
        "   replaced_text = text.replace(\"World\", \"Python\")\n",
        "   print(replaced_text)  # Output: Hello, Python!\n",
        "   ```\n",
        "\n",
        "6. **`split()`**\n",
        "\n",
        "   - Splits the string into a list of substrings based on a delimiter (default is a space).\n",
        "\n",
        "   ```python\n",
        "   text = \"Hello World\"\n",
        "   words = text.split()\n",
        "   print(words)  # Output: ['Hello', 'World']\n",
        "   ```\n",
        "\n",
        "7. **`join()`**\n",
        "\n",
        "   - Joins elements of a list into a single string with a specified separator.\n",
        "\n",
        "   ```python\n",
        "   words = [\"Hello\", \"World\"]\n",
        "   sentence = \" \".join(words)\n",
        "   print(sentence)  # Output: Hello World\n",
        "   ```\n",
        "\n",
        "8. **`find()`**\n",
        "\n",
        "   - Returns the index of the first occurrence of a substring within the string. Returns `-1` if the substring is not found.\n",
        "\n",
        "   ```python\n",
        "   text = \"Python Programming\"\n",
        "   position = text.find(\"Pro\")\n",
        "   print(position)  # Output: 7\n",
        "   ```\n",
        "\n",
        "9. **`startswith()` and `endswith()`**\n",
        "\n",
        "   - Check if the string starts or ends with a specific substring.\n",
        "\n",
        "   ```python\n",
        "   text = \"Python Programming\"\n",
        "   starts = text.startswith(\"Python\")\n",
        "   ends = text.endswith(\"ing\")\n",
        "   print(starts)  # Output: True\n",
        "   print(ends)    # Output: True\n",
        "   ```\n",
        "\n",
        "---\n"
      ],
      "metadata": {
        "id": "E5kXLa8rvgu0"
      }
    },
    {
      "cell_type": "code",
      "source": [
        "sent1 = \"Arul,is,a,good boy\"\n",
        "\n",
        "words = sent1.split()\n",
        "print(words)\n",
        "\n",
        "sent2 = \" very \".join(words)\n",
        "print(sent2)\n",
        "\n",
        "print(sent2.find(\"goo\"))"
      ],
      "metadata": {
        "colab": {
          "base_uri": "https://localhost:8080/"
        },
        "id": "Bgf3lHQudVug",
        "outputId": "d46f30ac-9bf3-4c56-daba-038b23eae832"
      },
      "execution_count": null,
      "outputs": [
        {
          "output_type": "stream",
          "name": "stdout",
          "text": [
            "['Arul,is,a,good', 'boy']\n",
            "Arul,is,a,good very boy\n",
            "10\n"
          ]
        }
      ]
    },
    {
      "cell_type": "markdown",
      "source": [
        "### **String Formatting in Python**\n",
        "\n",
        "---\n",
        "\n"
      ],
      "metadata": {
        "id": "dkV6tLkfva3s"
      }
    },
    {
      "cell_type": "markdown",
      "source": [
        "### **What is String Formatting?**\n",
        "\n",
        "String formatting in Python allows you to create new strings by inserting values into a predefined string template. It is a powerful way to combine text and data, making it easier to create dynamic and readable output.\n",
        "\n",
        "---\n",
        "\n"
      ],
      "metadata": {
        "id": "tpiTJopVvvTq"
      }
    },
    {
      "cell_type": "markdown",
      "source": [
        "### **Basic String Formatting Methods**\n",
        "\n"
      ],
      "metadata": {
        "id": "vUQ_cLxavz8O"
      }
    },
    {
      "cell_type": "markdown",
      "source": [
        "#### **1. Using the `+` Operator**\n",
        "\n",
        "You can concatenate strings and variables using the `+` operator.\n",
        "\n",
        "```python\n",
        "name = \"Alice\"\n",
        "age = 13\n",
        "message = \"Hello, my name is \" + name + \" and I am \" + str(age) + \" years old.\"\n",
        "print(message)  # Output: Hello, my name is Alice and I am 13 years old.\n",
        "```\n",
        "\n"
      ],
      "metadata": {
        "id": "0DCOdnddv21a"
      }
    },
    {
      "cell_type": "markdown",
      "source": [
        "#### **2. Using the `format()` Method**\n",
        "\n",
        "The `format()` method provides a more flexible way to format strings.\n",
        "\n",
        "```python\n",
        "name = \"Alice\"\n",
        "age = 13\n",
        "message = \"Hello, my name is {} and I am {} years old.\".format(name, age)\n",
        "print(message)  # Output: Hello, my name is Alice and I am 13 years old.\n",
        "```\n",
        "\n",
        "You can also use positional arguments in `format()`.\n",
        "\n",
        "```python\n",
        "message = \"I am {1} years old and my name is {0}.\".format(name, age)\n",
        "print(message)  # Output: I am 13 years old and my name is Alice.\n",
        "```\n",
        "\n"
      ],
      "metadata": {
        "id": "xYsJp6Bdv5zi"
      }
    },
    {
      "cell_type": "markdown",
      "source": [
        "#### **3. Using F-Strings (Python 3.6 and later)**\n",
        "\n",
        "F-strings provide a concise way to embed expressions inside string literals using curly braces `{}`.\n",
        "\n",
        "```python\n",
        "name = \"Alice\"\n",
        "age = 13\n",
        "message = f\"Hello, my name is {name} and I am {age} years old.\"\n",
        "print(message)  # Output: Hello, my name is Alice and I am 13 years old.\n",
        "```\n",
        "\n",
        "F-strings also support expressions directly inside the placeholders.\n",
        "\n",
        "```python\n",
        "length = 5\n",
        "width = 3\n",
        "area_message = f\"The area of the rectangle is {length * width} square units.\"\n",
        "print(area_message)  # Output: The area of the rectangle is 15 square units.\n",
        "```\n",
        "\n"
      ],
      "metadata": {
        "id": "eLPxrJjkv8o4"
      }
    },
    {
      "cell_type": "markdown",
      "source": [
        "#### **4. Using Percent `%` Formatting (Old Style)**\n",
        "\n",
        "This is an older way to format strings, similar to C-style formatting.\n",
        "\n",
        "```python\n",
        "name = \"Alice\"\n",
        "age = 13\n",
        "message = \"Hello, my name is %s and I am %d years old.\" % (name, age)\n",
        "print(message)  # Output: Hello, my name is Alice and I am 13 years old.\n",
        "```\n",
        "\n",
        "---\n",
        "\n"
      ],
      "metadata": {
        "id": "m2OHYHnhv_fm"
      }
    },
    {
      "cell_type": "code",
      "source": [
        "name = \"Alice\"\n",
        "age = 13\n",
        "message = \"Hello, my name is \" + name + \" and I am \" + str(age) + \" years old.\"\n",
        "print(message)  # Output: Hello, my name is Alice and I am 13 years old.\n",
        "\n",
        "message1 = \"Hello, my name is {} and I am {} years old.\".format(name,age)\n",
        "print(message1)  # Output: Hello, my name is Alice and I am 13 years old.\n",
        "\n",
        "name = \"Alice\"\n",
        "age = 13\n",
        "message = f\"Hello, my name is {name} and I am {age} years old.\"\n",
        "print(message)  # Output: Hello, my name is Alice and I am 13 years old."
      ],
      "metadata": {
        "colab": {
          "base_uri": "https://localhost:8080/"
        },
        "id": "7n7tIDxZe7ub",
        "outputId": "b6187bc2-7a37-4fff-b2c9-f7d1f19ea834"
      },
      "execution_count": null,
      "outputs": [
        {
          "output_type": "stream",
          "name": "stdout",
          "text": [
            "Hello, my name is Alice and I am 13 years old.\n",
            "Hello, my name is Alice and I am 13 years old.\n",
            "Hello, my name is Alice and I am 13 years old.\n"
          ]
        }
      ]
    },
    {
      "cell_type": "markdown",
      "source": [
        "### **Advanced String Formatting**\n",
        "\n"
      ],
      "metadata": {
        "id": "dR2fbJcUwCHI"
      }
    },
    {
      "cell_type": "markdown",
      "source": [
        "#### **1. Specifying Format Options**\n",
        "\n",
        "You can specify width, alignment, and precision for numbers using `format()` or f-strings.\n",
        "\n",
        "- **Width and Alignment**\n",
        "\n",
        "```python\n",
        "# Right-align text with a minimum width of 10\n",
        "message = \"{:>10}\".format(\"Hello\")\n",
        "print(message)  # Output: \"     Hello\"\n",
        "```\n",
        "\n",
        "- **Precision for Floating Point Numbers**\n",
        "\n",
        "```python\n",
        "pi = 3.141592653589793\n",
        "message = f\"The value of pi is approximately {pi:.2f}.\"\n",
        "print(message)  # Output: The value of pi is approximately 3.14.\n",
        "```\n",
        "\n"
      ],
      "metadata": {
        "id": "MKIL6b-WwEQq"
      }
    },
    {
      "cell_type": "code",
      "source": [
        "# Right-align text with a minimum width of 10\n",
        "message = \"{:>10}\".format(\"Hello\")\n",
        "print(message)  # Output: \"     Hello\"\n",
        "\n",
        "pi = 3.141592653589793\n",
        "message = f\"The value of pi is approximately {pi:.6f}.\"\n",
        "print(message)  # Output: The value of pi is approximately 3.14."
      ],
      "metadata": {
        "colab": {
          "base_uri": "https://localhost:8080/"
        },
        "id": "r2ZZYzgJgk3t",
        "outputId": "6d657038-3177-454c-bdf2-6194b0e1e46d"
      },
      "execution_count": null,
      "outputs": [
        {
          "output_type": "stream",
          "name": "stdout",
          "text": [
            "     Hello\n",
            "The value of pi is approximately 3.141593.\n"
          ]
        }
      ]
    },
    {
      "cell_type": "markdown",
      "source": [
        "#### **2. Formatting with Named Placeholders**\n",
        "\n",
        "You can use named placeholders with the `format()` method for better readability.\n",
        "\n",
        "```python\n",
        "message = \"My name is {name} and I am {age} years old.\".format(name=\"Alice\", age=13)\n",
        "print(message)  # Output: My name is Alice and I am 13 years old.\n",
        "```\n",
        "\n",
        "Named placeholders can be especially useful when dealing with dictionaries.\n",
        "\n",
        "```python\n",
        "person = {\"name\": \"Alice\", \"age\": 13}\n",
        "message = \"My name is {name} and I am {age} years old.\".format(**person)\n",
        "print(message)  # Output: My name is Alice and I am 13 years old.\n",
        "```\n",
        "\n",
        "---\n",
        "\n"
      ],
      "metadata": {
        "id": "ewLHoWoRwG6B"
      }
    },
    {
      "cell_type": "markdown",
      "source": [
        "## **Reading from and Writing to Files Using Google Colab's File System**\n",
        "\n",
        "---\n",
        "\n",
        "In Google Colab, you can easily read from and write to files using Python. Colab provides a virtual file system where you can create, upload, and manipulate files just like you would on your local machine. Below are some examples to help you understand how to work with files in Colab.\n",
        "\n",
        "---\n",
        "\n"
      ],
      "metadata": {
        "id": "9FNMIahINAN2"
      }
    },
    {
      "cell_type": "markdown",
      "source": [
        "### **1. Writing to a File**\n",
        "\n",
        "To write to a file, you can use the `open()` function in Python, specifying the file mode as `'w'` for writing. Here's an example:\n",
        "\n",
        "```python\n",
        "# Writing to a file\n",
        "filename = \"example.txt\"\n",
        "\n",
        "with open(filename, \"w\") as file:\n",
        "    file.write(\"Hello, this is a sample text file.\\n\")\n",
        "    file.write(\"Google Colab makes file handling easy!\\n\")\n",
        "\n",
        "print(f\"{filename} has been created and written to.\")\n",
        "```\n",
        "\n"
      ],
      "metadata": {
        "id": "EJMIjLi4NI9n"
      }
    },
    {
      "cell_type": "code",
      "source": [
        "# Writing to a file\n",
        "filename = \"example.txt\"\n",
        "\n",
        "with open(filename, \"w\") as file:\n",
        "    file.write(\"Hello, this is a sample text file.\\n\")\n",
        "    file.write(\"Google Colab makes file handling easy!\\n\")\n",
        "\n",
        "print(f\"{filename} has been created and written to.\")"
      ],
      "metadata": {
        "colab": {
          "base_uri": "https://localhost:8080/"
        },
        "id": "ROs8q1zGhYhq",
        "outputId": "20db8c00-ec28-421e-ea98-95b8e3f2bc4c"
      },
      "execution_count": null,
      "outputs": [
        {
          "output_type": "stream",
          "name": "stdout",
          "text": [
            "example.txt has been created and written to.\n"
          ]
        }
      ]
    },
    {
      "cell_type": "markdown",
      "source": [
        "### **2. Reading from a File**\n",
        "\n",
        "To read from a file, you can use the `open()` function with the mode `'r'` for reading. Here's how you can read the contents of the file we just created:\n",
        "\n",
        "```python\n",
        "# Reading from a file\n",
        "with open(filename, \"r\") as file:\n",
        "    content = file.read()\n",
        "\n",
        "print(\"Content of the file:\")\n",
        "print(content)\n",
        "```\n",
        "\n"
      ],
      "metadata": {
        "id": "O3mMS47bNO--"
      }
    },
    {
      "cell_type": "code",
      "source": [
        "# Reading from a file\n",
        "with open(filename, \"r\") as file:\n",
        "    content = file.read()\n",
        "\n",
        "print(\"Content of the file:\")\n",
        "print(content)"
      ],
      "metadata": {
        "colab": {
          "base_uri": "https://localhost:8080/"
        },
        "id": "cW6jjjpWh3yA",
        "outputId": "691ac327-7134-4db1-ab4d-e778e3f8c2c8"
      },
      "execution_count": null,
      "outputs": [
        {
          "output_type": "stream",
          "name": "stdout",
          "text": [
            "Content of the file:\n",
            "Hello, this is a sample text file.\n",
            "Google Colab makes file handling easy!\n",
            "\n"
          ]
        }
      ]
    },
    {
      "cell_type": "markdown",
      "source": [
        "### **3. Appending to a File**\n",
        "\n",
        "If you want to add more content to an existing file, you can open the file in `'a'` (append) mode. Here’s an example:\n",
        "\n",
        "```python\n",
        "# Appending to a file\n",
        "with open(filename, \"a\") as file:\n",
        "    file.write(\"Appending another line to the file.\\n\")\n",
        "\n",
        "# Reading the updated file content\n",
        "with open(filename, \"r\") as file:\n",
        "    updated_content = file.read()\n",
        "\n",
        "print(\"Updated content of the file:\")\n",
        "print(updated_content)\n",
        "```\n",
        "\n"
      ],
      "metadata": {
        "id": "NrDv2-39NSdc"
      }
    },
    {
      "cell_type": "code",
      "source": [
        "# Appending to a file\n",
        "with open(filename, \"a\") as file:\n",
        "    file.write(\"Appending another line to the file.\\n\")\n",
        "\n",
        "# Reading the updated file content\n",
        "with open(filename, \"r\") as file:\n",
        "    updated_content = file.read()\n",
        "\n",
        "print(\"Updated content of the file:\")\n",
        "print(updated_content)"
      ],
      "metadata": {
        "colab": {
          "base_uri": "https://localhost:8080/"
        },
        "id": "KwdubcRjiT2E",
        "outputId": "f18c4828-eeed-4b05-c4ef-761170be5c9f"
      },
      "execution_count": null,
      "outputs": [
        {
          "output_type": "stream",
          "name": "stdout",
          "text": [
            "Updated content of the file:\n",
            "Appending another line to the file.\n",
            "Appending another line to the file.\n",
            "\n"
          ]
        }
      ]
    },
    {
      "cell_type": "markdown",
      "source": [
        "### **4. Uploading Files to Colab**\n",
        "\n",
        "You can also upload files from your local system to Colab's virtual file system using the `files.upload()` function:\n",
        "\n",
        "```python\n",
        "from google.colab import files\n",
        "\n",
        "# Upload a file from your local system\n",
        "uploaded = files.upload()\n",
        "\n",
        "# The uploaded file will be available in the Colab environment\n",
        "# You can read it as follows\n",
        "uploaded_filename = list(uploaded.keys())[0]\n",
        "\n",
        "with open(uploaded_filename, \"r\") as file:\n",
        "    uploaded_content = file.read()\n",
        "\n",
        "print(\"Content of the uploaded file:\")\n",
        "print(uploaded_content)\n",
        "```\n",
        "\n"
      ],
      "metadata": {
        "id": "nZwUhupBNVv_"
      }
    },
    {
      "cell_type": "code",
      "source": [
        "from google.colab import files\n",
        "\n",
        "# Upload a file from your local system\n",
        "uploaded = files.upload()\n",
        "\n",
        "# The uploaded file will be available in the Colab environment\n",
        "# You can read it as follows\n",
        "uploaded_filename = list(uploaded.keys())[0]\n",
        "\n",
        "with open(uploaded_filename, \"r\") as file:\n",
        "    uploaded_content = file.read()\n",
        "\n",
        "print(\"Content of the uploaded file:\")\n",
        "print(uploaded_content)"
      ],
      "metadata": {
        "colab": {
          "base_uri": "https://localhost:8080/",
          "height": 1000
        },
        "id": "O4o7BOVoilXF",
        "outputId": "629bf6bc-b42c-47e3-a29f-ec7764b28c9c"
      },
      "execution_count": null,
      "outputs": [
        {
          "output_type": "display_data",
          "data": {
            "text/plain": [
              "<IPython.core.display.HTML object>"
            ],
            "text/html": [
              "\n",
              "     <input type=\"file\" id=\"files-ada71928-079e-46ce-ae72-924ca617bb97\" name=\"files[]\" multiple disabled\n",
              "        style=\"border:none\" />\n",
              "     <output id=\"result-ada71928-079e-46ce-ae72-924ca617bb97\">\n",
              "      Upload widget is only available when the cell has been executed in the\n",
              "      current browser session. Please rerun this cell to enable.\n",
              "      </output>\n",
              "      <script>// Copyright 2017 Google LLC\n",
              "//\n",
              "// Licensed under the Apache License, Version 2.0 (the \"License\");\n",
              "// you may not use this file except in compliance with the License.\n",
              "// You may obtain a copy of the License at\n",
              "//\n",
              "//      http://www.apache.org/licenses/LICENSE-2.0\n",
              "//\n",
              "// Unless required by applicable law or agreed to in writing, software\n",
              "// distributed under the License is distributed on an \"AS IS\" BASIS,\n",
              "// WITHOUT WARRANTIES OR CONDITIONS OF ANY KIND, either express or implied.\n",
              "// See the License for the specific language governing permissions and\n",
              "// limitations under the License.\n",
              "\n",
              "/**\n",
              " * @fileoverview Helpers for google.colab Python module.\n",
              " */\n",
              "(function(scope) {\n",
              "function span(text, styleAttributes = {}) {\n",
              "  const element = document.createElement('span');\n",
              "  element.textContent = text;\n",
              "  for (const key of Object.keys(styleAttributes)) {\n",
              "    element.style[key] = styleAttributes[key];\n",
              "  }\n",
              "  return element;\n",
              "}\n",
              "\n",
              "// Max number of bytes which will be uploaded at a time.\n",
              "const MAX_PAYLOAD_SIZE = 100 * 1024;\n",
              "\n",
              "function _uploadFiles(inputId, outputId) {\n",
              "  const steps = uploadFilesStep(inputId, outputId);\n",
              "  const outputElement = document.getElementById(outputId);\n",
              "  // Cache steps on the outputElement to make it available for the next call\n",
              "  // to uploadFilesContinue from Python.\n",
              "  outputElement.steps = steps;\n",
              "\n",
              "  return _uploadFilesContinue(outputId);\n",
              "}\n",
              "\n",
              "// This is roughly an async generator (not supported in the browser yet),\n",
              "// where there are multiple asynchronous steps and the Python side is going\n",
              "// to poll for completion of each step.\n",
              "// This uses a Promise to block the python side on completion of each step,\n",
              "// then passes the result of the previous step as the input to the next step.\n",
              "function _uploadFilesContinue(outputId) {\n",
              "  const outputElement = document.getElementById(outputId);\n",
              "  const steps = outputElement.steps;\n",
              "\n",
              "  const next = steps.next(outputElement.lastPromiseValue);\n",
              "  return Promise.resolve(next.value.promise).then((value) => {\n",
              "    // Cache the last promise value to make it available to the next\n",
              "    // step of the generator.\n",
              "    outputElement.lastPromiseValue = value;\n",
              "    return next.value.response;\n",
              "  });\n",
              "}\n",
              "\n",
              "/**\n",
              " * Generator function which is called between each async step of the upload\n",
              " * process.\n",
              " * @param {string} inputId Element ID of the input file picker element.\n",
              " * @param {string} outputId Element ID of the output display.\n",
              " * @return {!Iterable<!Object>} Iterable of next steps.\n",
              " */\n",
              "function* uploadFilesStep(inputId, outputId) {\n",
              "  const inputElement = document.getElementById(inputId);\n",
              "  inputElement.disabled = false;\n",
              "\n",
              "  const outputElement = document.getElementById(outputId);\n",
              "  outputElement.innerHTML = '';\n",
              "\n",
              "  const pickedPromise = new Promise((resolve) => {\n",
              "    inputElement.addEventListener('change', (e) => {\n",
              "      resolve(e.target.files);\n",
              "    });\n",
              "  });\n",
              "\n",
              "  const cancel = document.createElement('button');\n",
              "  inputElement.parentElement.appendChild(cancel);\n",
              "  cancel.textContent = 'Cancel upload';\n",
              "  const cancelPromise = new Promise((resolve) => {\n",
              "    cancel.onclick = () => {\n",
              "      resolve(null);\n",
              "    };\n",
              "  });\n",
              "\n",
              "  // Wait for the user to pick the files.\n",
              "  const files = yield {\n",
              "    promise: Promise.race([pickedPromise, cancelPromise]),\n",
              "    response: {\n",
              "      action: 'starting',\n",
              "    }\n",
              "  };\n",
              "\n",
              "  cancel.remove();\n",
              "\n",
              "  // Disable the input element since further picks are not allowed.\n",
              "  inputElement.disabled = true;\n",
              "\n",
              "  if (!files) {\n",
              "    return {\n",
              "      response: {\n",
              "        action: 'complete',\n",
              "      }\n",
              "    };\n",
              "  }\n",
              "\n",
              "  for (const file of files) {\n",
              "    const li = document.createElement('li');\n",
              "    li.append(span(file.name, {fontWeight: 'bold'}));\n",
              "    li.append(span(\n",
              "        `(${file.type || 'n/a'}) - ${file.size} bytes, ` +\n",
              "        `last modified: ${\n",
              "            file.lastModifiedDate ? file.lastModifiedDate.toLocaleDateString() :\n",
              "                                    'n/a'} - `));\n",
              "    const percent = span('0% done');\n",
              "    li.appendChild(percent);\n",
              "\n",
              "    outputElement.appendChild(li);\n",
              "\n",
              "    const fileDataPromise = new Promise((resolve) => {\n",
              "      const reader = new FileReader();\n",
              "      reader.onload = (e) => {\n",
              "        resolve(e.target.result);\n",
              "      };\n",
              "      reader.readAsArrayBuffer(file);\n",
              "    });\n",
              "    // Wait for the data to be ready.\n",
              "    let fileData = yield {\n",
              "      promise: fileDataPromise,\n",
              "      response: {\n",
              "        action: 'continue',\n",
              "      }\n",
              "    };\n",
              "\n",
              "    // Use a chunked sending to avoid message size limits. See b/62115660.\n",
              "    let position = 0;\n",
              "    do {\n",
              "      const length = Math.min(fileData.byteLength - position, MAX_PAYLOAD_SIZE);\n",
              "      const chunk = new Uint8Array(fileData, position, length);\n",
              "      position += length;\n",
              "\n",
              "      const base64 = btoa(String.fromCharCode.apply(null, chunk));\n",
              "      yield {\n",
              "        response: {\n",
              "          action: 'append',\n",
              "          file: file.name,\n",
              "          data: base64,\n",
              "        },\n",
              "      };\n",
              "\n",
              "      let percentDone = fileData.byteLength === 0 ?\n",
              "          100 :\n",
              "          Math.round((position / fileData.byteLength) * 100);\n",
              "      percent.textContent = `${percentDone}% done`;\n",
              "\n",
              "    } while (position < fileData.byteLength);\n",
              "  }\n",
              "\n",
              "  // All done.\n",
              "  yield {\n",
              "    response: {\n",
              "      action: 'complete',\n",
              "    }\n",
              "  };\n",
              "}\n",
              "\n",
              "scope.google = scope.google || {};\n",
              "scope.google.colab = scope.google.colab || {};\n",
              "scope.google.colab._files = {\n",
              "  _uploadFiles,\n",
              "  _uploadFilesContinue,\n",
              "};\n",
              "})(self);\n",
              "</script> "
            ]
          },
          "metadata": {}
        },
        {
          "output_type": "stream",
          "name": "stdout",
          "text": [
            "Saving mispah-landing-page.tsx to mispah-landing-page.tsx\n",
            "Content of the uploaded file:\n",
            "import React, { useState, useEffect } from 'react';\n",
            "import { Menu, X, ChevronDown, ChevronUp } from 'lucide-react';\n",
            "import { Link, Element, animateScroll as scroll } from 'react-scroll';\n",
            "\n",
            "const navigation = [\n",
            "  { name: 'Home', href: 'home' },\n",
            "  { name: 'About Us', href: 'about' },\n",
            "  { name: 'Courses', href: 'courses' },\n",
            "  { name: 'Contact Us', href: 'contact' },\n",
            "];\n",
            "\n",
            "const courses = [\n",
            "  { \n",
            "    name: 'Python Fundamentals',\n",
            "    duration: '7 days',\n",
            "    description: 'Learn Python basics, data structures, functions, and file operations.'\n",
            "  },\n",
            "  { \n",
            "    name: 'Introduction to Generative AI',\n",
            "    duration: '3 days',\n",
            "    description: 'Explore text generation tools, LLMs, and prompt engineering.'\n",
            "  },\n",
            "  { \n",
            "    name: 'Advanced Generative AI Concepts',\n",
            "    duration: '4 days',\n",
            "    description: 'Dive into image generation, local LLMs, RAG, and AI frameworks.'\n",
            "  },\n",
            "  { \n",
            "    name: 'Building Real AI Projects',\n",
            "    duration: '1 day',\n",
            "    description: 'Apply your skills to build collaborative AI projects.'\n",
            "  }\n",
            "];\n",
            "\n",
            "const countryCodes = [\n",
            "  { value: \"1\", label: \"+1 (USA)\" },\n",
            "  { value: \"44\", label: \"+44 (UK)\" },\n",
            "  { value: \"91\", label: \"+91 (India)\" },\n",
            "  // Add more country codes as needed\n",
            "];\n",
            "\n",
            "export default function LandingPage() {\n",
            "  const [isMenuOpen, setIsMenuOpen] = useState(false);\n",
            "  const [openCourse, setOpenCourse] = useState(null);\n",
            "  const [formData, setFormData] = useState({\n",
            "    name: '',\n",
            "    email: '',\n",
            "    countryCode: '',\n",
            "    phoneNumber: ''\n",
            "  });\n",
            "  const [isScrolled, setIsScrolled] = useState(false);\n",
            "\n",
            "  useEffect(() => {\n",
            "    const handleScroll = () => {\n",
            "      const scrollTop = window.scrollY;\n",
            "      setIsScrolled(scrollTop > 50);\n",
            "    };\n",
            "\n",
            "    window.addEventListener('scroll', handleScroll);\n",
            "    return () => window.removeEventListener('scroll', handleScroll);\n",
            "  }, []);\n",
            "\n",
            "  const handleInputChange = (e) => {\n",
            "    const { name, value } = e.target;\n",
            "    setFormData(prevData => ({\n",
            "      ...prevData,\n",
            "      [name]: value\n",
            "    }));\n",
            "  };\n",
            "\n",
            "  const handleSubmit = (e) => {\n",
            "    e.preventDefault();\n",
            "    console.log('Form submitted:', formData);\n",
            "    setFormData({\n",
            "      name: '',\n",
            "      email: '',\n",
            "      countryCode: '',\n",
            "      phoneNumber: ''\n",
            "    });\n",
            "  };\n",
            "\n",
            "  return (\n",
            "    <div className=\"bg-white\">\n",
            "      <header className={`fixed w-full z-50 transition-all duration-300 ${isScrolled ? 'bg-white shadow-md' : 'bg-transparent'}`}>\n",
            "        <nav className=\"flex items-center justify-between p-6 lg:px-8\" aria-label=\"Global\">\n",
            "          <div className=\"flex lg:flex-1\">\n",
            "            <Link to=\"home\" smooth={true} duration={500} className=\"cursor-pointer\">\n",
            "              <span className=\"sr-only\">Mispah</span>\n",
            "              <img className=\"h-8 w-auto\" src=\"/api/placeholder/200/80\" alt=\"Mispah Logo\" />\n",
            "            </Link>\n",
            "          </div>\n",
            "          <div className=\"flex lg:hidden\">\n",
            "            <button\n",
            "              type=\"button\"\n",
            "              className=\"-m-2.5 inline-flex items-center justify-center rounded-md p-2.5 text-gray-700\"\n",
            "              onClick={() => setIsMenuOpen(true)}\n",
            "            >\n",
            "              <span className=\"sr-only\">Open main menu</span>\n",
            "              <Menu className=\"h-6 w-6\" aria-hidden=\"true\" />\n",
            "            </button>\n",
            "          </div>\n",
            "          <div className=\"hidden lg:flex lg:gap-x-12\">\n",
            "            {navigation.map((item) => (\n",
            "              <Link\n",
            "                key={item.name}\n",
            "                to={item.href}\n",
            "                smooth={true}\n",
            "                duration={500}\n",
            "                className=\"text-sm font-semibold leading-6 text-gray-900 cursor-pointer\"\n",
            "              >\n",
            "                {item.name}\n",
            "              </Link>\n",
            "            ))}\n",
            "          </div>\n",
            "        </nav>\n",
            "        {isMenuOpen && (\n",
            "          <div className=\"lg:hidden\" role=\"dialog\" aria-modal=\"true\">\n",
            "            <div className=\"fixed inset-0 z-50\"></div>\n",
            "            <div className=\"fixed inset-y-0 right-0 z-50 w-full overflow-y-auto bg-white px-6 py-6 sm:max-w-sm sm:ring-1 sm:ring-gray-900/10\">\n",
            "              <div className=\"flex items-center justify-between\">\n",
            "                <Link to=\"home\" smooth={true} duration={500} className=\"cursor-pointer\">\n",
            "                  <span className=\"sr-only\">Mispah</span>\n",
            "                  <img\n",
            "                    className=\"h-8 w-auto\"\n",
            "                    src=\"/api/placeholder/200/80\"\n",
            "                    alt=\"Mispah Logo\"\n",
            "                  />\n",
            "                </Link>\n",
            "                <button\n",
            "                  type=\"button\"\n",
            "                  className=\"-m-2.5 rounded-md p-2.5 text-gray-700\"\n",
            "                  onClick={() => setIsMenuOpen(false)}\n",
            "                >\n",
            "                  <span className=\"sr-only\">Close menu</span>\n",
            "                  <X className=\"h-6 w-6\" aria-hidden=\"true\" />\n",
            "                </button>\n",
            "              </div>\n",
            "              <div className=\"mt-6 flow-root\">\n",
            "                <div className=\"-my-6 divide-y divide-gray-500/10\">\n",
            "                  <div className=\"space-y-2 py-6\">\n",
            "                    {navigation.map((item) => (\n",
            "                      <Link\n",
            "                        key={item.name}\n",
            "                        to={item.href}\n",
            "                        smooth={true}\n",
            "                        duration={500}\n",
            "                        className=\"-mx-3 block rounded-lg px-3 py-2 text-base font-semibold leading-7 text-gray-900 hover:bg-gray-50 cursor-pointer\"\n",
            "                        onClick={() => setIsMenuOpen(false)}\n",
            "                      >\n",
            "                        {item.name}\n",
            "                      </Link>\n",
            "                    ))}\n",
            "                  </div>\n",
            "                </div>\n",
            "              </div>\n",
            "            </div>\n",
            "          </div>\n",
            "        )}\n",
            "      </header>\n",
            "\n",
            "      <main className=\"isolate\">\n",
            "        {/* Hero section */}\n",
            "        <Element name=\"home\" className=\"relative pt-14\">\n",
            "          <div className=\"py-24 sm:py-32\">\n",
            "            <div className=\"mx-auto max-w-7xl px-6 lg:px-8\">\n",
            "              <div className=\"mx-auto max-w-2xl text-center\">\n",
            "                <h1 className=\"text-4xl font-bold tracking-tight text-gray-900 sm:text-6xl\">\n",
            "                  Welcome to Mispah\n",
            "                </h1>\n",
            "                <p className=\"mt-6 text-lg leading-8 text-gray-600\">\n",
            "                  Empowering the next generation of tech leaders through Python and Generative AI education.\n",
            "                </p>\n",
            "                <div className=\"mt-10 flex items-center justify-center gap-x-6\">\n",
            "                  <Link\n",
            "                    to=\"courses\"\n",
            "                    smooth={true}\n",
            "                    duration={500}\n",
            "                    className=\"rounded-md bg-indigo-600 px-3.5 py-2.5 text-sm font-semibold text-white shadow-sm hover:bg-indigo-500 focus-visible:outline focus-visible:outline-2 focus-visible:outline-offset-2 focus-visible:outline-indigo-600 cursor-pointer\"\n",
            "                  >\n",
            "                    View Courses\n",
            "                  </Link>\n",
            "                  <Link\n",
            "                    to=\"about\"\n",
            "                    smooth={true}\n",
            "                    duration={500}\n",
            "                    className=\"text-sm font-semibold leading-6 text-gray-900 cursor-pointer\"\n",
            "                  >\n",
            "                    Learn more <span aria-hidden=\"true\">→</span>\n",
            "                  </Link>\n",
            "                </div>\n",
            "              </div>\n",
            "            </div>\n",
            "          </div>\n",
            "        </Element>\n",
            "\n",
            "        {/* About Us section */}\n",
            "        <Element name=\"about\" className=\"bg-white py-24 sm:py-32\">\n",
            "          <div className=\"mx-auto max-w-7xl px-6 lg:px-8\">\n",
            "            <div className=\"mx-auto max-w-2xl lg:text-center\">\n",
            "              <h2 className=\"text-base font-semibold leading-7 text-indigo-600\">About Us</h2>\n",
            "              <p className=\"mt-2 text-3xl font-bold tracking-tight text-gray-900 sm:text-4xl\">\n",
            "                Bridging the gap between learning and industry\n",
            "              </p>\n",
            "              <p className=\"mt-6 text-lg leading-8 text-gray-600\">\n",
            "                At Mispah, we're dedicated to providing top-notch education in Python and Generative AI. \n",
            "                Our mission is to equip students with the skills they need to excel in the rapidly evolving tech industry.\n",
            "              </p>\n",
            "            </div>\n",
            "          </div>\n",
            "        </Element>\n",
            "\n",
            "        {/* Courses section */}\n",
            "        <Element name=\"courses\" className=\"bg-gray-100 py-24 sm:py-32\">\n",
            "          <div className=\"mx-auto max-w-7xl px-6 lg:px-8\">\n",
            "            <div className=\"mx-auto max-w-2xl lg:text-center\">\n",
            "              <h2 className=\"text-base font-semibold leading-7 text-indigo-600\">Our Courses</h2>\n",
            "              <p className=\"mt-2 text-3xl font-bold tracking-tight text-gray-900 sm:text-4xl\">\n",
            "                Comprehensive Learning Paths\n",
            "              </p>\n",
            "              <p className=\"mt-6 text-lg leading-8 text-gray-600\">\n",
            "                Explore our carefully crafted courses designed to take you from beginner to proficient in Python and Generative AI.\n",
            "              </p>\n",
            "            </div>\n",
            "            <div className=\"mx-auto mt-16 max-w-2xl sm:mt-20 lg:mt-24 lg:max-w-none\">\n",
            "              <dl className=\"grid max-w-xl grid-cols-1 gap-x-8 gap-y-16 lg:max-w-none lg:grid-cols-2\">\n",
            "                {courses.map((course, index) => (\n",
            "                  <div key={course.name} className=\"flex flex-col\">\n",
            "                    <dt className=\"flex items-center gap-x-3 text-base font-semibold leading-7 text-gray-900\">\n",
            "                      {course.name}\n",
            "                      <button\n",
            "                        onClick={() => setOpenCourse(openCourse === index ? null : index)}\n",
            "                        className=\"ml-2 text-indigo-600 hover:text-indigo-500\"\n",
            "                      >\n",
            "                        {openCourse === index ? (\n",
            "                          <ChevronUp className=\"h-5 w-5\" aria-hidden=\"true\" />\n",
            "                        ) : (\n",
            "                          <ChevronDown className=\"h-5 w-5\" aria-hidden=\"true\" />\n",
            "                        )}\n",
            "                      </button>\n",
            "                    </dt>\n",
            "                    <dd className=\"mt-4 flex flex-auto flex-col text-base leading-7 text-gray-600\">\n",
            "                      <p className=\"flex-auto\">{course.description}</p>\n",
            "                      <p className=\"mt-6\">\n",
            "                        <span className=\"font-semibold text-gray-900\">Duration:</span> {course.duration}\n",
            "                      </p>\n",
            "                      {openCourse === index && (\n",
            "                        <div className=\"mt-4 text-sm\">\n",
            "                          <p>Detailed course content will be displayed here.</p>\n",
            "                        </div>\n",
            "                      )}\n",
            "                    </dd>\n",
            "                  </div>\n",
            "                ))}\n",
            "              </dl>\n",
            "            </div>\n",
            "          </div>\n",
            "        </Element>\n",
            "\n",
            "        {/* Contact Us section with form */}\n",
            "        <Element name=\"contact\" className=\"bg-white py-24 sm:py-32\">\n",
            "          <div className=\"mx-auto max-w-7xl px-6 lg:px-8\">\n",
            "            <div className=\"mx-auto max-w-2xl lg:text-center\">\n",
            "              <h2 className=\"text-base font-semibold leading-7 text-indigo-600\">Contact Us</h2>\n",
            "              <p className=\"mt-2 text-3xl font-bold tracking-tight text-gray-900 sm:text-4xl\">\n",
            "                Get in Touch\n",
            "              </p>\n",
            "              <p className=\"mt-6 text-lg leading-8 text-gray-600\">\n",
            "                Have questions or want to learn more about our programs? We'd love to hear from you!\n",
            "              </p>\n",
            "            </div>\n",
            "            <div className=\"mx-auto mt-16 max-w-xl sm:mt-20\">\n",
            "              <form onSubmit={handleSubmit} className=\"space-y-6\">\n",
            "                <div>\n",
            "                  <label htmlFor=\"name\" className=\"block text-sm font-medium leading-6 text-gray-900\">\n",
            "                    Name\n",
            "                  </label>\n",
            "                  <input\n",
            "                    type=\"text\"\n",
            "                    name=\"name\"\n",
            "                    id=\"name\"\n",
            "                    className=\"block w-full rounded-md border-0 py-1.5 text-gray-900 shadow-sm ring-1 ring-inset ring-gray-300 placeholder:text-gray-400 focus:ring-2 focus:ring-inset focus:ring-indigo-600 sm:text-sm sm:leading-6\"\n",
            "                    required\n",
            "                    value={formData.name}\n",
            "                    onChange={handleInputChange}\n",
            "                  />\n",
            "                </div>\n",
            "                <div>\n",
            "                  <label htmlFor=\"email\" className=\"block text-sm font-medium leading-6 text-gray-900\">\n",
            "                    Email\n",
            "                  </label>\n",
            "                  <input\n",
            "                    type=\"email\"\n",
            "                    name=\"email\"\n",
            "                    id=\"email\"\n",
            "                    className=\"block w-full rounded-md border-0 py-1.5 text-gray-900 shadow-sm ring-1 ring-inset ring-gray-300 placeholder:text-gray-400 focus:ring-2 focus:ring-inset focus:ring-indigo-600 sm:text-sm sm:leading-6\"\n",
            "                    required\n",
            "                    value={formData.email}\n",
            "                    onChange={handleInputChange}\n",
            "                  />\n",
            "                </div>\n",
            "                <div>\n",
            "                  <label htmlFor=\"phoneNumber\" className=\"block text-sm font-medium leading-6 text-gray-900\">\n",
            "                    Phone Number\n",
            "                  </label>\n",
            "                  <div className=\"flex space-x-2\">\n",
            "                    <select\n",
            "                      name=\"countryCode\"\n",
            "                      value={formData.countryCode}\n",
            "                      onChange={handleInputChange}\n",
            "                      className=\"rounded-md border-0 py-1.5 text-gray-900 shadow-sm ring-1 ring-inset ring-gray-300 focus:ring-2 focus:ring-inset focus:ring-indigo-600 sm:text-sm sm:leading-6\"\n",
            "                    >\n",
            "                      <option value=\"\">Select</option>\n",
            "                      {countryCodes.map((code) => (\n",
            "                        <option key={code.value} value={code.value}>\n",
            "                          {code\n"
          ]
        }
      ]
    },
    {
      "cell_type": "markdown",
      "source": [
        "### **5. Downloading Files from Colab**\n",
        "\n",
        "To download a file from Colab to your local system, use the `files.download()` function:\n",
        "\n",
        "```python\n",
        "from google.colab import files\n",
        "\n",
        "# Download the file we created earlier\n",
        "files.download(filename)\n",
        "```\n",
        "\n"
      ],
      "metadata": {
        "id": "lOLvotxENZHo"
      }
    },
    {
      "cell_type": "code",
      "source": [
        "from google.colab import files\n",
        "\n",
        "print(filename)\n",
        "# Download the file we created earlier\n",
        "files.download(filename)"
      ],
      "metadata": {
        "colab": {
          "base_uri": "https://localhost:8080/",
          "height": 34
        },
        "id": "cfM6Q13pjE6h",
        "outputId": "5e818376-0e2e-4de9-e7ac-67eb514a4833"
      },
      "execution_count": null,
      "outputs": [
        {
          "output_type": "stream",
          "name": "stdout",
          "text": [
            "example.txt\n"
          ]
        },
        {
          "output_type": "display_data",
          "data": {
            "text/plain": [
              "<IPython.core.display.Javascript object>"
            ],
            "application/javascript": [
              "\n",
              "    async function download(id, filename, size) {\n",
              "      if (!google.colab.kernel.accessAllowed) {\n",
              "        return;\n",
              "      }\n",
              "      const div = document.createElement('div');\n",
              "      const label = document.createElement('label');\n",
              "      label.textContent = `Downloading \"${filename}\": `;\n",
              "      div.appendChild(label);\n",
              "      const progress = document.createElement('progress');\n",
              "      progress.max = size;\n",
              "      div.appendChild(progress);\n",
              "      document.body.appendChild(div);\n",
              "\n",
              "      const buffers = [];\n",
              "      let downloaded = 0;\n",
              "\n",
              "      const channel = await google.colab.kernel.comms.open(id);\n",
              "      // Send a message to notify the kernel that we're ready.\n",
              "      channel.send({})\n",
              "\n",
              "      for await (const message of channel.messages) {\n",
              "        // Send a message to notify the kernel that we're ready.\n",
              "        channel.send({})\n",
              "        if (message.buffers) {\n",
              "          for (const buffer of message.buffers) {\n",
              "            buffers.push(buffer);\n",
              "            downloaded += buffer.byteLength;\n",
              "            progress.value = downloaded;\n",
              "          }\n",
              "        }\n",
              "      }\n",
              "      const blob = new Blob(buffers, {type: 'application/binary'});\n",
              "      const a = document.createElement('a');\n",
              "      a.href = window.URL.createObjectURL(blob);\n",
              "      a.download = filename;\n",
              "      div.appendChild(a);\n",
              "      a.click();\n",
              "      div.remove();\n",
              "    }\n",
              "  "
            ]
          },
          "metadata": {}
        },
        {
          "output_type": "display_data",
          "data": {
            "text/plain": [
              "<IPython.core.display.Javascript object>"
            ],
            "application/javascript": [
              "download(\"download_8a93c2c2-ffd3-4859-8952-028bab088cf3\", \"example.txt\", 72)"
            ]
          },
          "metadata": {}
        }
      ]
    },
    {
      "cell_type": "markdown",
      "source": [
        "### **6. Working with File Paths**\n",
        "\n",
        "Colab's file system is Linux-based, so you can use typical Linux commands and Python's `os` module to navigate and manipulate files and directories:\n",
        "\n",
        "```python\n",
        "import os\n",
        "\n",
        "# Check the current working directory\n",
        "print(\"Current Directory:\", os.getcwd())\n",
        "\n",
        "# List files in the current directory\n",
        "print(\"Files in Current Directory:\", os.listdir())\n",
        "\n",
        "# Create a new directory\n",
        "os.mkdir(\"new_folder\")\n",
        "print(\"New Directory Created.\")\n",
        "\n",
        "# Move the file into the new directory\n",
        "os.rename(filename, \"new_folder/\" + filename)\n",
        "print(f\"{filename} moved to new_folder/\")\n",
        "```\n",
        "\n",
        "---"
      ],
      "metadata": {
        "id": "UaN0BG5yNb6_"
      }
    },
    {
      "cell_type": "code",
      "source": [
        "import os\n",
        "\n",
        "# Check the current working directory\n",
        "print(\"Current Directory:\", os.getcwd())\n",
        "\n",
        "# List files in the current directory\n",
        "print(\"Files in Current Directory:\", os.listdir())\n",
        "\n",
        "# Create a new directory\n",
        "os.mkdir(\"new_folder\")\n",
        "print(\"New Directory Created.\")\n",
        "\n",
        "# Move the file into the new directory\n",
        "os.rename(filename, \"new_folder/\" + filename)\n",
        "print(f\"{filename} moved to new_folder/\")"
      ],
      "metadata": {
        "colab": {
          "base_uri": "https://localhost:8080/"
        },
        "id": "3yBPjhvljUt_",
        "outputId": "2e9ac20d-ce11-49b7-b609-dc6f8e8e4ebc"
      },
      "execution_count": null,
      "outputs": [
        {
          "output_type": "stream",
          "name": "stdout",
          "text": [
            "Current Directory: /content\n",
            "Files in Current Directory: ['.config', 'mispah-landing-page.tsx', 'example.txt', '.ipynb_checkpoints', 'sample_data']\n",
            "New Directory Created.\n",
            "example.txt moved to new_folder/\n"
          ]
        }
      ]
    },
    {
      "cell_type": "markdown",
      "source": [
        "##**Basic File Operations**\n",
        "\n"
      ],
      "metadata": {
        "id": "gICc2BsaSBNh"
      }
    },
    {
      "cell_type": "markdown",
      "source": [
        "### **1. Checking if a File Exists**\n",
        "\n",
        "Before performing operations on a file, it's often useful to check if the file exists. You can do this using the `os.path.exists()` function.\n",
        "\n",
        "```python\n",
        "import os\n",
        "\n",
        "filename = \"example.txt\"\n",
        "\n",
        "# Check if the file exists\n",
        "if os.path.exists(filename):\n",
        "    print(f\"{filename} exists.\")\n",
        "else:\n",
        "    print(f\"{filename} does not exist.\")\n",
        "```\n",
        "\n"
      ],
      "metadata": {
        "id": "s7d1LkrDSL-u"
      }
    },
    {
      "cell_type": "code",
      "source": [
        "import os\n",
        "\n",
        "filename = \"new_folder/example.txt\"\n",
        "\n",
        "# Check if the file exists\n",
        "if os.path.exists(filename):\n",
        "    print(f\"{filename} exists.\")\n",
        "else:\n",
        "    print(f\"{filename} does not exist.\")"
      ],
      "metadata": {
        "colab": {
          "base_uri": "https://localhost:8080/"
        },
        "id": "4YxJi6AMj96L",
        "outputId": "f4d9d55e-c98f-40d7-c91d-fe63c5b764b3"
      },
      "execution_count": null,
      "outputs": [
        {
          "output_type": "stream",
          "name": "stdout",
          "text": [
            "new_folder/example.txt exists.\n"
          ]
        }
      ]
    },
    {
      "cell_type": "markdown",
      "source": [
        "### **2. Deleting a File**\n",
        "\n",
        "To delete a file, you can use the `os.remove()` function. Be careful with this operation as it will permanently remove the file.\n",
        "\n",
        "```python\n",
        "import os\n",
        "\n",
        "# Delete the file\n",
        "if os.path.exists(filename):\n",
        "    os.remove(filename)\n",
        "    print(f\"{filename} has been deleted.\")\n",
        "else:\n",
        "    print(f\"{filename} does not exist.\")\n",
        "```\n",
        "\n"
      ],
      "metadata": {
        "id": "QMT7niCnSQEn"
      }
    },
    {
      "cell_type": "markdown",
      "source": [
        "### **3. Renaming a File**\n",
        "\n",
        "You can rename a file using the `os.rename()` function. This is useful if you want to change the name of an existing file.\n",
        "\n",
        "```python\n",
        "old_filename = \"example.txt\"\n",
        "new_filename = \"renamed_example.txt\"\n",
        "\n",
        "# Rename the file\n",
        "if os.path.exists(old_filename):\n",
        "    os.rename(old_filename, new_filename)\n",
        "    print(f\"{old_filename} has been renamed to {new_filename}.\")\n",
        "else:\n",
        "    print(f\"{old_filename} does not exist.\")\n",
        "```\n",
        "\n"
      ],
      "metadata": {
        "id": "21dOI-KASSzU"
      }
    },
    {
      "cell_type": "markdown",
      "source": [
        "### **4. Creating a Directory**\n",
        "\n",
        "To create a new directory (folder), you can use the `os.mkdir()` function. This is useful for organizing files into different folders.\n",
        "\n",
        "```python\n",
        "# Create a new directory\n",
        "new_dir = \"my_folder\"\n",
        "\n",
        "if not os.path.exists(new_dir):\n",
        "    os.mkdir(new_dir)\n",
        "    print(f\"Directory {new_dir} created.\")\n",
        "else:\n",
        "    print(f\"Directory {new_dir} already exists.\")\n",
        "```\n",
        "\n"
      ],
      "metadata": {
        "id": "mChEQDV7SVr5"
      }
    },
    {
      "cell_type": "markdown",
      "source": [
        "### **5. Removing a Directory**\n",
        "\n",
        "To remove a directory, you can use the `os.rmdir()` function. Note that the directory must be empty before it can be removed.\n",
        "\n",
        "```python\n",
        "# Remove a directory\n",
        "if os.path.exists(new_dir):\n",
        "    os.rmdir(new_dir)\n",
        "    print(f\"Directory {new_dir} has been removed.\")\n",
        "else:\n",
        "    print(f\"Directory {new_dir} does not exist.\")\n",
        "```\n",
        "\n"
      ],
      "metadata": {
        "id": "S2ANbwbVSYKQ"
      }
    },
    {
      "cell_type": "markdown",
      "source": [
        "### **6. Listing Files in a Directory**\n",
        "\n",
        "To list all files and directories in a specified directory, you can use `os.listdir()`.\n",
        "\n",
        "```python\n",
        "# List files in a directory\n",
        "directory = \".\"\n",
        "files = os.listdir(directory)\n",
        "\n",
        "print(f\"Files in {directory}:\")\n",
        "for file in files:\n",
        "    print(file)\n",
        "```\n",
        "\n"
      ],
      "metadata": {
        "id": "wTV5N66qSagV"
      }
    },
    {
      "cell_type": "markdown",
      "source": [
        "### **7. Reading a File Line by Line**\n",
        "\n",
        "Sometimes, you may want to read a file line by line instead of reading the entire content at once. This can be done using a loop.\n",
        "\n",
        "```python\n",
        "# Writing sample content to a file\n",
        "with open(\"sample.txt\", \"w\") as file:\n",
        "    file.write(\"First line\\nSecond line\\nThird line\\n\")\n",
        "\n",
        "# Reading the file line by line\n",
        "with open(\"sample.txt\", \"r\") as file:\n",
        "    for line in file:\n",
        "        print(line.strip())  # strip() is used to remove the newline character\n",
        "```\n",
        "\n"
      ],
      "metadata": {
        "id": "RKu4_45PSdOV"
      }
    },
    {
      "cell_type": "markdown",
      "source": [
        "### **8. Copying a File**\n",
        "\n",
        "To copy a file from one location to another, you can use the `shutil` module.\n",
        "\n",
        "```python\n",
        "import shutil\n",
        "\n",
        "source = \"sample.txt\"\n",
        "destination = \"copy_of_sample.txt\"\n",
        "\n",
        "# Copy the file\n",
        "shutil.copy(source, destination)\n",
        "print(f\"Copied {source} to {destination}.\")\n",
        "```\n",
        "\n"
      ],
      "metadata": {
        "id": "9QDeWhkHSjL6"
      }
    },
    {
      "cell_type": "markdown",
      "source": [
        "### **9. Moving a File**\n",
        "\n",
        "To move a file from one location to another, you can use the `shutil.move()` function. This will also rename the file if the destination has a different name.\n",
        "\n",
        "```python\n",
        "source = \"copy_of_sample.txt\"\n",
        "destination = \"my_folder/copy_of_sample.txt\"\n",
        "\n",
        "# Move the file\n",
        "if not os.path.exists(\"my_folder\"):\n",
        "    os.mkdir(\"my_folder\")\n",
        "    \n",
        "shutil.move(source, destination)\n",
        "print(f\"Moved {source} to {destination}.\")\n",
        "```\n"
      ],
      "metadata": {
        "id": "HOhhOaTWSlmY"
      }
    },
    {
      "cell_type": "markdown",
      "source": [
        "## **Assignments and Solutions**\n",
        "\n",
        "#### **1. Assignments**\n",
        "\n",
        "---\n",
        "\n",
        "**Assignment 1: Working with Modules**\n",
        "\n",
        "**Task:** Create a Python module named `math_utils.py` in Google Colab that contains the following functions:\n",
        "- `add(a, b)`: Returns the sum of `a` and `b`.\n",
        "- `subtract(a, b)`: Returns the difference between `a` and `b`.\n",
        "- `multiply(a, b)`: Returns the product of `a` and `b`.\n",
        "- `divide(a, b)`: Returns the quotient of `a` and `b`, handling division by zero.\n",
        "\n",
        "**Instructions:**\n",
        "1. Create the module `math_utils.py`.\n",
        "2. Import the module into your Colab notebook.\n",
        "3. Use the functions from the module to perform calculations.\n",
        "\n",
        "**Solution:**\n",
        "\n",
        "```python\n",
        "# Create a new file named math_utils.py\n",
        "with open('math_utils.py', 'w') as f:\n",
        "    f.write(\"\"\"\n",
        "def add(a, b):\n",
        "    return a + b\n",
        "\n",
        "def subtract(a, b):\n",
        "    return a - b\n",
        "\n",
        "def multiply(a, b):\n",
        "    return a * b\n",
        "\n",
        "def divide(a, b):\n",
        "    if b == 0:\n",
        "        return \"Cannot divide by zero\"\n",
        "    return a / b\n",
        "\"\"\")\n",
        "\n",
        "# Import the module\n",
        "import math_utils\n",
        "\n",
        "# Use the functions\n",
        "print(math_utils.add(10, 5))       # Output: 15\n",
        "print(math_utils.subtract(10, 5))  # Output: 5\n",
        "print(math_utils.multiply(10, 5))  # Output: 50\n",
        "print(math_utils.divide(10, 5))    # Output: 2.0\n",
        "print(math_utils.divide(10, 0))    # Output: Cannot divide by zero\n",
        "```\n",
        "\n",
        "---\n",
        "\n",
        "**Assignment 2: Creating and Using a Python Package**\n",
        "\n",
        "**Task:** Create a Python package named `mypackage` with two modules:\n",
        "- `calculator.py` with functions for addition and subtraction.\n",
        "- `utils.py` with a function to capitalize text.\n",
        "\n",
        "**Instructions:**\n",
        "1. Create a package directory structure with `mypackage`, `calculator.py`, `utils.py`, and `__init__.py`.\n",
        "2. Use the package in your Colab notebook to perform operations.\n",
        "\n",
        "**Solution:**\n",
        "\n",
        "```python\n",
        "# Create the package directory structure\n",
        "import os\n",
        "\n",
        "os.makedirs('mypackage', exist_ok=True)\n",
        "\n",
        "# Create calculator.py\n",
        "with open('mypackage/calculator.py', 'w') as f:\n",
        "    f.write(\"\"\"\n",
        "def add(a, b):\n",
        "    return a + b\n",
        "\n",
        "def subtract(a, b):\n",
        "    return a - b\n",
        "\"\"\")\n",
        "\n",
        "# Create utils.py\n",
        "with open('mypackage/utils.py', 'w') as f:\n",
        "    f.write(\"\"\"\n",
        "def capitalize_text(text):\n",
        "    return text.upper()\n",
        "\"\"\")\n",
        "\n",
        "# Create __init__.py\n",
        "with open('mypackage/__init__.py', 'w') as f:\n",
        "    f.write(\"\")\n",
        "\n",
        "# Import the package and use the modules\n",
        "from mypackage import calculator, utils\n",
        "\n",
        "# Use functions from calculator module\n",
        "print(calculator.add(4, 3))           # Output: 7\n",
        "print(calculator.subtract(10, 3))     # Output: 7\n",
        "\n",
        "# Use function from utils module\n",
        "print(utils.capitalize_text(\"hello\")) # Output: HELLO\n",
        "```\n",
        "\n",
        "---\n",
        "\n",
        "**Assignment 3: Using PIP in Google Colab**\n",
        "\n",
        "**Task:** Install a package using PIP, use it in your notebook, and demonstrate its functionality.\n",
        "\n",
        "**Instructions:**\n",
        "1. Install a package, for example, `numpy`.\n",
        "2. Import the package and use it to perform a simple operation.\n",
        "\n",
        "**Solution:**\n",
        "\n",
        "```python\n",
        "# Install numpy package\n",
        "!pip install numpy\n",
        "\n",
        "# Import numpy and use it\n",
        "import numpy as np\n",
        "\n",
        "# Create an array and perform an operation\n",
        "array = np.array([1, 2, 3, 4, 5])\n",
        "mean_value = np.mean(array)\n",
        "\n",
        "print(\"Array:\", array)         # Output: Array: [1 2 3 4 5]\n",
        "print(\"Mean value:\", mean_value) # Output: Mean value: 3.0\n",
        "```\n",
        "\n",
        "---\n",
        "\n",
        "**Assignment 4: String Operations and Formatting**\n",
        "\n",
        "**Task:** Perform various string operations and formatting in Python.\n",
        "\n",
        "**Instructions:**\n",
        "1. Create a string.\n",
        "2. Perform concatenation, slicing, and use string methods like `replace()` and `split()`.\n",
        "3. Format strings using `format()` and f-strings.\n",
        "\n",
        "**Solution:**\n",
        "\n",
        "```python\n",
        "# Create a string\n",
        "text = \"  Python Programming is Fun!  \"\n",
        "\n",
        "# Perform operations\n",
        "concatenated_text = text + \" Let's learn more.\"\n",
        "sliced_text = text[0:18]\n",
        "replaced_text = text.replace(\"Fun\", \"Awesome\")\n",
        "split_text = text.split()\n",
        "\n",
        "# Formatting\n",
        "formatted_text = \"Length of the string: {}\".format(len(text))\n",
        "f_string = f\"Uppercase: {text.upper()}\"\n",
        "\n",
        "print(\"Concatenated text:\", concatenated_text)    # Output: Concatenated text:   Python Programming is Fun!  Let's learn more.\n",
        "print(\"Sliced text:\", sliced_text)                # Output: Sliced text:   Python Programming\n",
        "print(\"Replaced text:\", replaced_text)            # Output: Replaced text:   Python Programming is Awesome!  \n",
        "print(\"Split text:\", split_text)                  # Output: Split text: ['Python', 'Programming', 'is', 'Fun!']\n",
        "print(formatted_text)                             # Output: Length of the string: 32\n",
        "print(f_string)                                   # Output: Uppercase:   PYTHON PROGRAMMING IS FUN!  \n",
        "```\n",
        "\n",
        "---\n",
        "\n",
        "These assignments cover practical use cases of modules, packages, PIP, and string operations, providing hands-on experience in organizing code, managing dependencies, and manipulating text."
      ],
      "metadata": {
        "id": "VC5mE7p-xxqW"
      }
    },
    {
      "cell_type": "code",
      "source": [],
      "metadata": {
        "id": "39lbDl96A6K8"
      },
      "execution_count": null,
      "outputs": []
    },
    {
      "cell_type": "code",
      "execution_count": null,
      "metadata": {
        "id": "EpHPQVIb9XIE"
      },
      "outputs": [],
      "source": []
    }
  ]
}